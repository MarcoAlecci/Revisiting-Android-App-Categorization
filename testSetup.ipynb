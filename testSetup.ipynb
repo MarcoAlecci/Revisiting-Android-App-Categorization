{
 "cells": [
  {
   "cell_type": "markdown",
   "metadata": {},
   "source": [
    "## 🧪 Test Setup\n",
    "\n",
    "A notebook to test if everything was set up correctly.\n",
    "\n",
    "1. Load the Dataset\n",
    "1. Test *.env* file.\n",
    "1. Test AndroZoo API.\n",
    "1. Test OpenAI API."
   ]
  },
  {
   "cell_type": "code",
   "execution_count": null,
   "metadata": {},
   "outputs": [],
   "source": [
    "from dotenv   import load_dotenv\n",
    "import pandas as pd\n",
    "import openai\n",
    "import requests\n",
    "import os"
   ]
  },
  {
   "cell_type": "markdown",
   "metadata": {},
   "source": [
    "### 1) 🗂️ Dataset"
   ]
  },
  {
   "cell_type": "code",
   "execution_count": null,
   "metadata": {},
   "outputs": [],
   "source": [
    "# AndroCatSet\n",
    "INPUT_PATH  = \"./0_Data/CSV/0_AndroCatSet.csv\"\n",
    "appsDF = pd.read_csv(INPUT_PATH, index_col=False)\n",
    "print(\"#️⃣ Apps: {}\".format(appsDF.shape[0]))\n",
    "appsDF.head(3)"
   ]
  },
  {
   "cell_type": "code",
   "execution_count": null,
   "metadata": {},
   "outputs": [],
   "source": [
    "# AndroCatSet TEST Version\n",
    "INPUT_PATH  = \"./0_Data/CSV/1_AndroCatSet_MiniTEST.csv\"\n",
    "appsDF = pd.read_csv(INPUT_PATH, index_col=False)\n",
    "print(\"#️⃣ Apps: {}\".format(appsDF.shape[0]))\n",
    "appsDF.head(3)"
   ]
  },
  {
   "cell_type": "markdown",
   "metadata": {},
   "source": [
    "### 2) 🔑 Environment File (.env)"
   ]
  },
  {
   "cell_type": "code",
   "execution_count": null,
   "metadata": {},
   "outputs": [],
   "source": [
    "# Load environment variables from .env file\n",
    "load_dotenv()\n",
    "\n",
    "# Check if the .env file is available\n",
    "if not os.path.isfile('.env'):\n",
    "    print(\"❌The .env file is not available.\")\n",
    "else:\n",
    "    # Check for API keys\n",
    "    androzooApiKey = os.getenv('ANDROZOO_API_KEY')\n",
    "    openaiApiKey   = os.getenv('OPENAI_API_KEY')\n",
    "\n",
    "    # Check if ANDROZOO_API_KEY is missing\n",
    "    if androzooApiKey is None:\n",
    "        print(\"🔑❌ ANDROZOO_API_KEY is missing.\")\n",
    "    \n",
    "    # Check if OPENAI_API_KEY is missing\n",
    "    if openaiApiKey is None:\n",
    "        print(\"🔑❌ OPENAI_API_KEY is missing.\")"
   ]
  },
  {
   "cell_type": "markdown",
   "metadata": {},
   "source": [
    "### 3) 🛠️ AndroZoo API"
   ]
  },
  {
   "cell_type": "code",
   "execution_count": null,
   "metadata": {},
   "outputs": [],
   "source": [
    "# Select an APK\n",
    "sha256 = appsDF.loc[0,'sha256']"
   ]
  },
  {
   "cell_type": "code",
   "execution_count": null,
   "metadata": {},
   "outputs": [],
   "source": [
    "# Download APK from Androzoo\n",
    "apkUrl = \"https://androzoo.uni.lu/api/download?apikey={}&sha256={}\".format(androzooApiKey, sha256)\n",
    "req = requests.get(apkUrl, allow_redirects=True)\n",
    "open('{}.apk'.format(sha256), \"wb\").write(req.content)\n",
    "print(\"✅ App Downloaded Correctly\")"
   ]
  },
  {
   "cell_type": "code",
   "execution_count": null,
   "metadata": {},
   "outputs": [],
   "source": [
    "# Remove APK File\n",
    "os.remove('{}.apk'.format(sha256))\n",
    "print(\"🗑️ App Removed Correctly\")"
   ]
  },
  {
   "cell_type": "markdown",
   "metadata": {},
   "source": [
    "### 4) 🛠️ OpenAI API"
   ]
  },
  {
   "cell_type": "code",
   "execution_count": null,
   "metadata": {},
   "outputs": [],
   "source": [
    "# Set the API Key\n",
    "client = openai.OpenAI(\n",
    "        api_key=os.environ.get(openaiApiKey),\n",
    ")\n",
    "\n",
    "response = client.chat.completions.create(\n",
    "        messages = [\n",
    "            {\n",
    "                \"role\": \"user\",\n",
    "                \"content\": \"Hello there!\",\n",
    "            }\n",
    "        ],\n",
    "        model =\"gpt-3.5-turbo-1106\",\n",
    "    )\n",
    "\n",
    "print(\"😃 ChatGPT: \" + response.choices[0].message.content)"
   ]
  }
 ],
 "metadata": {
  "kernelspec": {
   "display_name": "Python 3",
   "language": "python",
   "name": "python3"
  },
  "language_info": {
   "codemirror_mode": {
    "name": "ipython",
    "version": 3
   },
   "file_extension": ".py",
   "mimetype": "text/x-python",
   "name": "python",
   "nbconvert_exporter": "python",
   "pygments_lexer": "ipython3",
   "version": "3.8.10"
  }
 },
 "nbformat": 4,
 "nbformat_minor": 2
}
