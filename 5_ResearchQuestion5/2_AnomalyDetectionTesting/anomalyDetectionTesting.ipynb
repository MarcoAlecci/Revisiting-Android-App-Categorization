{
 "cells": [
  {
   "attachments": {},
   "cell_type": "markdown",
   "metadata": {},
   "source": [
    "## ⛏️ RQ5 - Malicious Dataset - Restricted APIs - Testing (500 Malicious + 500 Benign)"
   ]
  },
  {
   "cell_type": "markdown",
   "metadata": {},
   "source": [
    "#### Imports"
   ]
  },
  {
   "cell_type": "code",
   "execution_count": null,
   "metadata": {},
   "outputs": [],
   "source": [
    "#IMPORT\n",
    "from    sklearn.feature_extraction.text     import CountVectorizer\n",
    "from    tqdm                                import tqdm\n",
    "from    sklearn.svm                         import OneClassSVM\n",
    "from    joblib                              import dump, load\n",
    "import  pandas                              as pd\n",
    "import  numpy                               as np\n",
    "import  redis\n",
    "import  itertools\n",
    "import  ast\n",
    "import  os\n",
    "import  shutil"
   ]
  },
  {
   "cell_type": "code",
   "execution_count": null,
   "metadata": {},
   "outputs": [],
   "source": [
    "# Initialize TQDM library for Pandas\n",
    "tqdm.pandas()"
   ]
  },
  {
   "cell_type": "code",
   "execution_count": null,
   "metadata": {},
   "outputs": [],
   "source": [
    "print(\"⚡ START ⚡\\n\")"
   ]
  },
  {
   "attachments": {},
   "cell_type": "markdown",
   "metadata": {},
   "source": [
    "#### Data Paths & Constant Values"
   ]
  },
  {
   "cell_type": "code",
   "execution_count": null,
   "metadata": {},
   "outputs": [],
   "source": [
    "# FIXED PATHS\n",
    "INPUT_PATH  = \"../../0_Data/CSV/RQ5/4c_AppRestrictedApiData.csv\"\n",
    "\n",
    "# Approaches\n",
    "APPROACHES = [\"1b_Chabada\", \"2a_Gcata\"]"
   ]
  },
  {
   "cell_type": "code",
   "execution_count": null,
   "metadata": {},
   "outputs": [],
   "source": [
    "# Random Seed for Reproducibility.\n",
    "RANDOM_SEED = 151836"
   ]
  },
  {
   "attachments": {},
   "cell_type": "markdown",
   "metadata": {},
   "source": [
    "### 1. Load Data"
   ]
  },
  {
   "cell_type": "code",
   "execution_count": null,
   "metadata": {},
   "outputs": [],
   "source": [
    "appsDF = pd.read_csv(INPUT_PATH, index_col=False)\n",
    "print(\"#️⃣ Apps: {}\".format(appsDF.shape[0]))\n",
    "\n",
    "appsDF.head(3)"
   ]
  },
  {
   "cell_type": "code",
   "execution_count": null,
   "metadata": {},
   "outputs": [],
   "source": [
    "print(\"\\n🔨 Reading data as lists\")\n",
    "appsDF['apisList'] = appsDF['apisList'].progress_apply(ast.literal_eval) \n",
    "\n",
    "print(\"\\n🔨 Order the lists\")\n",
    "appsDF['apisList'] = appsDF['apisList'].progress_apply(lambda lst: sorted(lst))"
   ]
  },
  {
   "cell_type": "markdown",
   "metadata": {},
   "source": [
    "### 2. Add CHABADA and New Appproach Clustering Labels"
   ]
  },
  {
   "cell_type": "code",
   "execution_count": null,
   "metadata": {},
   "outputs": [],
   "source": [
    "inputDF = pd.read_csv(\"../../0_Data/CSV/RQ1/1b_ChabadaClusteringLabels.csv\", index_col=False)\n",
    "appsDF = pd.concat([appsDF, inputDF['clusterID']], axis=1)\n",
    "appsDF = appsDF.rename(columns={'clusterID': \"Chabada\"})\n",
    "\n",
    "inputDF = pd.read_csv(\"../../0_Data/CSV/RQ2/2a_GcataClusteringLabels.csv\", index_col=False)\n",
    "appsDF = pd.concat([appsDF, inputDF['clusterID']], axis=1)\n",
    "appsDF = appsDF.rename(columns={'clusterID': \"Gcata\"})"
   ]
  },
  {
   "cell_type": "code",
   "execution_count": null,
   "metadata": {},
   "outputs": [],
   "source": [
    "# Add a column\n",
    "appsDF['isMalicious'] = False\n",
    "\n",
    "# Reorder columns\n",
    "appsDF = appsDF[['sha256','isMalicious', 'classID','Chabada','Gcata','apisList']]\n",
    "\n",
    "# Rename the columns using the dictionary\n",
    "appsDF = appsDF.rename(columns = {'classID': 'groundTruth'})\n"
   ]
  },
  {
   "cell_type": "code",
   "execution_count": null,
   "metadata": {},
   "outputs": [],
   "source": [
    "appsDF.head(3)"
   ]
  },
  {
   "cell_type": "markdown",
   "metadata": {},
   "source": [
    "### 3. Add malicious apps"
   ]
  },
  {
   "cell_type": "code",
   "execution_count": null,
   "metadata": {},
   "outputs": [],
   "source": [
    "maliciousDF =  pd.read_csv(\"../../0_Data/CSV/RQ5/5_MaliciousDatasetClusteringLabels.csv\", index_col=False)\n",
    "print(\"#️⃣ Malicious Apps: {}\".format(maliciousDF.shape[0]))\n",
    "\n",
    "print(\"\\n🔨 1. Reading data as lists\")\n",
    "maliciousDF['apisList'] = maliciousDF['apisList'].progress_apply(ast.literal_eval) \n",
    "\n",
    "print(\"\\n🔨 2. Order the lists\")\n",
    "maliciousDF['apisList'] = maliciousDF['apisList'].progress_apply(lambda lst: sorted(lst))\n",
    "\n",
    "maliciousDF.head(3)"
   ]
  },
  {
   "cell_type": "code",
   "execution_count": null,
   "metadata": {},
   "outputs": [],
   "source": [
    "# Random sample 500 malicious apps\n",
    "maliciousDF = maliciousDF.sample(n=500, random_state = RANDOM_SEED)\n",
    "print(\"#️⃣ Malicious Apps: {}\".format(maliciousDF.shape[0]))"
   ]
  },
  {
   "cell_type": "code",
   "execution_count": null,
   "metadata": {},
   "outputs": [],
   "source": [
    "# Concatenating vertically\n",
    "appsDF = pd.concat([appsDF, maliciousDF], ignore_index=True)\n",
    "appsDF.head(3)"
   ]
  },
  {
   "cell_type": "markdown",
   "metadata": {},
   "source": [
    "### 4. Embedding Restricted API as Binary Feature Vectors"
   ]
  },
  {
   "cell_type": "code",
   "execution_count": null,
   "metadata": {},
   "outputs": [],
   "source": [
    "# Create an instance of CountVectorizer to transform the lists into feature vectors\n",
    "vectorizer = CountVectorizer(binary=True, tokenizer=lambda x: x.split('&&&'),token_pattern=None)\n",
    "\n",
    "# Store daata in the DF as numpy arrays\n",
    "appsDF['features'] = list(vectorizer.fit_transform(appsDF['apisList'].apply('&&&'.join)).toarray())\n",
    "print(\"📐 Len features: {}\".format(len(appsDF['features'][0])))\n",
    "\n",
    "appsDF.head(3)"
   ]
  },
  {
   "cell_type": "markdown",
   "metadata": {},
   "source": [
    "### 5. Split into Training Set and Test Set"
   ]
  },
  {
   "cell_type": "code",
   "execution_count": null,
   "metadata": {},
   "outputs": [],
   "source": [
    "goodDF = appsDF[appsDF['isMalicious'] == False]\n",
    "print(\"#️⃣ Apps: {}\".format(goodDF.shape[0]))"
   ]
  },
  {
   "cell_type": "code",
   "execution_count": null,
   "metadata": {},
   "outputs": [],
   "source": [
    "trainingDF = pd.DataFrame()\n",
    "testDF     = pd.DataFrame()\n",
    "\n",
    "for i in range(0, 5000, 100):\n",
    "    trainingRows = goodDF.iloc[i:i+90]\n",
    "    testRows     = goodDF.iloc[i+90:i+100]\n",
    "\n",
    "    # Concatenate the two DataFrames horizontally\n",
    "    trainingDF = pd.concat([trainingDF, trainingRows], ignore_index=True)\n",
    "    testDF = pd.concat([testDF, testRows], ignore_index=True)"
   ]
  },
  {
   "cell_type": "markdown",
   "metadata": {},
   "source": [
    "### 6. Add Malicious TestSet"
   ]
  },
  {
   "cell_type": "code",
   "execution_count": null,
   "metadata": {},
   "outputs": [],
   "source": [
    "maliciousTestDF = appsDF[appsDF['isMalicious'] == True]\n",
    "print(\"#️⃣ Malicious Apps: {}\".format(maliciousTestDF.shape[0]))"
   ]
  },
  {
   "cell_type": "markdown",
   "metadata": {},
   "source": [
    "### 7. Testing OCSVM - 500 Good apps (TN/FP)"
   ]
  },
  {
   "cell_type": "code",
   "execution_count": null,
   "metadata": {},
   "outputs": [],
   "source": [
    "MODEL_PATH = \"../../0_Data/CSV/RQ5/Models/\"\n",
    "APPROACHES = [\"Chabada\", \"Gcata\"]"
   ]
  },
  {
   "cell_type": "code",
   "execution_count": null,
   "metadata": {},
   "outputs": [],
   "source": [
    "def testingGroupedByCluster(testDF, columnName):\n",
    "\n",
    "    print(\"\\n⭐ RESULTS - {}\".format(columnName))\n",
    "\n",
    "    totalOutliers = 0\n",
    "\n",
    "    # For each category train a model\n",
    "    for classID, typeDF in testDF.groupby(columnName):\n",
    "\n",
    "        #print(\"\\n🏷️ Testing : {}\".format(classID))\n",
    "        \n",
    "        # Get the features as a list\n",
    "        X = np.stack(typeDF['features'].values)\n",
    "        #print(\"#️⃣ Num apps: {}\".format(len(X)))\n",
    "\n",
    "        # Load the model\n",
    "        model = load(MODEL_PATH + '{}/OCSVM_{}.joblib'.format(columnName, int(classID)))\n",
    "\n",
    "        # Get outliers\n",
    "        Y = model.predict(X)\n",
    "        numOutliers = np.count_nonzero(Y == -1)\n",
    "\n",
    "        # Update the total number of outliers\n",
    "        totalOutliers += numOutliers\n",
    "\n",
    "    # Print the total number of outliers\n",
    "    print(\"#️⃣ Outliers: {}\".format(totalOutliers))\n",
    "\n",
    "    # Get statistiscs\n",
    "    numApps = testDF.shape[0]\n",
    "    FP      = totalOutliers\n",
    "    TN      = numApps - FP\n",
    "    fpRate  = FP / numApps\n",
    "    tnRate  = TN / numApps\n",
    "\n",
    "    print(\"- FP : {}\".format(FP))\n",
    "    print(\"- TN : {}\".format(TN))\n",
    "\n",
    "    print(\"- TN Rate: {:.2%}\".format(tnRate))\n",
    "    print(\"- FP Rate: {:.2%}\".format(fpRate))"
   ]
  },
  {
   "cell_type": "code",
   "execution_count": null,
   "metadata": {},
   "outputs": [],
   "source": [
    "print(\"⭐ TESTING ⭐\")\n",
    "\n",
    "for approach in APPROACHES:\n",
    "    testingGroupedByCluster(testDF, approach)"
   ]
  },
  {
   "cell_type": "markdown",
   "metadata": {},
   "source": [
    "### 5) Testing OSCVM - 500 Malicious apps (TP/FN)"
   ]
  },
  {
   "cell_type": "code",
   "execution_count": null,
   "metadata": {},
   "outputs": [],
   "source": [
    "MODEL_PATH = \"../../0_Data/CSV/RQ5/Models/\"\n",
    "APPROACHES = [\"Chabada\", \"Gcata\"]"
   ]
  },
  {
   "cell_type": "code",
   "execution_count": null,
   "metadata": {},
   "outputs": [],
   "source": [
    "def testingMaliciousGroupedByCluster(testDF, columnName):\n",
    "\n",
    "    print(\"\\n⭐ RESULTS - {}\".format(columnName))\n",
    "\n",
    "    totalOutliers = 0\n",
    "\n",
    "    # For each category train a model\n",
    "    for classID, typeDF in testDF.groupby(columnName):\n",
    "\n",
    "        #print(\"\\n🏷️ Testing : {}\".format(classID))\n",
    "        \n",
    "        # Get the features as a list\n",
    "        X = np.stack(typeDF['features'].values)\n",
    "\n",
    "        # Load the model\n",
    "        model = load(MODEL_PATH + '{}/OCSVM_{}.joblib'.format(columnName, int(classID)))\n",
    "\n",
    "        # Get outliers\n",
    "        Y = model.predict(X)\n",
    "        numOutliers = np.count_nonzero(Y == -1)\n",
    "\n",
    "        # Update the total number of outliers\n",
    "        totalOutliers += numOutliers\n",
    "\n",
    "    # Print the total number of outliers\n",
    "    print(\"#️⃣ Outliers: {}\".format(totalOutliers))\n",
    "\n",
    "    # Get statistiscs\n",
    "    numApps = testDF.shape[0]\n",
    "    TP      = totalOutliers\n",
    "    FN      = numApps - TP\n",
    "    tpRate  = TP / numApps\n",
    "    fnRate  = FN / numApps\n",
    "\n",
    "    print(\"- FN : {}\".format(FN))\n",
    "    print(\"- TP : {}\".format(TP))\n",
    "\n",
    "    print(\"- FN Rate: {:.2%}\".format(fnRate))\n",
    "    print(\"- TP Rate: {:.2%}\".format(tpRate))"
   ]
  },
  {
   "cell_type": "code",
   "execution_count": null,
   "metadata": {},
   "outputs": [],
   "source": [
    "print(\"⭐ TESTING ⭐\")\n",
    "\n",
    "for approach in APPROACHES:\n",
    "    testingMaliciousGroupedByCluster(maliciousTestDF, approach)"
   ]
  },
  {
   "cell_type": "code",
   "execution_count": null,
   "metadata": {},
   "outputs": [],
   "source": [
    "print(\"\\n🔚 END \\n\")"
   ]
  }
 ],
 "metadata": {
  "kernelspec": {
   "display_name": "Python 3",
   "language": "python",
   "name": "python3"
  },
  "language_info": {
   "codemirror_mode": {
    "name": "ipython",
    "version": 3
   },
   "file_extension": ".py",
   "mimetype": "text/x-python",
   "name": "python",
   "nbconvert_exporter": "python",
   "pygments_lexer": "ipython3",
   "version": "3.8.10"
  },
  "orig_nbformat": 4,
  "vscode": {
   "interpreter": {
    "hash": "31f2aee4e71d21fbe5cf8b01ff0e069b9275f58929596ceb00d14d90e3e16cd6"
   }
  }
 },
 "nbformat": 4,
 "nbformat_minor": 2
}
