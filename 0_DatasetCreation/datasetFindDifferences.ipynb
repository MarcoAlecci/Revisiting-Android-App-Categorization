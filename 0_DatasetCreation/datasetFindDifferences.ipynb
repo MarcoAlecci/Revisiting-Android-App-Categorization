{
 "cells": [
  {
   "attachments": {},
   "cell_type": "markdown",
   "metadata": {},
   "source": [
    "## ⛏️ Find Differences in Datasets\n",
    "\n",
    "Utility Notebook for Removing Elements from **Dataset B** Already Present in **Dataset A**\n",
    "\n",
    "This utility notebook is designed to remove elements from Dataset B that are already present in Dataset A. It is particularly useful during the manual check process to prevent the addition of duplicate elements."
   ]
  },
  {
   "cell_type": "markdown",
   "metadata": {},
   "source": [
    "#### Import"
   ]
  },
  {
   "cell_type": "code",
   "execution_count": null,
   "metadata": {},
   "outputs": [],
   "source": [
    "# IMPORT\n",
    "import pandas as pd\n",
    "import numpy  as np\n",
    "import os"
   ]
  },
  {
   "cell_type": "code",
   "execution_count": null,
   "metadata": {},
   "outputs": [],
   "source": [
    "print(\"⚡ START ⚡\")"
   ]
  },
  {
   "cell_type": "markdown",
   "metadata": {},
   "source": [
    "#### Parameters"
   ]
  },
  {
   "cell_type": "code",
   "execution_count": null,
   "metadata": {},
   "outputs": [],
   "source": [
    "PATH_A = \"ScrapingOutput/weather/search.csv\"\n",
    "PATH_B = \"ManualCheckOutput/1_weather/1.csv\""
   ]
  },
  {
   "cell_type": "markdown",
   "metadata": {},
   "source": [
    "### Search for differences."
   ]
  },
  {
   "cell_type": "code",
   "execution_count": null,
   "metadata": {},
   "outputs": [],
   "source": [
    "# Read in both CSV files as dataframes\n",
    "dfA = pd.read_csv(PATH_A)\n",
    "dfB = pd.read_csv(PATH_B)\n",
    "\n",
    "# Merge the two dataframes on the specific column\n",
    "mergedDF = pd.merge(dfA, dfB, on='pkgName', how='left', indicator=True)\n",
    "\n",
    "# Filter out rows that are in both dataframes\n",
    "filteredDF = mergedDF[mergedDF['_merge'] == 'left_only'].drop('_merge', axis=1)\n",
    "\n",
    "# Write the filtered dataframe to a new CSV file\n",
    "#filteredDF.to_csv('filtered.csv', index=False)\n",
    "\n",
    "filteredDF"
   ]
  },
  {
   "cell_type": "code",
   "execution_count": null,
   "metadata": {},
   "outputs": [],
   "source": [
    "print(\"\\n🔚 END\")"
   ]
  }
 ],
 "metadata": {
  "kernelspec": {
   "display_name": "Python 3",
   "language": "python",
   "name": "python3"
  },
  "language_info": {
   "codemirror_mode": {
    "name": "ipython",
    "version": 3
   },
   "file_extension": ".py",
   "mimetype": "text/x-python",
   "name": "python",
   "nbconvert_exporter": "python",
   "pygments_lexer": "ipython3",
   "version": "3.8.10"
  },
  "orig_nbformat": 4,
  "vscode": {
   "interpreter": {
    "hash": "31f2aee4e71d21fbe5cf8b01ff0e069b9275f58929596ceb00d14d90e3e16cd6"
   }
  }
 },
 "nbformat": 4,
 "nbformat_minor": 2
}
