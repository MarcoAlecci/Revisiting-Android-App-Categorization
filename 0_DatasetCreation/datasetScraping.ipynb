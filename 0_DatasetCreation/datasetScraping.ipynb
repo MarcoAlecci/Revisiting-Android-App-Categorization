{
 "cells": [
  {
   "attachments": {},
   "cell_type": "markdown",
   "metadata": {},
   "source": [
    "## ⛏️ Dataset Scraping\n",
    "\n",
    "Approach to retrieve apps:\n",
    "1. Search for a keyword on the Google Play Store.\n",
    "1. Repeat the process, changing the ***country*** option of the *google_play_scraper* library.\n",
    "1. Remove duplicates.\n",
    "1. Retrieve additional information from AndroZoo.\n",
    "\n",
    "***Note:*** Manual analysis is required due to some apps that attempt to disguise themselves as something else (e.g., fake calculator apps to hide photos)."
   ]
  },
  {
   "cell_type": "markdown",
   "metadata": {},
   "source": [
    "#### Import"
   ]
  },
  {
   "cell_type": "code",
   "execution_count": null,
   "metadata": {},
   "outputs": [],
   "source": [
    "# IMPORT\n",
    "from    google_play_scraper import search,app\n",
    "from    langdetect          import detect\n",
    "from    tqdm                import tqdm\n",
    "import  pandas              as pd\n",
    "import  numpy               as np\n",
    "import  langdetect\n",
    "import  os"
   ]
  },
  {
   "cell_type": "code",
   "execution_count": null,
   "metadata": {},
   "outputs": [],
   "source": [
    "# Initialize tqdm for pandas.\n",
    "tqdm.pandas()"
   ]
  },
  {
   "cell_type": "code",
   "execution_count": null,
   "metadata": {},
   "outputs": [],
   "source": [
    "print(\"⚡ START ⚡\")"
   ]
  },
  {
   "attachments": {},
   "cell_type": "markdown",
   "metadata": {},
   "source": [
    "#### Parameters"
   ]
  },
  {
   "cell_type": "markdown",
   "metadata": {},
   "source": [
    "The Androzoo CSV file is too large and is continuously updated. For this reason, it must be downloaded from the official website. (https://androzoo.uni.lu/lists)"
   ]
  },
  {
   "cell_type": "code",
   "execution_count": null,
   "metadata": {},
   "outputs": [],
   "source": [
    "ANDROZOO_PATH    = '0_androzoo.csv'\n",
    "ANDROZOO_COLUMNS = ['sha256', 'sha1', 'md5', 'dex_date', 'apk_size', 'pkgName', 'vercode', 'vt_detection', 'vt_scan_date', 'dex_size', 'markets']"
   ]
  },
  {
   "cell_type": "markdown",
   "metadata": {},
   "source": [
    "Parameters to perform the search."
   ]
  },
  {
   "cell_type": "code",
   "execution_count": null,
   "metadata": {},
   "outputs": [],
   "source": [
    "# Keyword to be searched\n",
    "KEYWORD   = \"weather\"\n",
    "\n",
    "# List of countries to be used when searching on Google Play.\n",
    "# 50\n",
    "# COUNTRIES = ['US', 'CA', 'MX', 'GB', 'FR', 'DE', 'IT', 'ES', 'PT', 'NL', 'BE', 'IE', 'CH', 'AT', 'SE', 'NO', 'DK', 'FI', 'IS', 'GR', 'JP', 'CN', 'KR', 'IN', 'RU', 'BR', 'AR', 'CL', 'PE', 'CO', 'SA', 'AE', 'IL', 'EG', 'ZA', 'NG', 'KE', 'AU', 'NZ', 'FJ','KZ', 'UA', 'PL', 'CZ', 'HU', 'SK', 'RO', 'BG', 'HR', 'RS']\n",
    "\n",
    "# 100\n",
    "COUNTRIES  = ['US', 'CA', 'MX', 'GB', 'FR', 'DE', 'IT', 'ES', 'PT', 'NL', 'BE', 'IE', 'CH', 'AT', 'SE', 'NO', 'DK', 'FI', 'IS', 'GR', 'JP', 'CN', 'KR', 'IN', 'RU', 'BR', 'AR', 'CL', 'PE', 'CO', 'SA', 'AE', 'IL', 'EG', 'ZA', 'NG', 'KE', 'AU', 'NZ', 'FJ','KZ', 'UA', 'PL', 'CZ', 'HU', 'SK', 'RO', 'BG', 'HR', 'RS','SI', 'LT', 'LV', 'EE', 'BY', 'MD', 'AZ', 'GE', 'AM', 'UZ', 'TM', 'TJ', 'KG', 'TR', 'CY', 'GR', 'MT', 'VA', 'MC', 'AD', 'LU', 'SM', 'LI', 'FO', 'GL', 'IS', 'AX', 'BZ', 'GT', 'HN', 'SV', 'NI', 'CR', 'PA', 'JM', 'HT', 'DO', 'CU', 'TT', 'BS', 'BB', 'GD', 'AG', 'LC', 'VC', 'DM', 'KN', 'GY', 'SR']\n",
    "\n",
    "# 250\n",
    "# COUNTRIES = ['AF', 'AX', 'AL', 'DZ', 'AS', 'AD', 'AO', 'AI', 'AQ', 'AG', 'AR', 'AM', 'AW', 'AU', 'AT', 'AZ', 'BS', 'BH', 'BD', 'BB', 'BY', 'BE', 'BZ', 'BJ', 'BM', 'BT', 'BO', 'BQ', 'BA', 'BW', 'BV', 'BR', 'IO', 'BN', 'BG', 'BF', 'BI', 'CV', 'KH', 'CM', 'CA', 'KY', 'CF', 'TD', 'CL', 'CN', 'CX', 'CC', 'CO', 'KM', 'CG', 'CD', 'CK', 'CR', 'CI', 'HR', 'CU', 'CW', 'CY', 'CZ', 'DK', 'DJ', 'DM', 'DO', 'EC', 'EG', 'SV', 'GQ', 'ER', 'EE', 'ET', 'FK', 'FO', 'FJ', 'FI', 'FR', 'GF', 'PF', 'TF', 'GA', 'GM', 'GE', 'DE', 'GH', 'GI', 'GR', 'GL', 'GD', 'GP', 'GU', 'GT', 'GG', 'GN', 'GW', 'GY', 'HT', 'HM', 'VA', 'HN', 'HK', 'HU', 'IS', 'IN', 'ID', 'IR', 'IQ', 'IE', 'IM', 'IL', 'IT', 'JM', 'JP', 'JE', 'JO', 'KZ', 'KE', 'KI', 'KP', 'KR', 'KW', 'KG', 'LA', 'LV', 'LB', 'LS', 'LR', 'LY', 'LI', 'LT', 'LU', 'MO', 'MK', 'MG', 'MW', 'MY', 'MV', 'ML', 'MT', 'MH', 'MQ', 'MR', 'MU', 'YT', 'MX', 'FM', 'MD', 'MC', 'MN', 'ME', 'MS', 'MA', 'MZ', 'MM', 'NA', 'NR', 'NP', 'NL', 'NC', 'NZ', 'NI', 'NE', 'NG', 'NU', 'NF', 'MP', 'NO', 'OM', 'PK', 'PW', 'PS', 'PA', 'PG', 'PY', 'PE', 'PH', 'PN', 'PL', 'PT', 'PR', 'QA', 'RE', 'RO', 'RU', 'RW', 'BL', 'SH', 'KN', 'LC', 'MF', 'PM', 'VC', 'WS', 'SM', 'ST', 'SA', 'SN', 'RS', 'SC', 'SL', 'SG', 'SX', 'SK', 'SI', 'SB', 'SO', 'ZA', 'GS', 'SS', 'ES', 'LK', 'SD', 'SR', 'SJ', 'SZ', 'SE', 'CH', 'SY', 'TW', 'TJ', 'TZ', 'TH', 'TL', 'TG', 'TK', 'TO', 'TT', 'TN', 'TR', 'TM', 'TC', 'TV', 'UG', 'UA', 'AE', 'GB', 'US', 'UM', 'UY', 'UZ', 'VU','VE','VN','YE','ZM','ZW']"
   ]
  },
  {
   "cell_type": "markdown",
   "metadata": {},
   "source": [
    "Paths"
   ]
  },
  {
   "cell_type": "code",
   "execution_count": null,
   "metadata": {},
   "outputs": [],
   "source": [
    "# To map categories to categoryID\n",
    "CATEGORIES_PATH    = '2_categoriesMapping.csv'\n",
    "\n",
    "# Output Path\n",
    "SEARCH_OUTPUT_PATH = './ScrapingOutput/{}/search.csv'.format(KEYWORD)"
   ]
  },
  {
   "cell_type": "code",
   "execution_count": null,
   "metadata": {},
   "outputs": [],
   "source": [
    "if not os.path.exists('./ScrapingOutput/{}'.format(KEYWORD)):\n",
    "    os.makedirs('./ScrapingOutput/{}'.format(KEYWORD))"
   ]
  },
  {
   "cell_type": "markdown",
   "metadata": {},
   "source": [
    "### 1. Load Androzoo"
   ]
  },
  {
   "cell_type": "code",
   "execution_count": null,
   "metadata": {},
   "outputs": [],
   "source": [
    "# 1. Load Androzoo\n",
    "androzooDF = pd.read_csv(ANDROZOO_PATH, names=ANDROZOO_COLUMNS)\n",
    "androzooDF = androzooDF.rename(columns={'pkg_name': 'pkgName'})\n",
    "print(\"#️⃣ Apps: {}\\n\".format(androzooDF.shape[0]))"
   ]
  },
  {
   "attachments": {},
   "cell_type": "markdown",
   "metadata": {},
   "source": [
    "### 2. Perform scraping on Google Play"
   ]
  },
  {
   "cell_type": "code",
   "execution_count": null,
   "metadata": {},
   "outputs": [],
   "source": [
    "# Perform search on Google Play given a keyword\n",
    "def searchOnGooglePlayStore(keyword, countries):\n",
    "    # Empty DF\n",
    "    searchDF = pd.DataFrame()\n",
    "\n",
    "    # Search on Google Play Store\n",
    "    print(\"🔍 Searching on Google Play Store\")\n",
    "    for country in countries:\n",
    "        searchDF = pd.concat([searchDF, pd.DataFrame(search(KEYWORD, lang=\"en\", country=country, n_hits=30))])\n",
    "       \n",
    "    print(\"#️⃣ {: <30}: {}\".format(\"Search\", searchDF.shape[0]))\n",
    "    # Clean description\n",
    "    searchDF['description'] = searchDF['description'].str.replace(r\"\\r\\n|\\r|\\n\", ' ', regex=True)\n",
    "\n",
    "    # Remove duplicates\n",
    "    print(\"\\n⛏️ Removing Duplicates\")\n",
    "    searchDF = searchDF.drop_duplicates(subset='appId')\n",
    "    searchDF = searchDF.loc[:, [\"appId\",\"genre\",\"description\"]]\n",
    "    searchDF = searchDF.rename(columns={'appId': 'pkgName'})   \n",
    "    searchDF = searchDF.reset_index()\n",
    "    print(\"#️⃣ {: <30}: {}\".format(\"Duplicates Removed\", searchDF.shape[0]))\n",
    "    \n",
    "    # Remove non english\n",
    "    print(\"\\n⛏️ Removing Non English\")\n",
    "    toDrop = []\n",
    "    for index, row in searchDF.iterrows():\n",
    "        if detect(row['description']) != \"en\":\n",
    "            toDrop.append(index)\n",
    "    searchDF = searchDF.drop(toDrop)\n",
    "    print(\"#️⃣ {: <30}: {}\".format(\"Non English Removed\", searchDF.shape[0]))\n",
    "    \n",
    "    return searchDF\n",
    "\n",
    "# Get info from AndroZoo\n",
    "def getInfoFromAndrozoo(androzooDF, searchDF):\n",
    "\n",
    "    print(\"\\n⛏️ Retrieving info from AndroZoo\")\n",
    "    # Merge the DataFrames\n",
    "    mergedDF = pd.merge(searchDF, androzooDF, on='pkgName', how='inner')\n",
    "\n",
    "    # Reorganize the info\n",
    "\n",
    "    mergedDF = mergedDF.sort_values(by='dex_date', ascending=False)\n",
    "    mergedDF = mergedDF.drop_duplicates(subset='pkgName')\n",
    "    mergedDF = mergedDF[['sha256','pkgName','genre','description']]\n",
    "    mergedDF = mergedDF.set_index(['sha256'])\n",
    "    print(\"#️⃣ {: <30}: {}\".format(\"AndroZoo Info collected\", searchDF.shape[0]))\n",
    "\n",
    "    return mergedDF\n",
    "\n",
    "# Map categories to categoryIDs\n",
    "def mapCategories(searchDF, categoriesDF):\n",
    "    # Create a dict\n",
    "    category_map = dict(zip(categoriesDF['category'], categoriesDF['categoryID']))\n",
    "\n",
    "    # Replace values using the map\n",
    "    searchDF['genre'] = searchDF['genre'].map(category_map)\n",
    "\n",
    "    # Rename\n",
    "    searchDF = searchDF.rename(columns={'genre': 'categoryID'})\n",
    "    return searchDF"
   ]
  },
  {
   "cell_type": "code",
   "execution_count": null,
   "metadata": {},
   "outputs": [],
   "source": [
    "# Search on Google Play Store\n",
    "searchDF = searchOnGooglePlayStore(KEYWORD, COUNTRIES)\n",
    "\n",
    "# Get the remaining info from Androzoo\n",
    "searchDF = getInfoFromAndrozoo(androzooDF, searchDF)\n",
    "\n",
    "# Map the Google Categories to Categories ID\n",
    "categoriesDF = pd.read_csv(CATEGORIES_PATH,index_col=False)\n",
    "searchDF     = mapCategories(searchDF, categoriesDF)"
   ]
  },
  {
   "cell_type": "markdown",
   "metadata": {},
   "source": [
    "### 3. Save Results"
   ]
  },
  {
   "cell_type": "code",
   "execution_count": null,
   "metadata": {},
   "outputs": [],
   "source": [
    "# Save everything\n",
    "searchDF.to_csv(SEARCH_OUTPUT_PATH)"
   ]
  },
  {
   "cell_type": "code",
   "execution_count": null,
   "metadata": {},
   "outputs": [],
   "source": [
    "print(\"\\n🔚 END\")"
   ]
  }
 ],
 "metadata": {
  "kernelspec": {
   "display_name": "Python 3",
   "language": "python",
   "name": "python3"
  },
  "language_info": {
   "codemirror_mode": {
    "name": "ipython",
    "version": 3
   },
   "file_extension": ".py",
   "mimetype": "text/x-python",
   "name": "python",
   "nbconvert_exporter": "python",
   "pygments_lexer": "ipython3",
   "version": "3.8.10"
  },
  "orig_nbformat": 4,
  "vscode": {
   "interpreter": {
    "hash": "31f2aee4e71d21fbe5cf8b01ff0e069b9275f58929596ceb00d14d90e3e16cd6"
   }
  }
 },
 "nbformat": 4,
 "nbformat_minor": 2
}
