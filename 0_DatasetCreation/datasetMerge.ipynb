{
 "cells": [
  {
   "attachments": {},
   "cell_type": "markdown",
   "metadata": {},
   "source": [
    "## ⛏️ Dataset Merge\n",
    "\n",
    "After performing the manual check, this notebook can be used to create the dataset by merging all the subfolders."
   ]
  },
  {
   "cell_type": "markdown",
   "metadata": {},
   "source": [
    "#### Import"
   ]
  },
  {
   "cell_type": "code",
   "execution_count": null,
   "metadata": {},
   "outputs": [],
   "source": [
    "# IMPORT\n",
    "from tqdm      import tqdm\n",
    "import pandas  as pd\n",
    "import os"
   ]
  },
  {
   "cell_type": "code",
   "execution_count": null,
   "metadata": {},
   "outputs": [],
   "source": [
    "# Initialize tqdm for pandas.\n",
    "tqdm.pandas()"
   ]
  },
  {
   "cell_type": "code",
   "execution_count": null,
   "metadata": {},
   "outputs": [],
   "source": [
    "print(\"⚡ START ⚡\")"
   ]
  },
  {
   "cell_type": "markdown",
   "metadata": {},
   "source": [
    "#### Parameters"
   ]
  },
  {
   "cell_type": "code",
   "execution_count": null,
   "metadata": {},
   "outputs": [],
   "source": [
    "# Where to find the subfolders.\n",
    "DATASET_PATH = \"./ManualCheckOutput\"\n",
    "\n",
    "# Where to save final dataset.\n",
    "OUTPUT_PATH = \"../0_Data/CSV/0_AndroCatSet.csv\""
   ]
  },
  {
   "attachments": {},
   "cell_type": "markdown",
   "metadata": {},
   "source": [
    "### Merge all the subfolders."
   ]
  },
  {
   "cell_type": "code",
   "execution_count": null,
   "metadata": {},
   "outputs": [],
   "source": [
    "# Set up an empty list to store the dataframes\n",
    "classDFsList = []\n",
    "\n",
    "# Get a sorted list of all subdirectories\n",
    "subdirs = sorted([subdir for subdir in os.listdir(DATASET_PATH)],key=lambda x: int(x.split('_')[0]))\n",
    "\n",
    "# Loop through each subdirectory\n",
    "for i,subdir in enumerate(subdirs):\n",
    "    # Read the CSV File\n",
    "    classDF = pd.read_csv(os.path.join(os.path.join(DATASET_PATH, subdir), '{}.csv'.format(i)))\n",
    "\n",
    "    # Add a new column to the dataframe with the subdirectory name as the value.\n",
    "    classDF['classID'] = subdir.replace(\"{}_\".format(i), \"\")\n",
    "\n",
    "    # Append the df to the list of df\n",
    "    classDFsList.append(classDF)\n",
    "\n",
    "# Concatenate all the dataframes into one\n",
    "finalDF = pd.concat(classDFsList, ignore_index=True)"
   ]
  },
  {
   "cell_type": "code",
   "execution_count": null,
   "metadata": {},
   "outputs": [],
   "source": [
    "finalDF = finalDF.reindex(columns=['sha256', 'pkgName', 'classID','categoryID','description'])\n",
    "finalDF = finalDF.rename(columns={'categoryID': 'googlePlayCategoryID'})\n",
    "finalDF = finalDF.rename(columns={'description': 'googlePlayDescription'})\n",
    "\n",
    "finalDF.to_csv(OUTPUT_PATH, index=False)\n",
    "finalDF.head(5)"
   ]
  },
  {
   "cell_type": "code",
   "execution_count": null,
   "metadata": {},
   "outputs": [],
   "source": [
    "print(\"\\n🔚 END\")"
   ]
  }
 ],
 "metadata": {
  "kernelspec": {
   "display_name": "Python 3",
   "language": "python",
   "name": "python3"
  },
  "language_info": {
   "codemirror_mode": {
    "name": "ipython",
    "version": 3
   },
   "file_extension": ".py",
   "mimetype": "text/x-python",
   "name": "python",
   "nbconvert_exporter": "python",
   "pygments_lexer": "ipython3",
   "version": "3.8.10"
  },
  "orig_nbformat": 4,
  "vscode": {
   "interpreter": {
    "hash": "31f2aee4e71d21fbe5cf8b01ff0e069b9275f58929596ceb00d14d90e3e16cd6"
   }
  }
 },
 "nbformat": 4,
 "nbformat_minor": 2
}
