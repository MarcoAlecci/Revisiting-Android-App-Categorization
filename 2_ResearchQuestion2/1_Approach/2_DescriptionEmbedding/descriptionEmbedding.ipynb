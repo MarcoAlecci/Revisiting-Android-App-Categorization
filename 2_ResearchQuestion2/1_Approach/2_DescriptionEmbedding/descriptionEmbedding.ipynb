{
 "cells": [
  {
   "attachments": {},
   "cell_type": "markdown",
   "metadata": {},
   "source": [
    "## ⛏️ RQ2 New Approach - Embedding\n",
    "\n",
    "This notebook can be used to embedd app descriptions using OpenAI Models."
   ]
  },
  {
   "cell_type": "markdown",
   "metadata": {},
   "source": [
    "#### Imports"
   ]
  },
  {
   "cell_type": "code",
   "execution_count": null,
   "metadata": {},
   "outputs": [],
   "source": [
    "# IMPORT\n",
    "from   tqdm     import tqdm\n",
    "import pandas   as pd\n",
    "import numpy    as np"
   ]
  },
  {
   "cell_type": "code",
   "execution_count": null,
   "metadata": {},
   "outputs": [],
   "source": [
    "# Initialize TQDM library for Pandas\n",
    "tqdm.pandas()"
   ]
  },
  {
   "cell_type": "code",
   "execution_count": null,
   "metadata": {},
   "outputs": [],
   "source": [
    "print(\"⚡ START ⚡\")"
   ]
  },
  {
   "cell_type": "markdown",
   "metadata": {},
   "source": [
    "#### Parameters"
   ]
  },
  {
   "cell_type": "code",
   "execution_count": null,
   "metadata": {},
   "outputs": [],
   "source": [
    "# Ground-Truth Dataset\n",
    "INPUT_PATH  = \"../TMP/2a_GcataPreprocessedDescriptions.csv\"\n",
    "\n",
    "# Output Path\n",
    "OUTPUT_PATH = \"../TMP/2a_GcataFeatures.csv\"\n",
    "\n",
    "TMP_PATH = \"../TMP\"\n",
    "if not os.path.exists(TMP_PATH):\n",
    "    os.makedirs(TMP_PATH)\n",
    "    print(\"📁🆕 Folder created       :\", TMP_PATH)\n",
    "else:\n",
    "    print(\"📁✅ Folder already exists:\", TMP_PATH)"
   ]
  },
  {
   "attachments": {},
   "cell_type": "markdown",
   "metadata": {},
   "source": [
    "### 1. Load Data"
   ]
  },
  {
   "cell_type": "code",
   "execution_count": null,
   "metadata": {},
   "outputs": [],
   "source": [
    "appsDF = pd.read_csv(INPUT_PATH, index_col=False)\n",
    "print(\"#️⃣ Apps: {}\".format(appsDF.shape[0]))\n",
    "\n",
    "appsDF.head(3)"
   ]
  },
  {
   "attachments": {},
   "cell_type": "markdown",
   "metadata": {},
   "source": [
    "### 2. Embedding "
   ]
  },
  {
   "cell_type": "code",
   "execution_count": null,
   "metadata": {},
   "outputs": [],
   "source": [
    "################## API KEYS ########################\n",
    "from   dotenv import load_dotenv\n",
    "import os,sys\n",
    "# Load API KEYS from the .env file in the current directory\n",
    "CONFIG_PATH = \"../../../config.env\"\n",
    "if not os.path.exists(CONFIG_PATH):\n",
    "    print(f\"⚠️ Error: File not found at path '{CONFIG_PATH}'.\\n- Make sure the config.env file exists.\\n- Ensure the CONFIG_PATH is correctly set.\")\n",
    "    sys.exit(1)\n",
    "else:\n",
    "    load_dotenv(CONFIG_PATH)\n",
    "ANDROZOO_API_KEY = os.getenv('ANDROZOO_API_KEY')\n",
    "OPENAI_API_KEY   = os.getenv('OPENAI_API_KEY')\n",
    "#######################################################"
   ]
  },
  {
   "cell_type": "code",
   "execution_count": null,
   "metadata": {},
   "outputs": [],
   "source": [
    "import openai\n",
    "openai.api_key = OPENAI_API_KEY"
   ]
  },
  {
   "attachments": {},
   "cell_type": "markdown",
   "metadata": {},
   "source": [
    "Get Embedding from GPT Text-Embedding models"
   ]
  },
  {
   "cell_type": "code",
   "execution_count": null,
   "metadata": {},
   "outputs": [],
   "source": [
    "def getGptEmbedding(text):\n",
    "   # Model to be used - (Determine the price)\n",
    "   model=\"text-embedding-ada-002\"\n",
    "\n",
    "   # Remove new line chars\n",
    "   text = text.replace(\"\\n\", \" \")\n",
    "   \n",
    "   # Return Embedding\n",
    "   return openai.Embedding.create(input = [text], model=model)['data'][0]['embedding']"
   ]
  },
  {
   "cell_type": "code",
   "execution_count": null,
   "metadata": {},
   "outputs": [],
   "source": [
    "print(\"\\n⛏️ GPT-Based Embedding\")\n",
    "\n",
    "appsDF['features'] = appsDF['description'].progress_apply(getGptEmbedding)\n",
    "appsDF['features'] = appsDF['features'].progress_apply(lambda x: list(x))"
   ]
  },
  {
   "cell_type": "code",
   "execution_count": null,
   "metadata": {},
   "outputs": [],
   "source": [
    "print(\"📐 Len features: {}\".format(len(appsDF['features'][0])))"
   ]
  },
  {
   "cell_type": "markdown",
   "metadata": {},
   "source": [
    "### 3. Save everything"
   ]
  },
  {
   "cell_type": "code",
   "execution_count": null,
   "metadata": {},
   "outputs": [],
   "source": [
    "# Keep only sha256 an \n",
    "appsDF = appsDF.loc[:, ['sha256','classID','features']]\n",
    "appsDF.to_csv(OUTPUT_PATH, index=False)\n",
    "appsDF.head(3)"
   ]
  },
  {
   "cell_type": "code",
   "execution_count": null,
   "metadata": {},
   "outputs": [],
   "source": [
    "print(\"\\n🔚 END\")"
   ]
  }
 ],
 "metadata": {
  "kernelspec": {
   "display_name": "Python 3",
   "language": "python",
   "name": "python3"
  },
  "language_info": {
   "codemirror_mode": {
    "name": "ipython",
    "version": 3
   },
   "file_extension": ".py",
   "mimetype": "text/x-python",
   "name": "python",
   "nbconvert_exporter": "python",
   "pygments_lexer": "ipython3",
   "version": "3.8.10"
  },
  "orig_nbformat": 4,
  "vscode": {
   "interpreter": {
    "hash": "31f2aee4e71d21fbe5cf8b01ff0e069b9275f58929596ceb00d14d90e3e16cd6"
   }
  }
 },
 "nbformat": 4,
 "nbformat_minor": 2
}
