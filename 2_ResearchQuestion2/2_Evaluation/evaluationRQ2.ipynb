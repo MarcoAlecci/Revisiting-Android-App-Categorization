{
 "cells": [
  {
   "attachments": {},
   "cell_type": "markdown",
   "metadata": {},
   "source": [
    "## 📐 Evaluation RQ2\n",
    "\n",
    "Using **ARI (Adjusted Rand Index)** to measure the degree of overlap among the implemented approaches:\n",
    "\n",
    "**1)** ARI Against the Ground-Truth.\n",
    "\n",
    "**2)** Pairwise ARI Score."
   ]
  },
  {
   "attachments": {},
   "cell_type": "markdown",
   "metadata": {},
   "source": [
    "#### Imports"
   ]
  },
  {
   "cell_type": "code",
   "execution_count": null,
   "metadata": {},
   "outputs": [],
   "source": [
    "# Imports\n",
    "from   sklearn.metrics      import adjusted_rand_score\n",
    "import matplotlib.pyplot    as plt\n",
    "import seaborn              as sns\n",
    "import pandas               as pd\n",
    "import numpy                as np\n",
    "import os"
   ]
  },
  {
   "cell_type": "markdown",
   "metadata": {},
   "source": [
    "#### Parameters"
   ]
  },
  {
   "cell_type": "code",
   "execution_count": null,
   "metadata": {},
   "outputs": [],
   "source": [
    "# Input Path\n",
    "INPUT_PATH = \"../../0_Data/CSV/\"\n",
    "\n",
    "# Approaches\n",
    "APPROACHES = [\"1b_Chabada\",\"1c_Ebrahimi\",\"1e_Yang\",\"2a_Gcata\"]"
   ]
  },
  {
   "cell_type": "code",
   "execution_count": null,
   "metadata": {},
   "outputs": [],
   "source": [
    "# Path \n",
    "PLOTS_PATH = \"./Plots/\"\n",
    "\n",
    "# Create folder for paths\n",
    "if not os.path.exists(PLOTS_PATH):\n",
    "    os.makedirs(PLOTS_PATH)\n",
    "    print(\"Folder created:\", PLOTS_PATH)\n",
    "else:\n",
    "    print(\"Folder already exists:\", PLOTS_PATH)"
   ]
  },
  {
   "attachments": {},
   "cell_type": "markdown",
   "metadata": {},
   "source": [
    "### Load Data"
   ]
  },
  {
   "cell_type": "code",
   "execution_count": null,
   "metadata": {},
   "outputs": [],
   "source": [
    "appsDF = pd.read_csv(INPUT_PATH + \"0_AndroCatSet.csv\", index_col=False)\n",
    "appsDF = appsDF.drop(['pkgName','googlePlayDescription'], axis=1)\n",
    "\n",
    "# Add all the other approaches\n",
    "for i in range(0,3):\n",
    "    inputDF = pd.read_csv(INPUT_PATH + \"RQ1/\" + APPROACHES[i] + \"ClusteringLabels.csv\", index_col=False)\n",
    "    appsDF = pd.concat([appsDF, inputDF['clusterID']], axis=1)\n",
    "    appsDF = appsDF.rename(columns={'clusterID': APPROACHES[i][3:]})\n",
    "\n",
    "# Add all the other approaches\n",
    "for i in range(3,len(APPROACHES)):\n",
    "    inputDF = pd.read_csv(INPUT_PATH + \"RQ2/\" + APPROACHES[i] + \"ClusteringLabels.csv\", index_col=False)\n",
    "    appsDF = pd.concat([appsDF, inputDF['clusterID']], axis=1)\n",
    "    appsDF = appsDF.rename(columns={'clusterID': APPROACHES[i][3:]})"
   ]
  },
  {
   "attachments": {},
   "cell_type": "markdown",
   "metadata": {},
   "source": [
    "### **1)**  ARI Against the Ground-Truth\n",
    "\n",
    "Compute ARI Score."
   ]
  },
  {
   "cell_type": "code",
   "execution_count": null,
   "metadata": {},
   "outputs": [],
   "source": [
    "# To store ARI Score of each approach\n",
    "ariScoreList = []\n",
    "\n",
    "# Get approach List\n",
    "approachesList = appsDF.columns[3:]\n",
    "\n",
    "# For each approach compare against ground-truth\n",
    "for approach in approachesList:\n",
    "    #Compute the Adjusted Rand Index \n",
    "    ariScoreList.append(adjusted_rand_score(appsDF[\"classID\"].values, appsDF[approach].values))"
   ]
  },
  {
   "attachments": {},
   "cell_type": "markdown",
   "metadata": {},
   "source": [
    "Plot ARI Score"
   ]
  },
  {
   "cell_type": "code",
   "execution_count": null,
   "metadata": {},
   "outputs": [],
   "source": [
    "# Plot Parameters\n",
    "TITLE_FONTSIZE = 18\n",
    "TICKS_FONTSIZE = 18\n",
    "AXIS_FONTSIZE  = 20\n",
    "\n",
    "COLORS = [\"#68B984\",\"#68B984\",\"#68B984\",\"#E96479\"]"
   ]
  },
  {
   "cell_type": "code",
   "execution_count": null,
   "metadata": {},
   "outputs": [],
   "source": [
    "fig = plt.figure(figsize=(8,5))\n",
    "\n",
    "plt.bar(approachesList, ariScoreList, edgecolor='black', color=COLORS, width=0.3)\n",
    "\n",
    "# Labels and Ticks\n",
    "plt.xlabel('Approach' , fontsize=AXIS_FONTSIZE,labelpad=10) \n",
    "plt.xticks(range(0,4), ['CHABADA','Ebrahimi\\net al.', 'Yang\\net al.', 'G-CATA'],fontsize=TICKS_FONTSIZE)\n",
    "\n",
    "plt.ylabel('ARI Score', fontsize=AXIS_FONTSIZE,labelpad=10)  \n",
    "plt.yticks(fontsize=TICKS_FONTSIZE)\n",
    "\n",
    "plt.grid(axis='y', linestyle='--', alpha=0.7)\n",
    "\n",
    "# add value labels to the top of the bars\n",
    "for i in range(len(ariScoreList)):\n",
    "    plt.text(i, ariScoreList[i]+0.01, \"{:.2f}\".format(ariScoreList[i]), ha='center', fontsize=TICKS_FONTSIZE)\n",
    "\n",
    "plt.ylim(0,1)\n",
    "plt.tight_layout() \n",
    "plt.savefig(PLOTS_PATH + 'overviewRQ2.png')\n",
    "plt.savefig(PLOTS_PATH + 'overviewRQ2.pdf')\n",
    "\n",
    "plt.show()"
   ]
  },
  {
   "attachments": {},
   "cell_type": "markdown",
   "metadata": {},
   "source": [
    "### **2)** Pairwise ARI Score.\n",
    "\n",
    "Compute ARI score pairwise."
   ]
  },
  {
   "cell_type": "code",
   "execution_count": null,
   "metadata": {},
   "outputs": [],
   "source": [
    "# Get the approaches\n",
    "approachesList = appsDF.columns[1:]\n",
    "\n",
    "# Create a matrix for pairwise comparison\n",
    "resultDF = pd.DataFrame(columns=approachesList,index=approachesList)\n",
    "\n",
    "# Pairwise comparison\n",
    "for i, (index, row) in enumerate(resultDF.iterrows()):\n",
    "    for j in range(i,len(row)):\n",
    "        #Compute the Adjusted Rand Index\n",
    "        ariScore = adjusted_rand_score(appsDF[approachesList[i]].values, appsDF[approachesList[j]].values)\n",
    "        \n",
    "        # Store the results\n",
    "        resultDF.loc[approachesList[i],approachesList[j]] = ariScore\n",
    "        resultDF.loc[approachesList[j],approachesList[i]] = ariScore\n",
    "\n",
    "resultDF = resultDF.astype(float)\n",
    "resultDF"
   ]
  }
 ],
 "metadata": {
  "kernelspec": {
   "display_name": "Python 3",
   "language": "python",
   "name": "python3"
  },
  "language_info": {
   "codemirror_mode": {
    "name": "ipython",
    "version": 3
   },
   "file_extension": ".py",
   "mimetype": "text/x-python",
   "name": "python",
   "nbconvert_exporter": "python",
   "pygments_lexer": "ipython3",
   "version": "3.8.10"
  },
  "orig_nbformat": 4
 },
 "nbformat": 4,
 "nbformat_minor": 2
}
