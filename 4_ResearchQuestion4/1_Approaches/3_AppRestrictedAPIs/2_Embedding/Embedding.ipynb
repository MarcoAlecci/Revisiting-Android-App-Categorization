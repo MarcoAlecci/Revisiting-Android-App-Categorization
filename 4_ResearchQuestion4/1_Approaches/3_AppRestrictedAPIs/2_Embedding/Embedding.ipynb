{
 "cells": [
  {
   "attachments": {},
   "cell_type": "markdown",
   "metadata": {},
   "source": [
    "## ⛏️  Api Restricted APIs - Embedding"
   ]
  },
  {
   "cell_type": "markdown",
   "metadata": {},
   "source": [
    "#### Imports"
   ]
  },
  {
   "cell_type": "code",
   "execution_count": null,
   "metadata": {},
   "outputs": [],
   "source": [
    "#IMPORT\n",
    "from   sklearn.feature_extraction.text  import TfidfVectorizer\n",
    "from   tqdm                             import tqdm\n",
    "import pandas                           as pd\n",
    "import ast"
   ]
  },
  {
   "cell_type": "code",
   "execution_count": null,
   "metadata": {},
   "outputs": [],
   "source": [
    "# Initialize TQDM library for Pandas\n",
    "tqdm.pandas()"
   ]
  },
  {
   "cell_type": "code",
   "execution_count": null,
   "metadata": {},
   "outputs": [],
   "source": [
    "print(\"⚡ START ⚡\")"
   ]
  },
  {
   "cell_type": "markdown",
   "metadata": {},
   "source": [
    "#### Parameters"
   ]
  },
  {
   "cell_type": "code",
   "execution_count": null,
   "metadata": {},
   "outputs": [],
   "source": [
    "# Where to temporarily store APK Files\n",
    "APK_PATH    = \"../../../0_Data/APKS/\"\n",
    "\n",
    "# Ground-Truth Dataset\n",
    "INPUT_PATH  = \"../TMP/4c_AppRestrictedApiData.csv\"\n",
    "\n",
    "# Output Path\n",
    "OUTPUT_PATH = \"../TMP/4c_AppRestrictedApiFeatures.csv\""
   ]
  },
  {
   "cell_type": "code",
   "execution_count": null,
   "metadata": {},
   "outputs": [],
   "source": [
    "DELIMITER = \"&&&\""
   ]
  },
  {
   "attachments": {},
   "cell_type": "markdown",
   "metadata": {},
   "source": [
    "### 1. Load Data"
   ]
  },
  {
   "cell_type": "code",
   "execution_count": null,
   "metadata": {},
   "outputs": [],
   "source": [
    "appsDF = pd.read_csv(INPUT_PATH, index_col=False)\n",
    "print(\"#️⃣ Apps: {}\".format(appsDF.shape[0]))\n",
    "\n",
    "appsDF.head(3)"
   ]
  },
  {
   "cell_type": "code",
   "execution_count": null,
   "metadata": {},
   "outputs": [],
   "source": [
    "print(\"\\n🔨 Reading data as lists\")\n",
    "appsDF['apisList'] = appsDF['apisList'].progress_apply(ast.literal_eval) \n",
    "\n",
    "print(\"\\n🔨 Order the lists\")\n",
    "appsDF['apisList'] = appsDF['apisList'].progress_apply(lambda lst: sorted(lst))"
   ]
  },
  {
   "attachments": {},
   "cell_type": "markdown",
   "metadata": {},
   "source": [
    "Details"
   ]
  },
  {
   "cell_type": "code",
   "execution_count": null,
   "metadata": {},
   "outputs": [],
   "source": [
    "def getAvgLen(appsDF, column):\n",
    "    totLen = appsDF[column].apply(len).sum()\n",
    "    return totLen / appsDF[column].count()"
   ]
  },
  {
   "cell_type": "code",
   "execution_count": null,
   "metadata": {},
   "outputs": [],
   "source": [
    "print(\"📐 AVG Api List Len: {}\".format(getAvgLen(appsDF,'apisList')))"
   ]
  },
  {
   "attachments": {},
   "cell_type": "markdown",
   "metadata": {},
   "source": [
    "### 2. Generate Feature Vectors for API Calls using TFIDF Vectorizer"
   ]
  },
  {
   "cell_type": "code",
   "execution_count": null,
   "metadata": {},
   "outputs": [],
   "source": [
    "# Create an instance of CountVectorizer to transform the permissions into feature Vectors\n",
    "vectorizer = TfidfVectorizer(tokenizer = lambda text: text.split(DELIMITER), max_features = 1024)\n",
    "\n",
    "# Generatr Feature Vectors and Save into the Df\n",
    "appsDF['restrictedApiFeatures'] = vectorizer.fit_transform([DELIMITER.join(lst) for lst in appsDF['apisList'].values]).toarray().tolist()\n",
    "\n",
    "print(\"📐 FV Len: {}\".format(len(appsDF.loc[0,'restrictedApiFeatures'])))\n",
    "\n",
    "# Example of features Names\n",
    "featureNames = vectorizer.get_feature_names_out()\n",
    "print(\"\\n✏️ Example of Features Names:\")\n",
    "for f in featureNames[0:5]:\n",
    "    print(f)"
   ]
  },
  {
   "attachments": {},
   "cell_type": "markdown",
   "metadata": {},
   "source": [
    "### 3. Save eveything to CSV"
   ]
  },
  {
   "cell_type": "code",
   "execution_count": null,
   "metadata": {},
   "outputs": [],
   "source": [
    "appsDF = appsDF[['sha256','classID','restrictedApiFeatures']]\n",
    "\n",
    "# Save the result\n",
    "appsDF.to_csv(OUTPUT_PATH,index=False)\n",
    "appsDF.head(5)"
   ]
  },
  {
   "cell_type": "code",
   "execution_count": null,
   "metadata": {},
   "outputs": [],
   "source": [
    "print(\"\\n🔚 END \\n\")"
   ]
  }
 ],
 "metadata": {
  "kernelspec": {
   "display_name": "Python 3",
   "language": "python",
   "name": "python3"
  },
  "language_info": {
   "codemirror_mode": {
    "name": "ipython",
    "version": 3
   },
   "file_extension": ".py",
   "mimetype": "text/x-python",
   "name": "python",
   "nbconvert_exporter": "python",
   "pygments_lexer": "ipython3",
   "version": "3.8.10"
  },
  "orig_nbformat": 4,
  "vscode": {
   "interpreter": {
    "hash": "31f2aee4e71d21fbe5cf8b01ff0e069b9275f58929596ceb00d14d90e3e16cd6"
   }
  }
 },
 "nbformat": 4,
 "nbformat_minor": 2
}
