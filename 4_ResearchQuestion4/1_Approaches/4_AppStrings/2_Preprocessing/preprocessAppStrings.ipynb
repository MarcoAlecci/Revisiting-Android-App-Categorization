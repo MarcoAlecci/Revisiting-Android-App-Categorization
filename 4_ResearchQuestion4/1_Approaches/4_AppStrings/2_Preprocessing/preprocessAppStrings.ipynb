{
 "cells": [
  {
   "attachments": {},
   "cell_type": "markdown",
   "metadata": {},
   "source": [
    "## ⛏️ App Strings - Preprocessing\n",
    "\n",
    "Preprocess App Strings."
   ]
  },
  {
   "cell_type": "markdown",
   "metadata": {},
   "source": [
    "#### Imports"
   ]
  },
  {
   "cell_type": "code",
   "execution_count": null,
   "metadata": {},
   "outputs": [],
   "source": [
    "# IMPORT\n",
    "from collections            import Counter\n",
    "from   tqdm                 import tqdm\n",
    "import pandas               as pd\n",
    "import numpy                as np\n",
    "import itertools\n",
    "import ast\n",
    "import os\n",
    "\n",
    "import preprocessing"
   ]
  },
  {
   "cell_type": "code",
   "execution_count": null,
   "metadata": {},
   "outputs": [],
   "source": [
    "# Initialize TQDM library for Pandas\n",
    "tqdm.pandas()"
   ]
  },
  {
   "cell_type": "code",
   "execution_count": null,
   "metadata": {},
   "outputs": [],
   "source": [
    "print(\"⚡ START ⚡\\n\")"
   ]
  },
  {
   "cell_type": "markdown",
   "metadata": {},
   "source": [
    "#### Parameters"
   ]
  },
  {
   "cell_type": "code",
   "execution_count": null,
   "metadata": {},
   "outputs": [],
   "source": [
    "# Ground-Truth Dataset\n",
    "INPUT_PATH  = \"../TMP/4d_AppStringsData.csv\"\n",
    "\n",
    "# Output Path\n",
    "OUTPUT_PATH = \"../TMP/4d_AppStringsDataPreprocessed.csv\"\n",
    "\n",
    "TMP_PATH = \"../TMP\"\n",
    "if not os.path.exists(TMP_PATH):\n",
    "    os.makedirs(TMP_PATH)\n",
    "    print(\"📁🆕 Folder created       :\", TMP_PATH)\n",
    "else:\n",
    "    print(\"📁✅ Folder already exists:\", TMP_PATH)"
   ]
  },
  {
   "attachments": {},
   "cell_type": "markdown",
   "metadata": {},
   "source": [
    "### 1. Load Data"
   ]
  },
  {
   "cell_type": "code",
   "execution_count": null,
   "metadata": {},
   "outputs": [],
   "source": [
    "appsDF = pd.read_csv(INPUT_PATH, index_col=False)\n",
    "print(\"#️⃣ Apps: {}\".format(appsDF.shape[0]))\n",
    "\n",
    "appsDF.head(3)"
   ]
  },
  {
   "cell_type": "code",
   "execution_count": null,
   "metadata": {},
   "outputs": [],
   "source": [
    "print(\"\\n🔨 Reading data as lists\")\n",
    "appsDF['appStrings'] = appsDF['appStrings'].progress_apply(ast.literal_eval) "
   ]
  },
  {
   "attachments": {},
   "cell_type": "markdown",
   "metadata": {},
   "source": [
    "### 2. Preprocessing"
   ]
  },
  {
   "cell_type": "code",
   "execution_count": null,
   "metadata": {},
   "outputs": [],
   "source": [
    "def getAvgLen(appsDF, column):\n",
    "    totLen = appsDF[column].apply(len).sum()\n",
    "    return totLen / appsDF[column].count()"
   ]
  },
  {
   "cell_type": "code",
   "execution_count": null,
   "metadata": {},
   "outputs": [],
   "source": [
    "print(\"\\n🔨 Merge to a single string\")\n",
    "appsDF['appStrings'] = appsDF['appStrings'].progress_apply(lambda x: ' '.join(x))\n",
    "\n",
    "print(\"\\n🔨 Preprocess Descriptions\")\n",
    "appsDF['appStrings'] = appsDF['appStrings'].progress_apply(preprocessing.preprocessText)\n",
    "\n",
    "print(\"\\n🔨 Back to list\")\n",
    "appsDF['appStrings'] = appsDF['appStrings'].progress_apply(lambda x: sorted(x.split()))\n",
    "\n",
    "print(\"\\n📐 AVG App Strings Len: {}\".format(getAvgLen(appsDF,'appStrings')))"
   ]
  },
  {
   "attachments": {},
   "cell_type": "markdown",
   "metadata": {},
   "source": [
    "#### Removing too short words"
   ]
  },
  {
   "cell_type": "code",
   "execution_count": null,
   "metadata": {},
   "outputs": [],
   "source": [
    "print(\"\\n🔨 Remove most Frequent words\")\n",
    "appsDF['appStrings'] = appsDF['appStrings'].progress_apply(lambda x: [string for string in x if len(string) >= 3])\n",
    "\n",
    "print(\"\\n📐 AVG App Strings Len: {}\".format(getAvgLen(appsDF,'appStrings')))"
   ]
  },
  {
   "attachments": {},
   "cell_type": "markdown",
   "metadata": {},
   "source": [
    "#### Removing too frequent words"
   ]
  },
  {
   "cell_type": "code",
   "execution_count": null,
   "metadata": {},
   "outputs": [],
   "source": [
    "# # Get all the Words in the dataset\n",
    "# wordsCounter = Counter(list(itertools.chain(*appsDF['appStrings'].to_list())))\n",
    "\n",
    "# preprocessing.printMostFrequentWords(wordsCounter)\n",
    "# preprocessing.printMostFrequentWordsPercentage(wordsCounter)"
   ]
  },
  {
   "cell_type": "code",
   "execution_count": null,
   "metadata": {},
   "outputs": [],
   "source": [
    "# Get the most frequent words according to a threshold and remove them form the df.\n",
    "FREQUENCY_THRESHOLD = 0.05\n",
    "\n",
    "# Get all the Words in the dataset\n",
    "wordsCounter = Counter(list(itertools.chain(*appsDF['appStrings'].to_list())))\n",
    "\n",
    "# Get most frquent words\n",
    "mostFrequentWords = preprocessing.getMostFrequentWordsByPercentage(wordsCounter, FREQUENCY_THRESHOLD)\n",
    "\n",
    "print(\"\\n🔨 Remove most Frequent words\")\n",
    "appsDF['appStrings'] = appsDF['appStrings'].progress_apply(lambda x: [word for word in x if word not in mostFrequentWords])\n",
    "\n",
    "print(\"\\n📐 AVG App Strings Len: {}\".format(getAvgLen(appsDF,'appStrings')))"
   ]
  },
  {
   "attachments": {},
   "cell_type": "markdown",
   "metadata": {},
   "source": [
    "#### Remove less frequent words"
   ]
  },
  {
   "cell_type": "code",
   "execution_count": null,
   "metadata": {},
   "outputs": [],
   "source": [
    "FREQUENCY_THRESHOLD = 0.0001"
   ]
  },
  {
   "cell_type": "code",
   "execution_count": null,
   "metadata": {},
   "outputs": [],
   "source": [
    "# Get all the Words in the dataset\n",
    "wordsCounter = Counter(list(itertools.chain(*appsDF['appStrings'].to_list())))\n",
    "\n",
    "# Get most frquent words\n",
    "lessFrequentWords = preprocessing.getLessFrequentWordsByPercentage(wordsCounter, FREQUENCY_THRESHOLD)\n",
    "\n",
    "print(\"\\n🔨 Remove less Frequent words\")\n",
    "appsDF['appStrings'] = appsDF['appStrings'].progress_apply(lambda x: [word for word in x if word not in lessFrequentWords])\n",
    "\n",
    "print(\"\\n📐 AVG App Strings Len: {}\".format(getAvgLen(appsDF,'appStrings')))"
   ]
  },
  {
   "attachments": {},
   "cell_type": "markdown",
   "metadata": {},
   "source": [
    "### 3. Save everything"
   ]
  },
  {
   "cell_type": "code",
   "execution_count": null,
   "metadata": {},
   "outputs": [],
   "source": [
    "print(\"\\n🔨 Merge to a single string\")\n",
    "appsDF['appStrings'] = appsDF['appStrings'].progress_apply(lambda x: ' '.join(x))"
   ]
  },
  {
   "cell_type": "code",
   "execution_count": null,
   "metadata": {},
   "outputs": [],
   "source": [
    "appsDF = appsDF[['sha256','classID',\"appStrings\"]]\n",
    "\n",
    "# Save the result\n",
    "appsDF.to_csv(OUTPUT_PATH,index=False)\n",
    "appsDF.head(3)"
   ]
  },
  {
   "cell_type": "code",
   "execution_count": null,
   "metadata": {},
   "outputs": [],
   "source": [
    "print(\"\\n🔚 END \\n\")"
   ]
  }
 ],
 "metadata": {
  "kernelspec": {
   "display_name": "Python 3",
   "language": "python",
   "name": "python3"
  },
  "language_info": {
   "codemirror_mode": {
    "name": "ipython",
    "version": 3
   },
   "file_extension": ".py",
   "mimetype": "text/x-python",
   "name": "python",
   "nbconvert_exporter": "python",
   "pygments_lexer": "ipython3",
   "version": "3.8.10"
  },
  "orig_nbformat": 4,
  "vscode": {
   "interpreter": {
    "hash": "31f2aee4e71d21fbe5cf8b01ff0e069b9275f58929596ceb00d14d90e3e16cd6"
   }
  }
 },
 "nbformat": 4,
 "nbformat_minor": 2
}
