{
 "cells": [
  {
   "attachments": {},
   "cell_type": "markdown",
   "metadata": {},
   "source": [
    "## ⛏️ App Strings - Clustering\n",
    "\n",
    "Cluster applications using App Strings extracted from the APK files."
   ]
  },
  {
   "cell_type": "markdown",
   "metadata": {},
   "source": [
    "#### Imports"
   ]
  },
  {
   "cell_type": "code",
   "execution_count": null,
   "metadata": {},
   "outputs": [],
   "source": [
    "# IMPORT\n",
    "from    sklearn.metrics             import adjusted_rand_score\n",
    "from    sklearn.feature_selection   import VarianceThreshold\n",
    "from    sklearn.decomposition       import PCA\n",
    "from    sklearn.decomposition       import SparsePCA\n",
    "from    sklearn.cluster             import KMeans\n",
    "from    sklearn.metrics             import silhouette_score\n",
    "from    tqdm                        import tqdm\n",
    "import  pandas                      as pd\n",
    "import  numpy                       as np\n",
    "import  ast"
   ]
  },
  {
   "cell_type": "code",
   "execution_count": null,
   "metadata": {},
   "outputs": [],
   "source": [
    "# Initialize TQDM library for Pandas\n",
    "tqdm.pandas()"
   ]
  },
  {
   "cell_type": "code",
   "execution_count": null,
   "metadata": {},
   "outputs": [],
   "source": [
    "print(\"⚡ START ⚡\\n\")"
   ]
  },
  {
   "cell_type": "markdown",
   "metadata": {},
   "source": [
    "#### Parameters"
   ]
  },
  {
   "cell_type": "code",
   "execution_count": null,
   "metadata": {},
   "outputs": [],
   "source": [
    "# Where to temporarily store APK Files\n",
    "APK_PATH    = \"../../../0_Data/APKS/\"\n",
    "\n",
    "# Ground-Truth Dataset\n",
    "INPUT_PATH  = \"../TMP/4d_AppStringsFeatures.csv\"\n",
    "\n",
    "# Output Path\n",
    "OUTPUT_PATH = \"../4d_AppStringsClusteringLabels.csv\""
   ]
  },
  {
   "cell_type": "code",
   "execution_count": null,
   "metadata": {},
   "outputs": [],
   "source": [
    "RANDOM_SEED = 151836"
   ]
  },
  {
   "cell_type": "code",
   "execution_count": null,
   "metadata": {},
   "outputs": [],
   "source": [
    "# FIXED PATHS\n",
    "APK_PATH    = \"../../../0_Data/APKS/\"\n",
    "INPUT_PATH  = \"../3b_AppStringsFeatures.csv\"\n",
    "OUTPUT_PATH = \"../3b_AppStringsClusteringLabels.csv\""
   ]
  },
  {
   "attachments": {},
   "cell_type": "markdown",
   "metadata": {},
   "source": [
    "### 1. Load Data"
   ]
  },
  {
   "cell_type": "code",
   "execution_count": null,
   "metadata": {},
   "outputs": [],
   "source": [
    "appsDF = pd.read_csv(INPUT_PATH, index_col=False)\n",
    "print(\"#️⃣ Apps: {}\".format(appsDF.shape[0]))\n",
    "\n",
    "appsDF.head(3)"
   ]
  },
  {
   "cell_type": "code",
   "execution_count": null,
   "metadata": {},
   "outputs": [],
   "source": [
    "print(\"\\n🔨 1. Reading data as lists\")\n",
    "appsDF['appStringsFeatures'] = appsDF['appStringsFeatures'].progress_apply(ast.literal_eval)    "
   ]
  },
  {
   "attachments": {},
   "cell_type": "markdown",
   "metadata": {},
   "source": [
    "### 2. Clustering"
   ]
  },
  {
   "cell_type": "code",
   "execution_count": null,
   "metadata": {},
   "outputs": [],
   "source": [
    "def getARIscore(clusteringLabels):\n",
    "    ariScore = adjusted_rand_score(appsDF[\"classID\"].values, clusteringLabels)\n",
    "    print(\"🎯 ARI: {:.4f}\".format(ariScore))\n",
    "    return"
   ]
  },
  {
   "cell_type": "code",
   "execution_count": null,
   "metadata": {},
   "outputs": [],
   "source": [
    "# Parameters\n",
    "NUM_CLUSTERS = 50"
   ]
  },
  {
   "cell_type": "code",
   "execution_count": null,
   "metadata": {},
   "outputs": [],
   "source": [
    "print(\"\\n⭐ KMeans - Basline \")\n",
    "\n",
    "featuresArray = np.array(appsDF['appStringsFeatures'].to_list())\n",
    "print(\"📐 Len features: {}\".format(len(featuresArray[0])))\n",
    "\n",
    "#Apply K-means clustering with 5 clusters\n",
    "kmeans = KMeans(n_clusters = NUM_CLUSTERS, init='k-means++', max_iter=300, n_init='auto', random_state = RANDOM_SEED)\n",
    "kmeans.fit(featuresArray)\n",
    "\n",
    "clusteringLabels = kmeans.labels_\n",
    "getARIscore(clusteringLabels)"
   ]
  },
  {
   "attachments": {},
   "cell_type": "markdown",
   "metadata": {},
   "source": [
    "With PCA"
   ]
  },
  {
   "cell_type": "code",
   "execution_count": null,
   "metadata": {},
   "outputs": [],
   "source": [
    "def getNumComponentsByVarianceThreshold(featuresArray, varianceThreshold):\n",
    "    print(\"📐 Len features  : {}\".format(len(featuresArray[0])))\n",
    "\n",
    "    pca = PCA(random_state = RANDOM_SEED)\n",
    "    filteredFeaturesArray = pca.fit_transform(featuresArray)\n",
    "\n",
    "    # Calculate the cumulative sum of explained variance ratios\n",
    "    cumulativeVarianceRatio = np.cumsum(pca.explained_variance_ratio_)\n",
    "\n",
    "    # Determine the number of components exceeding the threshold\n",
    "    numComponents = np.argmax(cumulativeVarianceRatio >= varianceThreshold) + 1\n",
    "    print(\"📐 Num components: {}\".format(numComponents))\n",
    "    \n",
    "    return numComponents"
   ]
  },
  {
   "attachments": {},
   "cell_type": "markdown",
   "metadata": {},
   "source": [
    "Get number of components to get 0.95 of variance"
   ]
  },
  {
   "cell_type": "code",
   "execution_count": null,
   "metadata": {},
   "outputs": [],
   "source": [
    "featuresArray = np.array(appsDF['appStringsFeatures'].to_list())\n",
    "numComponents = getNumComponentsByVarianceThreshold(featuresArray, 0.95)"
   ]
  },
  {
   "cell_type": "code",
   "execution_count": null,
   "metadata": {},
   "outputs": [],
   "source": [
    "print(\"⭐ KMeans + PCA \")\n",
    "\n",
    "# Define PCA\n",
    "pca = PCA(n_components = numComponents, random_state = RANDOM_SEED)\n",
    "\n",
    "# Apply PCA\n",
    "featuresArray = np.array(appsDF['appStringsFeatures'].to_list())\n",
    "filteredFeaturesArray = pca.fit_transform(featuresArray)\n",
    "\n",
    "# Apply K-means clustering with clusters\n",
    "kmeansPCA = KMeans(n_clusters = NUM_CLUSTERS, init='k-means++', max_iter=300, n_init='auto', random_state = RANDOM_SEED)\n",
    "kmeansPCA.fit(filteredFeaturesArray)\n",
    "\n",
    "clusteringLabels = kmeansPCA.labels_\n",
    "getARIscore(clusteringLabels)"
   ]
  },
  {
   "attachments": {},
   "cell_type": "markdown",
   "metadata": {},
   "source": [
    "### 3. Save Everything"
   ]
  },
  {
   "cell_type": "code",
   "execution_count": null,
   "metadata": {},
   "outputs": [],
   "source": [
    "# Save the labels into the Pandas DF\n",
    "appsDF = appsDF.loc[:, ['sha256']]\n",
    "appsDF['clusterID'] = clusteringLabels"
   ]
  },
  {
   "cell_type": "code",
   "execution_count": null,
   "metadata": {},
   "outputs": [],
   "source": [
    "# Save the result\n",
    "appsDF.to_csv(OUTPUT_PATH,index=False)\n",
    "appsDF.head(3)"
   ]
  },
  {
   "cell_type": "code",
   "execution_count": null,
   "metadata": {},
   "outputs": [],
   "source": [
    "print(\"\\n🔚 END \\n\")"
   ]
  }
 ],
 "metadata": {
  "kernelspec": {
   "display_name": "Python 3",
   "language": "python",
   "name": "python3"
  },
  "language_info": {
   "codemirror_mode": {
    "name": "ipython",
    "version": 3
   },
   "file_extension": ".py",
   "mimetype": "text/x-python",
   "name": "python",
   "nbconvert_exporter": "python",
   "pygments_lexer": "ipython3",
   "version": "3.8.10"
  },
  "orig_nbformat": 4,
  "vscode": {
   "interpreter": {
    "hash": "31f2aee4e71d21fbe5cf8b01ff0e069b9275f58929596ceb00d14d90e3e16cd6"
   }
  }
 },
 "nbformat": 4,
 "nbformat_minor": 2
}
