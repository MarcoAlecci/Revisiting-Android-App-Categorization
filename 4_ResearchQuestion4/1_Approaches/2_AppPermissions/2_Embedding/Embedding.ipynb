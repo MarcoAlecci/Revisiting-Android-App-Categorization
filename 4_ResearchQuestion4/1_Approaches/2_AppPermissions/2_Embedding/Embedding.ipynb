{
 "cells": [
  {
   "attachments": {},
   "cell_type": "markdown",
   "metadata": {},
   "source": [
    "## ⛏️ App Permissions - Embedding"
   ]
  },
  {
   "cell_type": "markdown",
   "metadata": {},
   "source": [
    "### Imports"
   ]
  },
  {
   "cell_type": "code",
   "execution_count": null,
   "metadata": {},
   "outputs": [],
   "source": [
    "#IMPORT\n",
    "from sklearn.feature_extraction.text    import CountVectorizer\n",
    "from sklearn.feature_extraction.text    import TfidfVectorizer\n",
    "from   tqdm                             import tqdm\n",
    "import pandas                           as pd\n",
    "import numpy                            as np\n",
    "import ast\n",
    "import os"
   ]
  },
  {
   "cell_type": "code",
   "execution_count": null,
   "metadata": {},
   "outputs": [],
   "source": [
    "# Initialize TQDM library for Pandas\n",
    "tqdm.pandas()"
   ]
  },
  {
   "cell_type": "code",
   "execution_count": null,
   "metadata": {},
   "outputs": [],
   "source": [
    "print(\"⚡ START ⚡\")"
   ]
  },
  {
   "cell_type": "markdown",
   "metadata": {},
   "source": [
    "#### Parameters"
   ]
  },
  {
   "cell_type": "code",
   "execution_count": null,
   "metadata": {},
   "outputs": [],
   "source": [
    "# Ground-Truth Dataset\n",
    "INPUT_PATH  = \"../TMP/4b_AppPermissionsData.csv\"\n",
    "\n",
    "# Output Path\n",
    "OUTPUT_PATH = \"../TMP/4b_AppPermissionsFeatures.csv\"\n",
    "\n",
    "TMP_PATH = \"../TMP\"\n",
    "if not os.path.exists(TMP_PATH):\n",
    "    os.makedirs(TMP_PATH)\n",
    "    print(\"📁🆕 Folder created       :\", TMP_PATH)\n",
    "else:\n",
    "    print(\"📁✅ Folder already exists:\", TMP_PATH)"
   ]
  },
  {
   "cell_type": "code",
   "execution_count": null,
   "metadata": {},
   "outputs": [],
   "source": [
    "DELIMITER = \"&&&\""
   ]
  },
  {
   "attachments": {},
   "cell_type": "markdown",
   "metadata": {},
   "source": [
    "### 1. Load Data"
   ]
  },
  {
   "cell_type": "code",
   "execution_count": null,
   "metadata": {},
   "outputs": [],
   "source": [
    "appsDF = pd.read_csv(INPUT_PATH, index_col=False)\n",
    "print(\"#️⃣ Apps: {}\".format(appsDF.shape[0]))\n",
    "\n",
    "appsDF.head(3)"
   ]
  },
  {
   "cell_type": "code",
   "execution_count": null,
   "metadata": {},
   "outputs": [],
   "source": [
    "print(\"\\n🔨 1. Reading data as lists\")\n",
    "appsDF['usedPermissions']       = appsDF['usedPermissions'].progress_apply(ast.literal_eval)      \n",
    "appsDF['requestedPermissions']  = appsDF['requestedPermissions'].progress_apply(ast.literal_eval)      "
   ]
  },
  {
   "attachments": {},
   "cell_type": "markdown",
   "metadata": {},
   "source": [
    "### 2. Embedding"
   ]
  },
  {
   "cell_type": "code",
   "execution_count": null,
   "metadata": {},
   "outputs": [],
   "source": [
    "def getAvgLen(appsDF, column):\n",
    "    totLen = appsDF[column].apply(len).sum()\n",
    "    return totLen / appsDF[column].count()\n",
    "\n",
    "print(\"📐 Avg Used Permissions Len      : {}\".format(getAvgLen(appsDF,'usedPermissions')))\n",
    "print(\"📐 Avg Requested Permissions Len : {}\".format(getAvgLen(appsDF,'requestedPermissions')))"
   ]
  },
  {
   "cell_type": "code",
   "execution_count": null,
   "metadata": {},
   "outputs": [],
   "source": [
    "# Create an instance of Vectorizer to transform the permissions into feature Vectors\n",
    "vectorizer = TfidfVectorizer(tokenizer = lambda text: text.split(DELIMITER), max_features = 1536)\n",
    "\n",
    "# Vectorize the Permissions\n",
    "appsDF['usedPermissionsFeatures']       = vectorizer.fit_transform([DELIMITER.join(lst) for lst in appsDF['usedPermissions'].values]).toarray().tolist()\n",
    "appsDF['requestedPermissionsFeatures']  = vectorizer.fit_transform([DELIMITER.join(lst) for lst in appsDF['requestedPermissions'].values]).toarray().tolist()\n",
    "\n",
    "print(\"📐 FV Used Permissions Len      : {}\".format(len(appsDF.loc[0,'usedPermissionsFeatures'])))\n",
    "print(\"📐 FV Requested Permissions Len : {}\".format(len(appsDF.loc[0,'requestedPermissionsFeatures'])))"
   ]
  },
  {
   "attachments": {},
   "cell_type": "markdown",
   "metadata": {},
   "source": [
    "### 3. Save Everything"
   ]
  },
  {
   "cell_type": "code",
   "execution_count": null,
   "metadata": {},
   "outputs": [],
   "source": [
    "appsDF = appsDF[['sha256', 'classID', 'usedPermissionsFeatures', 'requestedPermissionsFeatures']]\n",
    "\n",
    "# Save the result\n",
    "appsDF.to_csv(OUTPUT_PATH,index=False)"
   ]
  },
  {
   "cell_type": "code",
   "execution_count": null,
   "metadata": {},
   "outputs": [],
   "source": [
    "print(\"\\n🔚 END \\n\")"
   ]
  }
 ],
 "metadata": {
  "kernelspec": {
   "display_name": "Python 3",
   "language": "python",
   "name": "python3"
  },
  "language_info": {
   "codemirror_mode": {
    "name": "ipython",
    "version": 3
   },
   "file_extension": ".py",
   "mimetype": "text/x-python",
   "name": "python",
   "nbconvert_exporter": "python",
   "pygments_lexer": "ipython3",
   "version": "3.8.10"
  },
  "orig_nbformat": 4,
  "vscode": {
   "interpreter": {
    "hash": "31f2aee4e71d21fbe5cf8b01ff0e069b9275f58929596ceb00d14d90e3e16cd6"
   }
  }
 },
 "nbformat": 4,
 "nbformat_minor": 2
}
