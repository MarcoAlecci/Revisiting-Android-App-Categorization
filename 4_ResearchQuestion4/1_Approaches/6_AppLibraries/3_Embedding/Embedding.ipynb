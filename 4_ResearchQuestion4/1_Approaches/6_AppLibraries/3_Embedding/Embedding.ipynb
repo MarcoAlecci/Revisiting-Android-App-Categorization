{
 "cells": [
  {
   "attachments": {},
   "cell_type": "markdown",
   "metadata": {},
   "source": [
    "## ⛏️ App Libraries - Embedding\n",
    "\n",
    "Generate Feature Vectros from the list of Libraries used."
   ]
  },
  {
   "cell_type": "markdown",
   "metadata": {},
   "source": [
    "### Imports"
   ]
  },
  {
   "cell_type": "code",
   "execution_count": null,
   "metadata": {},
   "outputs": [],
   "source": [
    "# IMPORT\n",
    "from sklearn.feature_extraction.text    import TfidfVectorizer\n",
    "from   tqdm                             import tqdm\n",
    "import pandas                           as pd\n",
    "import numpy                            as np\n",
    "import ast"
   ]
  },
  {
   "cell_type": "code",
   "execution_count": null,
   "metadata": {},
   "outputs": [],
   "source": [
    "# Initialize TQDM library for Pandas\n",
    "tqdm.pandas()"
   ]
  },
  {
   "cell_type": "code",
   "execution_count": null,
   "metadata": {},
   "outputs": [],
   "source": [
    "print(\"⚡ START ⚡\")"
   ]
  },
  {
   "cell_type": "markdown",
   "metadata": {},
   "source": [
    "#### Parameters"
   ]
  },
  {
   "cell_type": "code",
   "execution_count": null,
   "metadata": {},
   "outputs": [],
   "source": [
    "# Where to temporarily store APK Files\n",
    "APK_PATH    = \"../../../0_Data/APKS/\"\n",
    "\n",
    "# Ground-Truth Dataset\n",
    "INPUT_PATH  = \"../TMP/4f_AppLibrariesDataPreprocessed.csv\"\n",
    "\n",
    "# Output Path\n",
    "OUTPUT_PATH = \"../TMP/4f_AppLibrariesFeatures.csv\""
   ]
  },
  {
   "attachments": {},
   "cell_type": "markdown",
   "metadata": {},
   "source": [
    "### 1. Load Data"
   ]
  },
  {
   "cell_type": "code",
   "execution_count": null,
   "metadata": {},
   "outputs": [],
   "source": [
    "appsDF = pd.read_csv(INPUT_PATH, index_col=False)\n",
    "print(\"#️⃣ Apps: {}\".format(appsDF.shape[0]))\n",
    "\n",
    "appsDF.head(3)"
   ]
  },
  {
   "cell_type": "code",
   "execution_count": null,
   "metadata": {},
   "outputs": [],
   "source": [
    "print(\"\\n🔨 Reading data as lists\")\n",
    "appsDF['appLibraries'] = appsDF['appLibraries'].progress_apply(ast.literal_eval) \n",
    "appsDF['appSystemLibraries'] = appsDF['appSystemLibraries'].progress_apply(ast.literal_eval) "
   ]
  },
  {
   "attachments": {},
   "cell_type": "markdown",
   "metadata": {},
   "source": [
    "### 2. Generate Feature Vectors"
   ]
  },
  {
   "cell_type": "code",
   "execution_count": null,
   "metadata": {},
   "outputs": [],
   "source": [
    "# Create an instance of Vectorizer to transform the permissions into feature Vectors\n",
    "vectorizer = TfidfVectorizer(tokenizer = lambda text: text.split(DELIMITER), max_features = 1536)\n",
    "\n",
    "# Vectorize the Permissions\n",
    "appsDF['appLibrariesFeatures']       = vectorizer.fit_transform([DELIMITER.join(lst) for lst in appsDF['appLibraries'].values]).toarray().tolist()\n",
    "appsDF['appSystemLibrariesFeatures'] = vectorizer.fit_transform([DELIMITER.join(lst) for lst in appsDF['appSystemLibraries'].values]).toarray().tolist()\n",
    "\n",
    "print(\"📐 FV App Libraries Len        : {}\".format(len(appsDF.loc[0,'appLibrariesFeatures'])))\n",
    "print(\"📐 FV App System LIbraries Len : {}\".format(len(appsDF.loc[0,'appSystemLibrariesFeatures'])))"
   ]
  },
  {
   "attachments": {},
   "cell_type": "markdown",
   "metadata": {},
   "source": [
    "### 3. Save Everything"
   ]
  },
  {
   "cell_type": "code",
   "execution_count": null,
   "metadata": {},
   "outputs": [],
   "source": [
    "# Save the result\n",
    "appsDF = appsDF[['sha256','classID',\"appLibrariesFeatures\",\"appSystemLibrariesFeatures\"]]\n",
    "appsDF.to_csv(OUTPUT_PATH, index=False)\n",
    "appsDF.head(5)"
   ]
  },
  {
   "cell_type": "code",
   "execution_count": null,
   "metadata": {},
   "outputs": [],
   "source": [
    "print(\"\\n🔚 END \\n\")\n"
   ]
  }
 ],
 "metadata": {
  "kernelspec": {
   "display_name": "Python 3",
   "language": "python",
   "name": "python3"
  },
  "language_info": {
   "codemirror_mode": {
    "name": "ipython",
    "version": 3
   },
   "file_extension": ".py",
   "mimetype": "text/x-python",
   "name": "python",
   "nbconvert_exporter": "python",
   "pygments_lexer": "ipython3",
   "version": "3.8.10"
  },
  "orig_nbformat": 4,
  "vscode": {
   "interpreter": {
    "hash": "31f2aee4e71d21fbe5cf8b01ff0e069b9275f58929596ceb00d14d90e3e16cd6"
   }
  }
 },
 "nbformat": 4,
 "nbformat_minor": 2
}
