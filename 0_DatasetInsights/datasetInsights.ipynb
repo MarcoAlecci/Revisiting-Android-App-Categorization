{
 "cells": [
  {
   "attachments": {},
   "cell_type": "markdown",
   "metadata": {},
   "source": [
    "## 📊 Dataset Insights\n",
    "\n",
    "In this notebook, we first provide some information, such as the average APK size and average description length of our ground-truth data.\n",
    "\n",
    "Next, we present statistics about the level of granularity and generate some interesting plots"
   ]
  },
  {
   "attachments": {},
   "cell_type": "markdown",
   "metadata": {},
   "source": [
    "#### Import"
   ]
  },
  {
   "cell_type": "code",
   "execution_count": null,
   "metadata": {},
   "outputs": [],
   "source": [
    "# IMPORT\n",
    "from   tqdm                 import tqdm\n",
    "import matplotlib.pyplot    as plt\n",
    "import pandas               as pd\n",
    "import numpy                as np\n",
    "import os"
   ]
  },
  {
   "attachments": {},
   "cell_type": "markdown",
   "metadata": {},
   "source": [
    "#### Parameters"
   ]
  },
  {
   "cell_type": "code",
   "execution_count": null,
   "metadata": {},
   "outputs": [],
   "source": [
    "# Dataset Path\n",
    "INPUT_PATH = \"../0_Data/CSV/0_AndroCatSet.csv\"\n",
    "\n",
    "# AndrozooInfo\n",
    "ANDROZOO_PATH    = \"../0_DatasetCreation/0_androzoo.csv\"\n",
    "ANDROZOO_COLUMNS = ['sha256','sha1','md5','dex_date','apk_size','pkg_name','vercode','vt_detection','vt_scan_date','dex_size','markets']"
   ]
  },
  {
   "cell_type": "code",
   "execution_count": null,
   "metadata": {},
   "outputs": [],
   "source": [
    "# Where to save output file\n",
    "OUTPUT_PATH = \"./datasetInsights.csv\""
   ]
  },
  {
   "cell_type": "code",
   "execution_count": null,
   "metadata": {},
   "outputs": [],
   "source": [
    "# Initialize tqdm for pandas.\n",
    "tqdm.pandas()"
   ]
  },
  {
   "cell_type": "code",
   "execution_count": null,
   "metadata": {},
   "outputs": [],
   "source": [
    "print(\"⚡ START ⚡\\n\")"
   ]
  },
  {
   "cell_type": "markdown",
   "metadata": {},
   "source": [
    "### Load Data"
   ]
  },
  {
   "cell_type": "code",
   "execution_count": null,
   "metadata": {},
   "outputs": [],
   "source": [
    "# Load Dataset\n",
    "appsDF = pd.read_csv(INPUT_PATH, index_col=False)\n",
    "print(\"#️⃣ Apps: {}\".format(appsDF.shape[0]))\n",
    "\n",
    "#appsDF.head(3)"
   ]
  },
  {
   "cell_type": "markdown",
   "metadata": {},
   "source": [
    "### Load AndroZoo"
   ]
  },
  {
   "cell_type": "code",
   "execution_count": null,
   "metadata": {},
   "outputs": [],
   "source": [
    "androzooDF = pd.read_csv(ANDROZOO_PATH, names=ANDROZOO_COLUMNS, index_col=False)\n",
    "print(\"#️⃣ Androzoo Apps: {}\".format(androzooDF.shape[0]))\n",
    "\n",
    "#androzooDF.head(3)"
   ]
  },
  {
   "cell_type": "markdown",
   "metadata": {},
   "source": [
    "###  1. Retrieve APK Size and compute Description Length"
   ]
  },
  {
   "cell_type": "code",
   "execution_count": null,
   "metadata": {},
   "outputs": [],
   "source": [
    "# Create a dictionary mapping sha256 values to apk_size values from androzooDF\n",
    "apkSizeMap          = androzooDF.set_index('sha256')['apk_size'].to_dict()\n",
    "appsDF['apkSize']   = appsDF['sha256'].map(apkSizeMap)\n",
    "\n",
    "appsDF['apkSize'].fillna(0, inplace=True)\n",
    "appsDF.head(3)"
   ]
  },
  {
   "cell_type": "code",
   "execution_count": null,
   "metadata": {},
   "outputs": [],
   "source": [
    "appsDF['descriptionLength'] = appsDF['googlePlayDescription'].progress_apply(lambda x: len(str(x)))\n",
    "appsDF.head(3)"
   ]
  },
  {
   "cell_type": "markdown",
   "metadata": {},
   "source": [
    "### 2. Compute Avg Description Length and Avg APK Size"
   ]
  },
  {
   "cell_type": "code",
   "execution_count": null,
   "metadata": {},
   "outputs": [],
   "source": [
    "infoDF = appsDF.groupby('classID').agg({\n",
    "    'apkSize': ['mean', 'std'],             # Calculate mean and standard deviation for 'apkSize'\n",
    "    'descriptionLength': ['mean', 'std']    # Calculate mean and standard deviation for 'descriptionLength'\n",
    "}).reset_index()\n",
    "\n",
    "\n",
    "# Rename the columns to reflect the computed averages\n",
    "infoDF.columns = ['classID', 'avgApkSize', 'stdApkSize', 'avgDescriptionLength', 'stdDescriptionLength']\n",
    "infoDF['avgApkSize']            = (infoDF['avgApkSize'] / 1000000).round(2)\n",
    "infoDF['stdApkSize']            = (infoDF['stdApkSize'] / 1000000).round(2)\n",
    "infoDF['avgDescriptionLength']  = infoDF['avgDescriptionLength'].astype(int)\n",
    "infoDF['stdDescriptionLength']  = infoDF['stdDescriptionLength'].astype(int)\n",
    "\n",
    "# Append the average_row to the end of the DataFrame\n",
    "infoDF = infoDF.append(infoDF.mean(numeric_only=True).round(2), ignore_index=True)\n",
    "infoDF.loc[50,'classID'] = \"TOTAL\"\n",
    "infoDF['avgDescriptionLength']  = infoDF['avgDescriptionLength'].astype(int)\n",
    "infoDF['stdDescriptionLength']  = infoDF['stdDescriptionLength'].astype(int)\n",
    "\n",
    "# Save the result\n",
    "infoDF.to_csv(OUTPUT_PATH, index=False)"
   ]
  },
  {
   "cell_type": "markdown",
   "metadata": {},
   "source": [
    "### 3. Load Data again"
   ]
  },
  {
   "cell_type": "code",
   "execution_count": null,
   "metadata": {},
   "outputs": [],
   "source": [
    "# Load Dataset\n",
    "appsDF = pd.read_csv(INPUT_PATH, index_col=False)\n",
    "print(\"#️⃣ APPS: {}\".format(appsDF.shape[0]))\n",
    "\n",
    "# Remove columns not needed\n",
    "appsDF = appsDF.drop(['pkgName','googlePlayDescription'], axis=1)\n",
    "\n",
    "appsDF.head(3)"
   ]
  },
  {
   "cell_type": "markdown",
   "metadata": {},
   "source": [
    "### 4. Group the DataFrame by 'classID' and count the occurrences of 'googlePlayCategoryID'"
   ]
  },
  {
   "cell_type": "code",
   "execution_count": null,
   "metadata": {},
   "outputs": [],
   "source": [
    "# Group the DataFrame by 'classID' and count the occurrences of 'googlePlayCategory'\n",
    "counts = appsDF.groupby('classID')['googlePlayCategoryID'].value_counts()\n",
    "\n",
    "# Keep track of the previous classID\n",
    "prevClassID = None\n",
    "\n",
    "# Print the counts for each 'classID'\n",
    "for item, count in counts.items():\n",
    "    classID, googlePlayCategoryID = item\n",
    "\n",
    "    if classID != prevClassID:\n",
    "        print(\"\\n🏷️ classID : {}\".format(classID))\n",
    "        prevClassID = classID\n",
    "\n",
    "    print(\"-- gpCategoryID: {:20} Count: {}\".format(googlePlayCategoryID, count))"
   ]
  },
  {
   "cell_type": "markdown",
   "metadata": {},
   "source": [
    "### 5. # Group the DataFrame by 'googlePlayCategoryID' and count the occurrences of 'classID'"
   ]
  },
  {
   "cell_type": "code",
   "execution_count": null,
   "metadata": {},
   "outputs": [],
   "source": [
    "# Group the DataFrame by 'gpID' and count the occurrences of 'googlePlayCategory'\n",
    "counts = appsDF.groupby('googlePlayCategoryID')['classID'].value_counts()\n",
    "\n",
    "# Keep track of the previous classID\n",
    "prevGpID = None\n",
    "\n",
    "# Print the counts for each 'classID'\n",
    "for item, count in counts.items():\n",
    "    gpID, classID = item\n",
    "\n",
    "    if gpID != prevGpID:\n",
    "        print(\"\\n🏷️ gpID : {}\".format(gpID))\n",
    "        prevGpID = gpID\n",
    "\n",
    "    print(\"-- classID: {:25} Count: {}\".format(classID, count))"
   ]
  },
  {
   "attachments": {},
   "cell_type": "markdown",
   "metadata": {},
   "source": [
    "### 6. Plots\n",
    "\n",
    "The distribution of class IDs among the Play Store categories of TOOLS and HOUSE_AND_HOME."
   ]
  },
  {
   "cell_type": "code",
   "execution_count": null,
   "metadata": {},
   "outputs": [],
   "source": [
    "# Paths to save plots.\n",
    "PLOTS_PATH = \"./Plots/\"\n",
    "\n",
    "# Create folder for paths\n",
    "if not os.path.exists(PLOTS_PATH):\n",
    "    os.makedirs(PLOTS_PATH)\n",
    "    print(\"Folder created:\", PLOTS_PATH)\n",
    "else:\n",
    "    print(\"Folder already exists:\", PLOTS_PATH)\n",
    "\n",
    "# FontSize Parameters\n",
    "TITLE_FONTSIZE = 18\n",
    "TICKS_FONTSIZE = 13\n",
    "AXIS_FONTSIZE  = 14\n",
    "\n",
    "COLORS = [\"#68B984\", \"#F0A04B\", \"#89CFFD\",\"#FFCB42\", \"#BFACE2\", \"#E96479\", \"#5DA7DB\"]"
   ]
  },
  {
   "cell_type": "markdown",
   "metadata": {},
   "source": [
    "#### CategoryID: Tools"
   ]
  },
  {
   "cell_type": "code",
   "execution_count": null,
   "metadata": {},
   "outputs": [],
   "source": [
    "TO_PLOT = \"TOOLS\""
   ]
  },
  {
   "cell_type": "code",
   "execution_count": null,
   "metadata": {},
   "outputs": [],
   "source": [
    "# Filter appsDF\n",
    "plotDF = appsDF[appsDF['googlePlayCategoryID'] == TO_PLOT]\n",
    "plotDF = plotDF.groupby('googlePlayCategoryID')['classID'].value_counts().reset_index(name='numApps')\n",
    "\n",
    "# Group small classes into OTHER\n",
    "plotDF.loc[plotDF['numApps'] / sum(plotDF['numApps']) < 0.03, 'classID'] = 'Other'\n",
    "plotDF = plotDF.groupby('classID').sum().reset_index()\n",
    "plotDF = plotDF.sort_values('numApps', ascending=False)\n",
    "plotDF.head(3)"
   ]
  },
  {
   "cell_type": "code",
   "execution_count": null,
   "metadata": {},
   "outputs": [],
   "source": [
    "VALUES = plotDF['numApps'].values\n",
    "VALUES = np.insert(VALUES, 0, 0)\n",
    "\n",
    "LABELS = plotDF['classID'].values\n",
    "LABELS[4] = \"BarcodeScanner\""
   ]
  },
  {
   "cell_type": "code",
   "execution_count": null,
   "metadata": {},
   "outputs": [],
   "source": [
    "# Figure Size\n",
    "plt.figure(figsize=(35, 3))\n",
    "\n",
    "ax = plt.gca()\n",
    "ax.axis('off')\n",
    "\n",
    "# Stack the others Barplot\n",
    "for i in range(1, len(VALUES)):\n",
    "\n",
    "    ax.barh(0, \n",
    "            VALUES[i], \n",
    "            left = sum(VALUES[0:i]),\n",
    "            edgecolor='black', \n",
    "            color = COLORS[(i-1)%len(COLORS)\n",
    "            ])\n",
    "\n",
    "\n",
    "    # Add text labels\n",
    "    if i % 2 == 0:\n",
    "        textY = -0.7\n",
    "    else:\n",
    "        textY = -1\n",
    "\n",
    "    textX = sum(VALUES[0:i]) + VALUES[i] / 2\n",
    "    ax.text(textX, textY, LABELS[i - 1], ha='center', va='center', fontsize=26)\n",
    "    ax.text(textX, 0, '{:.1f}%\\n({:,})'.format(VALUES[i] / sum(plotDF['numApps']) * 100, VALUES[i]), ha='center', va='center', fontsize=24)\n",
    "\n",
    "    lineX = sum(VALUES[0:i]) + VALUES[i] / 2\n",
    "    ax.plot([lineX, textX], [-0.41, textY+0.1], color='black')\n",
    "\n",
    "# Adjust x-axis limits to match the extent of bars\n",
    "ax.set_xlim(0, sum(VALUES))\n",
    "\n",
    "# # Save\n",
    "plt.savefig(PLOTS_PATH + 'toolsOverview.png', dpi=300, bbox_inches='tight')\n",
    "plt.savefig(PLOTS_PATH + 'toolsOverview.pdf', bbox_inches='tight')\n",
    "\n",
    "# Display the chart\n",
    "plt.show()"
   ]
  },
  {
   "cell_type": "markdown",
   "metadata": {},
   "source": [
    "#### CategoryID:  House_And_Home"
   ]
  },
  {
   "cell_type": "code",
   "execution_count": null,
   "metadata": {},
   "outputs": [],
   "source": [
    "plotDF = appsDF[appsDF['googlePlayCategoryID'] == \"HOUSE_AND_HOME\"]\n",
    "plotDF = plotDF[plotDF['classID'] != 'Translator']\n",
    "plotDF = plotDF.groupby('googlePlayCategoryID')['classID'].value_counts().reset_index(name='numApps')\n",
    "plotDF"
   ]
  },
  {
   "cell_type": "code",
   "execution_count": null,
   "metadata": {},
   "outputs": [],
   "source": [
    "VALUES = plotDF['numApps'].values\n",
    "VALUES = np.insert(VALUES, 0, 0)\n",
    "\n",
    "LABELS = plotDF['classID'].values"
   ]
  },
  {
   "cell_type": "code",
   "execution_count": null,
   "metadata": {},
   "outputs": [],
   "source": [
    "# Figure Size\n",
    "plt.figure(figsize=(35, 3))\n",
    "\n",
    "ax = plt.gca()\n",
    "ax.axis('off')\n",
    "\n",
    "# Stack the others Barplot\n",
    "for i in range(1, len(VALUES)):\n",
    "\n",
    "    ax.barh(0, \n",
    "            VALUES[i], \n",
    "            left = sum(VALUES[0:i]),\n",
    "            edgecolor='black', \n",
    "            color = COLORS[(i-1)%len(COLORS)\n",
    "            ])\n",
    "\n",
    "\n",
    "    # Add text labels\n",
    "    if i % 2 == 0:\n",
    "        textY = -0.7\n",
    "    else:\n",
    "        textY = -1\n",
    "\n",
    "    textX = sum(VALUES[0:i]) + VALUES[i] / 2\n",
    "    ax.text(textX, textY, LABELS[i - 1], ha='center', va='center', fontsize=26)\n",
    "    ax.text(textX, 0, '{:.1f}%\\n({:,})'.format(VALUES[i] / sum(plotDF['numApps']) * 100, VALUES[i]), ha='center', va='center', fontsize=24)\n",
    "\n",
    "    lineX = sum(VALUES[0:i]) + VALUES[i] / 2\n",
    "    ax.plot([lineX, textX], [-0.41, textY+0.1], color='black')\n",
    "\n",
    "# Adjust x-axis limits to match the extent of bars\n",
    "ax.set_xlim(0, sum(VALUES))\n",
    "\n",
    "# # Save\n",
    "plt.savefig(PLOTS_PATH + 'HouseAndHomeOverview.png', dpi=300, bbox_inches='tight')\n",
    "plt.savefig(PLOTS_PATH + 'HouseAndHomeOverview.pdf', bbox_inches='tight')\n",
    "\n",
    "# Display the chart\n",
    "plt.show()"
   ]
  },
  {
   "cell_type": "code",
   "execution_count": null,
   "metadata": {},
   "outputs": [],
   "source": [
    "print(\"\\n🔚 END\")"
   ]
  }
 ],
 "metadata": {
  "kernelspec": {
   "display_name": "Python 3",
   "language": "python",
   "name": "python3"
  },
  "language_info": {
   "codemirror_mode": {
    "name": "ipython",
    "version": 3
   },
   "file_extension": ".py",
   "mimetype": "text/x-python",
   "name": "python",
   "nbconvert_exporter": "python",
   "pygments_lexer": "ipython3",
   "version": "3.8.10"
  },
  "orig_nbformat": 4
 },
 "nbformat": 4,
 "nbformat_minor": 2
}
