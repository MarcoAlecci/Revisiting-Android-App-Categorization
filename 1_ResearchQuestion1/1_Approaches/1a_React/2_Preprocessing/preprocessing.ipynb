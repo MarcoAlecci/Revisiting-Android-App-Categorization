{
 "cells": [
  {
   "attachments": {},
   "cell_type": "markdown",
   "metadata": {},
   "source": [
    "## ⛏️ React - Preprocessing\n",
    "\n",
    "Notebook for preprocessing XML values, GUI strings, and method names according to the React approach."
   ]
  },
  {
   "cell_type": "markdown",
   "metadata": {},
   "source": [
    "#### Imports"
   ]
  },
  {
   "cell_type": "code",
   "execution_count": null,
   "metadata": {},
   "outputs": [],
   "source": [
    "# IMPORT\n",
    "from   tqdm     import tqdm\n",
    "import pandas   as pd\n",
    "import ast\n",
    "\n",
    "import React"
   ]
  },
  {
   "cell_type": "code",
   "execution_count": null,
   "metadata": {},
   "outputs": [],
   "source": [
    "# Initialize TQDM library for Pandas\n",
    "tqdm.pandas()"
   ]
  },
  {
   "cell_type": "code",
   "execution_count": null,
   "metadata": {},
   "outputs": [],
   "source": [
    "print(\"⚡ START ⚡\")"
   ]
  },
  {
   "cell_type": "markdown",
   "metadata": {},
   "source": [
    "#### Parameters"
   ]
  },
  {
   "cell_type": "code",
   "execution_count": null,
   "metadata": {},
   "outputs": [],
   "source": [
    "# Where to temporarily store APK Files\n",
    "APK_PATH    = \"../../../../0_Data/APKS/\"\n",
    "\n",
    "# Input\n",
    "INPUT_PATH  = \"../TMP/1a_ReactData.csv\"\n",
    "\n",
    "# Output Path\n",
    "OUTPUT_PATH = \"../TMP/1a_ReactDataPreprocessed.csv\""
   ]
  },
  {
   "attachments": {},
   "cell_type": "markdown",
   "metadata": {},
   "source": [
    "### 1. Load Data."
   ]
  },
  {
   "cell_type": "code",
   "execution_count": null,
   "metadata": {},
   "outputs": [],
   "source": [
    "appsDF = pd.read_csv(INPUT_PATH,index_col=False)\n",
    "print(\"#️⃣   APPS: {}\".format(appsDF.shape[0]))\n",
    "\n",
    "appsDF.head(5)"
   ]
  },
  {
   "cell_type": "code",
   "execution_count": null,
   "metadata": {},
   "outputs": [],
   "source": [
    "COLUMNS = ['xmlValues','guiText','methodNamesText']\n",
    "\n",
    "print(\"\\n🔨 Loading data as lists\")\n",
    "for column in COLUMNS:\n",
    "    appsDF[column] = appsDF[column].progress_apply(ast.literal_eval)       \n"
   ]
  },
  {
   "attachments": {},
   "cell_type": "markdown",
   "metadata": {},
   "source": [
    "### 2. Preprocessing."
   ]
  },
  {
   "cell_type": "code",
   "execution_count": null,
   "metadata": {},
   "outputs": [],
   "source": [
    "print(\"\\n🔨 Preprocessing\")\n",
    "# Pre process the features\n",
    "React.preprocess(appsDF, COLUMNS)                                      "
   ]
  },
  {
   "attachments": {},
   "cell_type": "markdown",
   "metadata": {},
   "source": [
    "### 3. Save the results."
   ]
  },
  {
   "cell_type": "code",
   "execution_count": null,
   "metadata": {},
   "outputs": [],
   "source": [
    "# Save the result\n",
    "appsDF.to_csv(OUTPUT_PATH, index=False)\n",
    "print(\"\\n🔚 END \\n\")\n",
    "\n",
    "appsDF.head(5)"
   ]
  }
 ],
 "metadata": {
  "kernelspec": {
   "display_name": "Python 3",
   "language": "python",
   "name": "python3"
  },
  "language_info": {
   "codemirror_mode": {
    "name": "ipython",
    "version": 3
   },
   "file_extension": ".py",
   "mimetype": "text/x-python",
   "name": "python",
   "nbconvert_exporter": "python",
   "pygments_lexer": "ipython3",
   "version": "3.8.10"
  },
  "orig_nbformat": 4,
  "vscode": {
   "interpreter": {
    "hash": "31f2aee4e71d21fbe5cf8b01ff0e069b9275f58929596ceb00d14d90e3e16cd6"
   }
  }
 },
 "nbformat": 4,
 "nbformat_minor": 2
}
