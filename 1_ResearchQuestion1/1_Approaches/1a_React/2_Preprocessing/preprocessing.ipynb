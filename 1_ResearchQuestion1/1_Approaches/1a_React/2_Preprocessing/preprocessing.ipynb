{
 "cells": [
  {
   "attachments": {},
   "cell_type": "markdown",
   "metadata": {},
   "source": [
    "## ⛏️ React - Preprocessing\n",
    "\n",
    "Notebook for preprocessing XML values, GUI strings, and method names according to the React approach."
   ]
  },
  {
   "cell_type": "markdown",
   "metadata": {},
   "source": [
    "#### Imports"
   ]
  },
  {
   "cell_type": "code",
   "execution_count": 2,
   "metadata": {},
   "outputs": [],
   "source": [
    "# IMPORT\n",
    "from   tqdm     import tqdm\n",
    "import pandas   as pd\n",
    "import ast\n",
    "import os\n",
    "\n",
    "import React"
   ]
  },
  {
   "cell_type": "code",
   "execution_count": 3,
   "metadata": {},
   "outputs": [],
   "source": [
    "# Initialize TQDM library for Pandas\n",
    "tqdm.pandas()"
   ]
  },
  {
   "cell_type": "code",
   "execution_count": 4,
   "metadata": {},
   "outputs": [
    {
     "name": "stdout",
     "output_type": "stream",
     "text": [
      "⚡ START ⚡\n"
     ]
    }
   ],
   "source": [
    "print(\"⚡ START ⚡\")"
   ]
  },
  {
   "cell_type": "markdown",
   "metadata": {},
   "source": [
    "#### Parameters"
   ]
  },
  {
   "cell_type": "code",
   "execution_count": 5,
   "metadata": {},
   "outputs": [
    {
     "name": "stdout",
     "output_type": "stream",
     "text": [
      "📁✅ Folder already exists: ../TMP\n"
     ]
    }
   ],
   "source": [
    "# Input\n",
    "INPUT_PATH  = \"../TMP/1a_ReactData.csv\"\n",
    "\n",
    "# Output Path\n",
    "OUTPUT_PATH = \"../TMP/1a_ReactDataPreprocessed.csv\"\n",
    "\n",
    "TMP_PATH = \"../TMP/\"\n",
    "if not os.path.exists(TMP_PATH):\n",
    "    os.makedirs(TMP_PATH)\n",
    "    print(\"📁🆕 Folder created       :\", TMP_PATH)\n",
    "else:\n",
    "    print(\"📁✅ Folder already exists:\", TMP_PATH)"
   ]
  },
  {
   "attachments": {},
   "cell_type": "markdown",
   "metadata": {},
   "source": [
    "### 1. Load Data."
   ]
  },
  {
   "cell_type": "code",
   "execution_count": 6,
   "metadata": {},
   "outputs": [
    {
     "name": "stdout",
     "output_type": "stream",
     "text": [
      "#️⃣   APPS: 5\n"
     ]
    },
    {
     "data": {
      "text/html": [
       "<div>\n",
       "<style scoped>\n",
       "    .dataframe tbody tr th:only-of-type {\n",
       "        vertical-align: middle;\n",
       "    }\n",
       "\n",
       "    .dataframe tbody tr th {\n",
       "        vertical-align: top;\n",
       "    }\n",
       "\n",
       "    .dataframe thead th {\n",
       "        text-align: right;\n",
       "    }\n",
       "</style>\n",
       "<table border=\"1\" class=\"dataframe\">\n",
       "  <thead>\n",
       "    <tr style=\"text-align: right;\">\n",
       "      <th></th>\n",
       "      <th>sha256</th>\n",
       "      <th>classID</th>\n",
       "      <th>xmlValues</th>\n",
       "      <th>guiText</th>\n",
       "      <th>methodNamesText</th>\n",
       "    </tr>\n",
       "  </thead>\n",
       "  <tbody>\n",
       "    <tr>\n",
       "      <th>0</th>\n",
       "      <td>9B30837BD2474AC3623A43D052F7ADC4C63E4AA9981F0F...</td>\n",
       "      <td>Calculator</td>\n",
       "      <td>['About', 'About application', 'Accept', 'Accu...</td>\n",
       "      <td>[]</td>\n",
       "      <td>['Activity', 'Back', 'Cfigurati', 'Change', 'C...</td>\n",
       "    </tr>\n",
       "    <tr>\n",
       "      <th>1</th>\n",
       "      <td>686DE8D8A0D08992CB135BC7A0500D0109D9697A1140B8...</td>\n",
       "      <td>Calculator</td>\n",
       "      <td>['Accept', 'Ad Information', 'Allow Ad to crea...</td>\n",
       "      <td>['', '', 'CITIZEN CT S', 'Ch', 'Cie DECETE  an...</td>\n",
       "      <td>['ARGB', 'Aband', 'Abanded', 'Absolute', 'Abso...</td>\n",
       "    </tr>\n",
       "    <tr>\n",
       "      <th>2</th>\n",
       "      <td>A49864DCC90F6730569455BDFA39B4B7CF70AE0C34D656...</td>\n",
       "      <td>Calculator</td>\n",
       "      <td>['AIzaSyDtmSQNkCRajQbCcWewwPsUNKaQ', 'Accept',...</td>\n",
       "      <td>['', '', '', '', 'io']</td>\n",
       "      <td>['ARGB', 'Aband', 'Abanded', 'Above', 'Absolut...</td>\n",
       "    </tr>\n",
       "    <tr>\n",
       "      <th>3</th>\n",
       "      <td>85C80B7ED3799C04CBD107DD3004F91ED4DC2BF8D75C35...</td>\n",
       "      <td>Calculator</td>\n",
       "      <td>['Acoustic feedback', 'Activate', 'Activate if...</td>\n",
       "      <td>['', '', 'ABC', 'FS', 'ee', 'iS']</td>\n",
       "      <td>['APIServer', 'APISize', 'Aband', 'Abanded', '...</td>\n",
       "    </tr>\n",
       "    <tr>\n",
       "      <th>4</th>\n",
       "      <td>66442DEF269FF22FB4177759343D973DA1A6A3AFE2ECE3...</td>\n",
       "      <td>Calculator</td>\n",
       "      <td>['Accept', 'Ad Information', 'Allow Ad to crea...</td>\n",
       "      <td>['', '', '', '', '', 'AAT tam', 'AMF ital', 'A...</td>\n",
       "      <td>['AAID', 'AAXName', 'AAXParameter', 'AAXParame...</td>\n",
       "    </tr>\n",
       "  </tbody>\n",
       "</table>\n",
       "</div>"
      ],
      "text/plain": [
       "                                              sha256     classID  \\\n",
       "0  9B30837BD2474AC3623A43D052F7ADC4C63E4AA9981F0F...  Calculator   \n",
       "1  686DE8D8A0D08992CB135BC7A0500D0109D9697A1140B8...  Calculator   \n",
       "2  A49864DCC90F6730569455BDFA39B4B7CF70AE0C34D656...  Calculator   \n",
       "3  85C80B7ED3799C04CBD107DD3004F91ED4DC2BF8D75C35...  Calculator   \n",
       "4  66442DEF269FF22FB4177759343D973DA1A6A3AFE2ECE3...  Calculator   \n",
       "\n",
       "                                           xmlValues  \\\n",
       "0  ['About', 'About application', 'Accept', 'Accu...   \n",
       "1  ['Accept', 'Ad Information', 'Allow Ad to crea...   \n",
       "2  ['AIzaSyDtmSQNkCRajQbCcWewwPsUNKaQ', 'Accept',...   \n",
       "3  ['Acoustic feedback', 'Activate', 'Activate if...   \n",
       "4  ['Accept', 'Ad Information', 'Allow Ad to crea...   \n",
       "\n",
       "                                             guiText  \\\n",
       "0                                                 []   \n",
       "1  ['', '', 'CITIZEN CT S', 'Ch', 'Cie DECETE  an...   \n",
       "2                             ['', '', '', '', 'io']   \n",
       "3                  ['', '', 'ABC', 'FS', 'ee', 'iS']   \n",
       "4  ['', '', '', '', '', 'AAT tam', 'AMF ital', 'A...   \n",
       "\n",
       "                                     methodNamesText  \n",
       "0  ['Activity', 'Back', 'Cfigurati', 'Change', 'C...  \n",
       "1  ['ARGB', 'Aband', 'Abanded', 'Absolute', 'Abso...  \n",
       "2  ['ARGB', 'Aband', 'Abanded', 'Above', 'Absolut...  \n",
       "3  ['APIServer', 'APISize', 'Aband', 'Abanded', '...  \n",
       "4  ['AAID', 'AAXName', 'AAXParameter', 'AAXParame...  "
      ]
     },
     "execution_count": 6,
     "metadata": {},
     "output_type": "execute_result"
    }
   ],
   "source": [
    "appsDF = pd.read_csv(INPUT_PATH,index_col=False)\n",
    "print(\"#️⃣   APPS: {}\".format(appsDF.shape[0]))\n",
    "\n",
    "appsDF.head(5)"
   ]
  },
  {
   "cell_type": "code",
   "execution_count": 7,
   "metadata": {},
   "outputs": [
    {
     "name": "stdout",
     "output_type": "stream",
     "text": [
      "\n",
      "🔨 Loading data as lists\n"
     ]
    },
    {
     "name": "stderr",
     "output_type": "stream",
     "text": [
      "100%|██████████| 5/5 [00:00<00:00, 2286.97it/s]\n",
      "100%|██████████| 5/5 [00:00<00:00, 5091.41it/s]\n",
      "100%|██████████| 5/5 [00:00<00:00, 92.97it/s]\n"
     ]
    }
   ],
   "source": [
    "COLUMNS = ['xmlValues','guiText','methodNamesText']\n",
    "\n",
    "print(\"\\n🔨 Loading data as lists\")\n",
    "for column in COLUMNS:\n",
    "    appsDF[column] = appsDF[column].progress_apply(ast.literal_eval)       \n"
   ]
  },
  {
   "attachments": {},
   "cell_type": "markdown",
   "metadata": {},
   "source": [
    "### 2. Preprocessing."
   ]
  },
  {
   "cell_type": "code",
   "execution_count": 8,
   "metadata": {},
   "outputs": [
    {
     "name": "stdout",
     "output_type": "stream",
     "text": [
      "\n",
      "🔨 Preprocessing\n",
      "\n",
      "🔨 1. Tokenization\n"
     ]
    },
    {
     "name": "stderr",
     "output_type": "stream",
     "text": [
      "100%|██████████| 5/5 [00:00<00:00, 156.71it/s]\n",
      "100%|██████████| 5/5 [00:00<00:00, 445.12it/s]\n",
      "100%|██████████| 5/5 [00:00<00:00, 17.20it/s]\n"
     ]
    },
    {
     "name": "stdout",
     "output_type": "stream",
     "text": [
      "\n",
      "Average lengths:\n",
      "-- xmlValues      : 385\n",
      "-- guiText        : 183\n",
      "-- methodNamesText: 1921\n",
      "\n",
      "🔨 2. Stemming and Lemmatization\n"
     ]
    },
    {
     "name": "stderr",
     "output_type": "stream",
     "text": [
      "100%|██████████| 5/5 [00:00<00:00,  7.07it/s]\n",
      "100%|██████████| 5/5 [00:00<00:00, 580.21it/s]\n",
      "100%|██████████| 5/5 [00:00<00:00, 44.72it/s]\n"
     ]
    },
    {
     "name": "stdout",
     "output_type": "stream",
     "text": [
      "\n",
      "Average lengths:\n",
      "-- xmlValues      : 147\n",
      "-- guiText        : 87\n",
      "-- methodNamesText: 1473\n",
      "\n",
      "🔨 3. Removing too frequent words\n"
     ]
    },
    {
     "name": "stderr",
     "output_type": "stream",
     "text": [
      "100%|██████████| 5/5 [00:00<00:00, 11821.60it/s]\n",
      "100%|██████████| 5/5 [00:00<00:00, 13530.01it/s]\n",
      "100%|██████████| 5/5 [00:00<00:00, 6516.94it/s]"
     ]
    },
    {
     "name": "stdout",
     "output_type": "stream",
     "text": [
      "\n",
      "Average lengths:\n",
      "-- xmlValues      : 147\n",
      "-- guiText        : 87\n",
      "-- methodNamesText: 1473\n"
     ]
    },
    {
     "name": "stderr",
     "output_type": "stream",
     "text": [
      "\n"
     ]
    }
   ],
   "source": [
    "print(\"\\n🔨 Preprocessing\")\n",
    "# Pre process the features\n",
    "React.preprocess(appsDF, COLUMNS)                                      "
   ]
  },
  {
   "attachments": {},
   "cell_type": "markdown",
   "metadata": {},
   "source": [
    "### 3. Save the results."
   ]
  },
  {
   "cell_type": "code",
   "execution_count": 9,
   "metadata": {},
   "outputs": [
    {
     "name": "stdout",
     "output_type": "stream",
     "text": [
      "\n",
      "🔚 END \n",
      "\n"
     ]
    },
    {
     "data": {
      "text/html": [
       "<div>\n",
       "<style scoped>\n",
       "    .dataframe tbody tr th:only-of-type {\n",
       "        vertical-align: middle;\n",
       "    }\n",
       "\n",
       "    .dataframe tbody tr th {\n",
       "        vertical-align: top;\n",
       "    }\n",
       "\n",
       "    .dataframe thead th {\n",
       "        text-align: right;\n",
       "    }\n",
       "</style>\n",
       "<table border=\"1\" class=\"dataframe\">\n",
       "  <thead>\n",
       "    <tr style=\"text-align: right;\">\n",
       "      <th></th>\n",
       "      <th>sha256</th>\n",
       "      <th>classID</th>\n",
       "      <th>xmlValues</th>\n",
       "      <th>guiText</th>\n",
       "      <th>methodNamesText</th>\n",
       "    </tr>\n",
       "  </thead>\n",
       "  <tbody>\n",
       "    <tr>\n",
       "      <th>0</th>\n",
       "      <td>9B30837BD2474AC3623A43D052F7ADC4C63E4AA9981F0F...</td>\n",
       "      <td>Calculator</td>\n",
       "      <td>[about, abov, accept, accuraci, action, after,...</td>\n",
       "      <td>[]</td>\n",
       "      <td>[activ, after, back, cfigurati, chang, child, ...</td>\n",
       "    </tr>\n",
       "    <tr>\n",
       "      <th>1</th>\n",
       "      <td>686DE8D8A0D08992CB135BC7A0500D0109D9697A1140B8...</td>\n",
       "      <td>Calculator</td>\n",
       "      <td>[accept, again, allow, angelnx, calcul, calend...</td>\n",
       "      <td>[citizen, cricvilla, decet, ethnic, indian, we...</td>\n",
       "      <td>[aband, abl, abort, absolut, absorb, accept, a...</td>\n",
       "    </tr>\n",
       "    <tr>\n",
       "      <th>2</th>\n",
       "      <td>A49864DCC90F6730569455BDFA39B4B7CF70AE0C34D656...</td>\n",
       "      <td>Calculator</td>\n",
       "      <td>[accept, admobappidappspotcom, aizasydtmsqnkcr...</td>\n",
       "      <td>[]</td>\n",
       "      <td>[aband, abl, abort, abov, absolut, absorb, acc...</td>\n",
       "    </tr>\n",
       "    <tr>\n",
       "      <th>3</th>\n",
       "      <td>85C80B7ED3799C04CBD107DD3004F91ED4DC2BF8D75C35...</td>\n",
       "      <td>Calculator</td>\n",
       "      <td>[account, acoust, activ, again, allow, alreadi...</td>\n",
       "      <td>[]</td>\n",
       "      <td>[aband, abl, abort, absolut, absorb, accept, a...</td>\n",
       "    </tr>\n",
       "    <tr>\n",
       "      <th>4</th>\n",
       "      <td>66442DEF269FF22FB4177759343D973DA1A6A3AFE2ECE3...</td>\n",
       "      <td>Calculator</td>\n",
       "      <td>[accept, adfre, again, allow, androidsdkopenx,...</td>\n",
       "      <td>[aaaian, aaiiu, aati, acina, aeee, aelallen, a...</td>\n",
       "      <td>[aaid, aaxnam, aaxparamet, abil, abl, abort, a...</td>\n",
       "    </tr>\n",
       "  </tbody>\n",
       "</table>\n",
       "</div>"
      ],
      "text/plain": [
       "                                              sha256     classID  \\\n",
       "0  9B30837BD2474AC3623A43D052F7ADC4C63E4AA9981F0F...  Calculator   \n",
       "1  686DE8D8A0D08992CB135BC7A0500D0109D9697A1140B8...  Calculator   \n",
       "2  A49864DCC90F6730569455BDFA39B4B7CF70AE0C34D656...  Calculator   \n",
       "3  85C80B7ED3799C04CBD107DD3004F91ED4DC2BF8D75C35...  Calculator   \n",
       "4  66442DEF269FF22FB4177759343D973DA1A6A3AFE2ECE3...  Calculator   \n",
       "\n",
       "                                           xmlValues  \\\n",
       "0  [about, abov, accept, accuraci, action, after,...   \n",
       "1  [accept, again, allow, angelnx, calcul, calend...   \n",
       "2  [accept, admobappidappspotcom, aizasydtmsqnkcr...   \n",
       "3  [account, acoust, activ, again, allow, alreadi...   \n",
       "4  [accept, adfre, again, allow, androidsdkopenx,...   \n",
       "\n",
       "                                             guiText  \\\n",
       "0                                                 []   \n",
       "1  [citizen, cricvilla, decet, ethnic, indian, we...   \n",
       "2                                                 []   \n",
       "3                                                 []   \n",
       "4  [aaaian, aaiiu, aati, acina, aeee, aelallen, a...   \n",
       "\n",
       "                                     methodNamesText  \n",
       "0  [activ, after, back, cfigurati, chang, child, ...  \n",
       "1  [aband, abl, abort, absolut, absorb, accept, a...  \n",
       "2  [aband, abl, abort, abov, absolut, absorb, acc...  \n",
       "3  [aband, abl, abort, absolut, absorb, accept, a...  \n",
       "4  [aaid, aaxnam, aaxparamet, abil, abl, abort, a...  "
      ]
     },
     "execution_count": 9,
     "metadata": {},
     "output_type": "execute_result"
    }
   ],
   "source": [
    "# Save the result\n",
    "appsDF.to_csv(OUTPUT_PATH, index=False)\n",
    "print(\"\\n🔚 END \\n\")\n",
    "\n",
    "appsDF.head(5)"
   ]
  }
 ],
 "metadata": {
  "kernelspec": {
   "display_name": "Python 3",
   "language": "python",
   "name": "python3"
  },
  "language_info": {
   "codemirror_mode": {
    "name": "ipython",
    "version": 3
   },
   "file_extension": ".py",
   "mimetype": "text/x-python",
   "name": "python",
   "nbconvert_exporter": "python",
   "pygments_lexer": "ipython3",
   "version": "3.8.10"
  },
  "orig_nbformat": 4,
  "vscode": {
   "interpreter": {
    "hash": "31f2aee4e71d21fbe5cf8b01ff0e069b9275f58929596ceb00d14d90e3e16cd6"
   }
  }
 },
 "nbformat": 4,
 "nbformat_minor": 2
}
