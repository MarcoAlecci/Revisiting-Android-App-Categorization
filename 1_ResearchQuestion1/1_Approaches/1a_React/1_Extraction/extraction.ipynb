{
 "cells": [
  {
   "attachments": {},
   "cell_type": "markdown",
   "metadata": {},
   "source": [
    "## ⛏️ React  - Extraction\n",
    "\n",
    "Notebook for extracting XML values, GUI strings, and method names using the React approach."
   ]
  },
  {
   "cell_type": "markdown",
   "metadata": {},
   "source": [
    "#### Imports"
   ]
  },
  {
   "cell_type": "code",
   "execution_count": 7,
   "metadata": {},
   "outputs": [],
   "source": [
    "# IMPORT\n",
    "from   tqdm     import tqdm\n",
    "import pandas   as pd\n",
    "import os\n",
    "\n",
    "# React approach\n",
    "import React"
   ]
  },
  {
   "cell_type": "code",
   "execution_count": 8,
   "metadata": {},
   "outputs": [],
   "source": [
    "# Initialize TQDM library for Pandas\n",
    "tqdm.pandas()"
   ]
  },
  {
   "cell_type": "code",
   "execution_count": 9,
   "metadata": {},
   "outputs": [
    {
     "name": "stdout",
     "output_type": "stream",
     "text": [
      "⚡ START ⚡\n"
     ]
    }
   ],
   "source": [
    "print(\"⚡ START ⚡\")"
   ]
  },
  {
   "cell_type": "markdown",
   "metadata": {},
   "source": [
    "#### Parameters"
   ]
  },
  {
   "cell_type": "code",
   "execution_count": 10,
   "metadata": {},
   "outputs": [
    {
     "name": "stdout",
     "output_type": "stream",
     "text": [
      "📁✅ Folder already exists: ../TMP/\n"
     ]
    }
   ],
   "source": [
    "# Ground-Truth Dataset\n",
    "#INPUT_PATH  = \"../../../../0_Data/CSV/0_AndroCatSet.csv\"\n",
    "INPUT_PATH  = \"../../../../0_Data/CSV/1_AndroCatSet_MiniTEST.csv\"\n",
    "\n",
    "# Output Path\n",
    "OUTPUT_PATH = \"../TMP/1a_ReactData.csv\"\n",
    "\n",
    "TMP_PATH = \"../TMP/\"\n",
    "if not os.path.exists(TMP_PATH):\n",
    "    os.makedirs(TMP_PATH)\n",
    "    print(\"📁🆕 Folder created       :\", TMP_PATH)\n",
    "else:\n",
    "    print(\"📁✅ Folder already exists:\", TMP_PATH)"
   ]
  },
  {
   "attachments": {},
   "cell_type": "markdown",
   "metadata": {},
   "source": [
    "### 1. Load Data"
   ]
  },
  {
   "cell_type": "code",
   "execution_count": 11,
   "metadata": {},
   "outputs": [
    {
     "name": "stdout",
     "output_type": "stream",
     "text": [
      "#️⃣ Apps: 50\n"
     ]
    },
    {
     "data": {
      "text/html": [
       "<div>\n",
       "<style scoped>\n",
       "    .dataframe tbody tr th:only-of-type {\n",
       "        vertical-align: middle;\n",
       "    }\n",
       "\n",
       "    .dataframe tbody tr th {\n",
       "        vertical-align: top;\n",
       "    }\n",
       "\n",
       "    .dataframe thead th {\n",
       "        text-align: right;\n",
       "    }\n",
       "</style>\n",
       "<table border=\"1\" class=\"dataframe\">\n",
       "  <thead>\n",
       "    <tr style=\"text-align: right;\">\n",
       "      <th></th>\n",
       "      <th>sha256</th>\n",
       "      <th>pkgName</th>\n",
       "      <th>classID</th>\n",
       "      <th>googlePlayCategoryID</th>\n",
       "      <th>googlePlayDescription</th>\n",
       "    </tr>\n",
       "  </thead>\n",
       "  <tbody>\n",
       "    <tr>\n",
       "      <th>0</th>\n",
       "      <td>9B30837BD2474AC3623A43D052F7ADC4C63E4AA9981F0F...</td>\n",
       "      <td>my.android.calc</td>\n",
       "      <td>Calculator</td>\n",
       "      <td>TOOLS</td>\n",
       "      <td>Handiness universal percentage calculator for ...</td>\n",
       "    </tr>\n",
       "    <tr>\n",
       "      <th>1</th>\n",
       "      <td>686DE8D8A0D08992CB135BC7A0500D0109D9697A1140B8...</td>\n",
       "      <td>com.vpn.basiccalculator</td>\n",
       "      <td>Calculator</td>\n",
       "      <td>TOOLS</td>\n",
       "      <td>CITIZEN CALCULATOR by ANGEL NX is best Mobile ...</td>\n",
       "    </tr>\n",
       "    <tr>\n",
       "      <th>2</th>\n",
       "      <td>A49864DCC90F6730569455BDFA39B4B7CF70AE0C34D656...</td>\n",
       "      <td>com.ba.fractioncalculator</td>\n",
       "      <td>Calculator</td>\n",
       "      <td>EDUCATION</td>\n",
       "      <td>&lt;b&gt;Free offline fraction calculator&lt;/b&gt; ✌, sup...</td>\n",
       "    </tr>\n",
       "  </tbody>\n",
       "</table>\n",
       "</div>"
      ],
      "text/plain": [
       "                                              sha256  \\\n",
       "0  9B30837BD2474AC3623A43D052F7ADC4C63E4AA9981F0F...   \n",
       "1  686DE8D8A0D08992CB135BC7A0500D0109D9697A1140B8...   \n",
       "2  A49864DCC90F6730569455BDFA39B4B7CF70AE0C34D656...   \n",
       "\n",
       "                     pkgName     classID googlePlayCategoryID  \\\n",
       "0            my.android.calc  Calculator                TOOLS   \n",
       "1    com.vpn.basiccalculator  Calculator                TOOLS   \n",
       "2  com.ba.fractioncalculator  Calculator            EDUCATION   \n",
       "\n",
       "                               googlePlayDescription  \n",
       "0  Handiness universal percentage calculator for ...  \n",
       "1  CITIZEN CALCULATOR by ANGEL NX is best Mobile ...  \n",
       "2  <b>Free offline fraction calculator</b> ✌, sup...  "
      ]
     },
     "execution_count": 11,
     "metadata": {},
     "output_type": "execute_result"
    }
   ],
   "source": [
    "appsDF = pd.read_csv(INPUT_PATH, index_col=False)\n",
    "print(\"#️⃣ Apps: {}\".format(appsDF.shape[0]))\n",
    "\n",
    "appsDF.head(3)"
   ]
  },
  {
   "attachments": {},
   "cell_type": "markdown",
   "metadata": {},
   "source": [
    "### 2. Extraction."
   ]
  },
  {
   "cell_type": "code",
   "execution_count": 12,
   "metadata": {},
   "outputs": [
    {
     "name": "stdout",
     "output_type": "stream",
     "text": [
      "\n",
      "⛏️ Extracting features\n",
      "\n"
     ]
    },
    {
     "name": "stderr",
     "output_type": "stream",
     "text": [
      "  0%|          | 0/50 [00:00<?, ?it/s]"
     ]
    },
    {
     "name": "stdout",
     "output_type": "stream",
     "text": [
      "228e31a59fe25413472e41b7da2ba2f6296435a141f34f3259edb02152c85372\n",
      "Current Directory: /home/marco/Projects/1_RevisitingAndroidAppsCategorization/RevistingAndroidAppCategorization_Submission/1_ResearchQuestion1/1_Approaches/1a_React/1_Extraction\n"
     ]
    },
    {
     "name": "stderr",
     "output_type": "stream",
     "text": [
      "  4%|▍         | 2/50 [00:02<00:53,  1.11s/it]"
     ]
    },
    {
     "name": "stdout",
     "output_type": "stream",
     "text": [
      "228e31a59fe25413472e41b7da2ba2f6296435a141f34f3259edb02152c85372\n",
      "Current Directory: /home/marco/Projects/1_RevisitingAndroidAppsCategorization/RevistingAndroidAppCategorization_Submission/1_ResearchQuestion1/1_Approaches/1a_React/1_Extraction\n"
     ]
    },
    {
     "name": "stderr",
     "output_type": "stream",
     "text": [
      "  6%|▌         | 3/50 [00:26<08:34, 10.95s/it]"
     ]
    },
    {
     "name": "stdout",
     "output_type": "stream",
     "text": [
      "228e31a59fe25413472e41b7da2ba2f6296435a141f34f3259edb02152c85372\n",
      "Current Directory: /home/marco/Projects/1_RevisitingAndroidAppsCategorization/RevistingAndroidAppCategorization_Submission/1_ResearchQuestion1/1_Approaches/1a_React/1_Extraction\n"
     ]
    },
    {
     "name": "stderr",
     "output_type": "stream",
     "text": [
      "  8%|▊         | 4/50 [00:58<14:24, 18.79s/it]"
     ]
    },
    {
     "name": "stdout",
     "output_type": "stream",
     "text": [
      "228e31a59fe25413472e41b7da2ba2f6296435a141f34f3259edb02152c85372\n",
      "Current Directory: /home/marco/Projects/1_RevisitingAndroidAppsCategorization/RevistingAndroidAppCategorization_Submission/1_ResearchQuestion1/1_Approaches/1a_React/1_Extraction\n"
     ]
    },
    {
     "name": "stderr",
     "output_type": "stream",
     "text": [
      " 10%|█         | 5/50 [01:22<15:27, 20.61s/it]"
     ]
    },
    {
     "name": "stdout",
     "output_type": "stream",
     "text": [
      "228e31a59fe25413472e41b7da2ba2f6296435a141f34f3259edb02152c85372\n",
      "Current Directory: /home/marco/Projects/1_RevisitingAndroidAppsCategorization/RevistingAndroidAppCategorization_Submission/1_ResearchQuestion1/1_Approaches/1a_React/1_Extraction\n"
     ]
    }
   ],
   "source": [
    "# Extract the features\n",
    "print(\"\\n⛏️ Extracting features\\n\")\n",
    "appsDF['xmlValues'], appsDF['guiText'], appsDF['methodNamesText'] = zip(*appsDF['sha256'].progress_apply(lambda x: React.getAll(x, TMP_PATH)))"
   ]
  },
  {
   "cell_type": "markdown",
   "metadata": {},
   "source": [
    "### 3. Save everything."
   ]
  },
  {
   "cell_type": "code",
   "execution_count": null,
   "metadata": {},
   "outputs": [],
   "source": [
    "# Save the result\n",
    "appsDF = appsDF.drop(['pkgName','googlePlayCategoryID','googlePlayDescription'], axis =1)\n",
    "appsDF.to_csv(OUTPUT_PATH, index=False)\n",
    "\n",
    "print(\"\\n🔚 END\")"
   ]
  }
 ],
 "metadata": {
  "kernelspec": {
   "display_name": "Python 3",
   "language": "python",
   "name": "python3"
  },
  "language_info": {
   "codemirror_mode": {
    "name": "ipython",
    "version": 3
   },
   "file_extension": ".py",
   "mimetype": "text/x-python",
   "name": "python",
   "nbconvert_exporter": "python",
   "pygments_lexer": "ipython3",
   "version": "3.8.10"
  },
  "orig_nbformat": 4,
  "vscode": {
   "interpreter": {
    "hash": "31f2aee4e71d21fbe5cf8b01ff0e069b9275f58929596ceb00d14d90e3e16cd6"
   }
  }
 },
 "nbformat": 4,
 "nbformat_minor": 2
}
