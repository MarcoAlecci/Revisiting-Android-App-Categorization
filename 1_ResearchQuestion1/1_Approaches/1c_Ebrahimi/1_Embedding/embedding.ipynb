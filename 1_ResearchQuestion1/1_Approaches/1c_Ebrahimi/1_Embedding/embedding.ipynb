{
 "cells": [
  {
   "attachments": {},
   "cell_type": "markdown",
   "metadata": {},
   "source": [
    "## ⛏️ Ebrahimi - Embedding\n",
    "\n",
    "Use GloVe model to embed descriptions into feature vectors."
   ]
  },
  {
   "cell_type": "markdown",
   "metadata": {},
   "source": [
    "#### Imports"
   ]
  },
  {
   "cell_type": "code",
   "execution_count": null,
   "metadata": {},
   "outputs": [],
   "source": [
    "# IMPORT\n",
    "from  gensim.models                  import KeyedVectors\n",
    "from  gensim.scripts.glove2word2vec  import glove2word2vec\n",
    "from   tqdm                          import tqdm\n",
    "import pandas   as pd\n",
    "import os\n",
    "\n",
    "import Ebrahimi"
   ]
  },
  {
   "cell_type": "code",
   "execution_count": null,
   "metadata": {},
   "outputs": [],
   "source": [
    "# Initialize TQDM library for Pandas\n",
    "tqdm.pandas()"
   ]
  },
  {
   "cell_type": "code",
   "execution_count": null,
   "metadata": {},
   "outputs": [],
   "source": [
    "print(\"⚡ START ⚡\")"
   ]
  },
  {
   "cell_type": "markdown",
   "metadata": {},
   "source": [
    "#### Parameters"
   ]
  },
  {
   "cell_type": "code",
   "execution_count": null,
   "metadata": {},
   "outputs": [],
   "source": [
    "# Where to temporarily store APK Files\n",
    "APK_PATH    = \"../../../0_Data/APKS/\"\n",
    "\n",
    "# Ground-Truth Dataset\n",
    "#INPUT_PATH  = \"../../../../0_Data/CSV/0_AndroCatSet.csv\"\n",
    "INPUT_PATH  = \"../../../../0_Data/CSV/1_AndroCatSet_MiniTEST.csv\"\n",
    "\n",
    "# Output Path\n",
    "OUTPUT_PATH = \"../TMP/1c_EbrahimiFeatures.csv\""
   ]
  },
  {
   "cell_type": "code",
   "execution_count": null,
   "metadata": {},
   "outputs": [],
   "source": [
    "# Create folder for output\n",
    "TMP_PATH = \"../TMP\"\n",
    "if not os.path.exists(TMP_PATH):\n",
    "    os.makedirs(TMP_PATH)\n",
    "    print(\"Folder created:\", TMP_PATH)\n",
    "else:\n",
    "    print(\"Folder already exists:\", TMP_PATH)"
   ]
  },
  {
   "cell_type": "markdown",
   "metadata": {},
   "source": [
    "### 1. Load Data"
   ]
  },
  {
   "cell_type": "code",
   "execution_count": null,
   "metadata": {},
   "outputs": [],
   "source": [
    "appsDF = pd.read_csv(INPUT_PATH, index_col=False)\n",
    "print(\"#️⃣ Apps: {}\".format(appsDF.shape[0]))\n",
    "\n",
    "appsDF.head(3)"
   ]
  },
  {
   "cell_type": "code",
   "execution_count": null,
   "metadata": {},
   "outputs": [],
   "source": [
    "# Remove and Rename\n",
    "appsDF = appsDF.loc[:, ['sha256', 'classID', 'googlePlayDescription']]\n",
    "appsDF = appsDF.rename(columns={'googlePlayDescription': 'Description'})"
   ]
  },
  {
   "attachments": {},
   "cell_type": "markdown",
   "metadata": {},
   "source": [
    "### 2. Vectorize Descriptions using GloVe Model."
   ]
  },
  {
   "cell_type": "code",
   "execution_count": null,
   "metadata": {},
   "outputs": [],
   "source": [
    "# Load the GloVe model\n",
    "glove2word2vec('glove.6B.300d.txt',\"gloveW2V.txt\")\n",
    "glove300 = KeyedVectors.load_word2vec_format(\"gloveW2V.txt\")"
   ]
  },
  {
   "cell_type": "code",
   "execution_count": null,
   "metadata": {},
   "outputs": [],
   "source": [
    "# Preprocess Descriptions\n",
    "Ebrahimi.preprocessing(appsDF)"
   ]
  },
  {
   "cell_type": "code",
   "execution_count": null,
   "metadata": {},
   "outputs": [],
   "source": [
    "# Vectorize sing GloVe\n",
    "appsDF['gloveFeatures'] = list(map(lambda sen_group: Ebrahimi.getEmbeddingFeatures(glove300, sen_group), appsDF.lemm))\n",
    "\n",
    "# To list\n",
    "appsDF['gloveFeatures'] = appsDF['gloveFeatures'].apply(lambda x: x.tolist())"
   ]
  },
  {
   "cell_type": "markdown",
   "metadata": {},
   "source": [
    "### 3. Save everything"
   ]
  },
  {
   "cell_type": "code",
   "execution_count": null,
   "metadata": {},
   "outputs": [],
   "source": [
    "# Kepp only features\n",
    "appsDF = appsDF.loc[:, ['sha256', 'classID', 'gloveFeatures']]\n",
    "\n",
    "# Save the result\n",
    "appsDF.to_csv(OUTPUT_PATH,index=False)\n",
    "appsDF.head(3)"
   ]
  },
  {
   "cell_type": "code",
   "execution_count": null,
   "metadata": {},
   "outputs": [],
   "source": [
    "print(\"\\n🔚 END \\n\")"
   ]
  }
 ],
 "metadata": {
  "kernelspec": {
   "display_name": "Python 3",
   "language": "python",
   "name": "python3"
  },
  "language_info": {
   "codemirror_mode": {
    "name": "ipython",
    "version": 3
   },
   "file_extension": ".py",
   "mimetype": "text/x-python",
   "name": "python",
   "nbconvert_exporter": "python",
   "pygments_lexer": "ipython3",
   "version": "3.8.10"
  },
  "orig_nbformat": 4,
  "vscode": {
   "interpreter": {
    "hash": "31f2aee4e71d21fbe5cf8b01ff0e069b9275f58929596ceb00d14d90e3e16cd6"
   }
  }
 },
 "nbformat": 4,
 "nbformat_minor": 2
}
