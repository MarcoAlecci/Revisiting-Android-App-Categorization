{
 "cells": [
  {
   "attachments": {},
   "cell_type": "markdown",
   "metadata": {},
   "source": [
    "## ⛏️ Chabada - Topic Modelling\n",
    "\n",
    "\n",
    "Notebook for performing topic modeling using Latent Dirichlet Allocation (MALLET) to extract the topics of each app."
   ]
  },
  {
   "cell_type": "markdown",
   "metadata": {},
   "source": [
    "#### Imports"
   ]
  },
  {
   "cell_type": "code",
   "execution_count": 85,
   "metadata": {},
   "outputs": [],
   "source": [
    "# IMPORT\n",
    "from   tqdm     import tqdm\n",
    "import pandas   as pd\n",
    "import numpy    as np\n",
    "import os\n",
    "import subprocess"
   ]
  },
  {
   "cell_type": "code",
   "execution_count": 86,
   "metadata": {},
   "outputs": [],
   "source": [
    "# Initialize TQDM library for Pandas\n",
    "tqdm.pandas()"
   ]
  },
  {
   "cell_type": "code",
   "execution_count": 87,
   "metadata": {},
   "outputs": [
    {
     "name": "stdout",
     "output_type": "stream",
     "text": [
      "⚡ START ⚡\n"
     ]
    }
   ],
   "source": [
    "print(\"⚡ START ⚡\")"
   ]
  },
  {
   "cell_type": "markdown",
   "metadata": {},
   "source": [
    "#### Parameters"
   ]
  },
  {
   "cell_type": "code",
   "execution_count": 88,
   "metadata": {},
   "outputs": [
    {
     "name": "stdout",
     "output_type": "stream",
     "text": [
      "📁✅ Folder already exists: ../TMP\n"
     ]
    }
   ],
   "source": [
    "# Ground-Truth Dataset\n",
    "INPUT_PATH  = \"../TMP/1b_ChabadaPreprocessedDescriptions.csv\"\n",
    "\n",
    "# Output Path\n",
    "OUTPUT_PATH = \"../TMP/1b_ChabadaTopics.csv\"\n",
    "\n",
    "TMP_PATH = \"../TMP\"\n",
    "if not os.path.exists(TMP_PATH):\n",
    "    os.makedirs(TMP_PATH)\n",
    "    print(\"📁🆕 Folder created       :\", TMP_PATH)\n",
    "else:\n",
    "    print(\"📁✅ Folder already exists:\", TMP_PATH)"
   ]
  },
  {
   "cell_type": "markdown",
   "metadata": {},
   "source": [
    "### 1. Load Data"
   ]
  },
  {
   "cell_type": "code",
   "execution_count": 89,
   "metadata": {},
   "outputs": [
    {
     "name": "stdout",
     "output_type": "stream",
     "text": [
      "#️⃣ Apps: 50\n"
     ]
    },
    {
     "data": {
      "text/html": [
       "<div>\n",
       "<style scoped>\n",
       "    .dataframe tbody tr th:only-of-type {\n",
       "        vertical-align: middle;\n",
       "    }\n",
       "\n",
       "    .dataframe tbody tr th {\n",
       "        vertical-align: top;\n",
       "    }\n",
       "\n",
       "    .dataframe thead th {\n",
       "        text-align: right;\n",
       "    }\n",
       "</style>\n",
       "<table border=\"1\" class=\"dataframe\">\n",
       "  <thead>\n",
       "    <tr style=\"text-align: right;\">\n",
       "      <th></th>\n",
       "      <th>sha256</th>\n",
       "      <th>pkgName</th>\n",
       "      <th>classID</th>\n",
       "      <th>googlePlayCategoryID</th>\n",
       "      <th>googlePlayDescription</th>\n",
       "      <th>preprocessedDescription</th>\n",
       "    </tr>\n",
       "  </thead>\n",
       "  <tbody>\n",
       "    <tr>\n",
       "      <th>0</th>\n",
       "      <td>9B30837BD2474AC3623A43D052F7ADC4C63E4AA9981F0F...</td>\n",
       "      <td>my.android.calc</td>\n",
       "      <td>Calculator</td>\n",
       "      <td>TOOLS</td>\n",
       "      <td>Handiness universal percentage calculator for ...</td>\n",
       "      <td>handi univers percentag calcul simpl engin cal...</td>\n",
       "    </tr>\n",
       "    <tr>\n",
       "      <th>1</th>\n",
       "      <td>686DE8D8A0D08992CB135BC7A0500D0109D9697A1140B8...</td>\n",
       "      <td>com.vpn.basiccalculator</td>\n",
       "      <td>Calculator</td>\n",
       "      <td>TOOLS</td>\n",
       "      <td>CITIZEN CALCULATOR by ANGEL NX is best Mobile ...</td>\n",
       "      <td>citizen calcul angel best mobil app world mill...</td>\n",
       "    </tr>\n",
       "    <tr>\n",
       "      <th>2</th>\n",
       "      <td>A49864DCC90F6730569455BDFA39B4B7CF70AE0C34D656...</td>\n",
       "      <td>com.ba.fractioncalculator</td>\n",
       "      <td>Calculator</td>\n",
       "      <td>EDUCATION</td>\n",
       "      <td>&lt;b&gt;Free offline fraction calculator&lt;/b&gt; ✌, sup...</td>\n",
       "      <td>free offlin fraction calcul support also decim...</td>\n",
       "    </tr>\n",
       "  </tbody>\n",
       "</table>\n",
       "</div>"
      ],
      "text/plain": [
       "                                              sha256  \\\n",
       "0  9B30837BD2474AC3623A43D052F7ADC4C63E4AA9981F0F...   \n",
       "1  686DE8D8A0D08992CB135BC7A0500D0109D9697A1140B8...   \n",
       "2  A49864DCC90F6730569455BDFA39B4B7CF70AE0C34D656...   \n",
       "\n",
       "                     pkgName     classID googlePlayCategoryID  \\\n",
       "0            my.android.calc  Calculator                TOOLS   \n",
       "1    com.vpn.basiccalculator  Calculator                TOOLS   \n",
       "2  com.ba.fractioncalculator  Calculator            EDUCATION   \n",
       "\n",
       "                               googlePlayDescription  \\\n",
       "0  Handiness universal percentage calculator for ...   \n",
       "1  CITIZEN CALCULATOR by ANGEL NX is best Mobile ...   \n",
       "2  <b>Free offline fraction calculator</b> ✌, sup...   \n",
       "\n",
       "                             preprocessedDescription  \n",
       "0  handi univers percentag calcul simpl engin cal...  \n",
       "1  citizen calcul angel best mobil app world mill...  \n",
       "2  free offlin fraction calcul support also decim...  "
      ]
     },
     "execution_count": 89,
     "metadata": {},
     "output_type": "execute_result"
    }
   ],
   "source": [
    "appsDF = pd.read_csv(INPUT_PATH, index_col=False)\n",
    "print(\"#️⃣ Apps: {}\".format(appsDF.shape[0]))\n",
    "\n",
    "appsDF.head(3)"
   ]
  },
  {
   "attachments": {},
   "cell_type": "markdown",
   "metadata": {},
   "source": [
    "### 2. LDA Mallet"
   ]
  },
  {
   "cell_type": "code",
   "execution_count": 90,
   "metadata": {},
   "outputs": [],
   "source": [
    "# PARAMETERS\n",
    "NUM_TOPICS = 50\n",
    "TOPICS_MAX = 4\n",
    "TOPICS_TRESHOLD = 0.05\n",
    "\n",
    "MALLET_PATH          = \"/app/Mallet/bin\"\n",
    "MALLET_INPUT_FOLDER  = \"./inputMallet\"\n",
    "MALLET_OUTPUT_FOLDER = \"./outputMallet\"\n",
    "MALLET_OUTPUT_FILE   = \"appsWithTopics.json\"\n",
    "\n",
    "binary_out_file  = \"topics_inf.mallet\"\n",
    "inferencer_file  = \"inferencer\"\n",
    "composition_file = \"composition.txt\"\n",
    "keywords_file    = \"keywords.txt\""
   ]
  },
  {
   "cell_type": "code",
   "execution_count": 91,
   "metadata": {},
   "outputs": [],
   "source": [
    " # Create output folder\n",
    "if not os.path.exists(MALLET_OUTPUT_FOLDER):\n",
    "    os.makedirs(MALLET_OUTPUT_FOLDER)\n",
    "\n",
    " # Create input folder\n",
    "if not os.path.exists(MALLET_INPUT_FOLDER):\n",
    "    os.makedirs(MALLET_INPUT_FOLDER)"
   ]
  },
  {
   "attachments": {},
   "cell_type": "markdown",
   "metadata": {},
   "source": [
    "#### Prepare the input"
   ]
  },
  {
   "cell_type": "code",
   "execution_count": 92,
   "metadata": {},
   "outputs": [
    {
     "data": {
      "text/plain": [
       "0"
      ]
     },
     "execution_count": 92,
     "metadata": {},
     "output_type": "execute_result"
    }
   ],
   "source": [
    "# Prepare the input\n",
    "with open(MALLET_INPUT_FOLDER + \"/input.txt\", 'w') as f:\n",
    "    for index, row in appsDF.iterrows():\n",
    "        f.write(row[\"sha256\"] + \"\\t\" + row[\"preprocessedDescription\"] + \"\\n\")\n",
    "\n",
    "subprocess.call([\"{}/mallet\".format(MALLET_PATH),\n",
    "                \"import-file\",\n",
    "                \"--input\", MALLET_INPUT_FOLDER + \"/input.txt\",\n",
    "                \"--output\", os.path.join(MALLET_INPUT_FOLDER, binary_out_file),\n",
    "                \"--keep-sequence\"])"
   ]
  },
  {
   "attachments": {},
   "cell_type": "markdown",
   "metadata": {},
   "source": [
    "#### Train LDA Model"
   ]
  },
  {
   "cell_type": "code",
   "execution_count": 93,
   "metadata": {},
   "outputs": [],
   "source": [
    "# Topic Modelling\n",
    "with open('train-topics-output.txt', 'w') as out_file:\n",
    "    subprocess.call([\"{}/mallet\".format(MALLET_PATH),\n",
    "                 \"train-topics\",\n",
    "                 \"--input\",                 os.path.join(MALLET_INPUT_FOLDER, binary_out_file),\n",
    "                 \"--num-topics\",            str(NUM_TOPICS),\n",
    "                 \"--output-topic-keys\",     os.path.join(MALLET_OUTPUT_FOLDER, keywords_file),\n",
    "                 \"--num-top-words\",         \"200\",\n",
    "                 \"--output-doc-topics\",     os.path.join(MALLET_OUTPUT_FOLDER, composition_file),\n",
    "                 \"--optimize-interval\",     \"10\",\n",
    "                 \"--doc-topics-max\",        str(TOPICS_MAX),\n",
    "                 \"--doc-topics-threshold\",  str(TOPICS_TRESHOLD),\n",
    "                 \"--inferencer-filename\",   os.path.join(MALLET_OUTPUT_FOLDER, inferencer_file)],\n",
    "                stdout=out_file, stderr=subprocess.STDOUT\n",
    "    )"
   ]
  },
  {
   "attachments": {},
   "cell_type": "markdown",
   "metadata": {},
   "source": [
    "#### 3. Save the composition file"
   ]
  },
  {
   "cell_type": "code",
   "execution_count": 94,
   "metadata": {},
   "outputs": [],
   "source": [
    "# Prepare the column names\n",
    "columnsNames = ['id','sha256']\n",
    "for i in range(1, 5):\n",
    "    columnsNames.extend(['topic{}'.format(i), 'probability{}'.format(i)])\n",
    "columnsNames.extend(['extra'])\n",
    "\n",
    "# Create an empty DataFrame with the defined column names\n",
    "compositionDF = pd.read_csv(os.path.join(MALLET_OUTPUT_FOLDER, composition_file), names=columnsNames, sep='\\t', skiprows=1, header=None)\n",
    "compositionDF = compositionDF.drop(['id','extra'], axis=1)\n",
    "\n",
    "# Cast topics to int\n",
    "compositionDF = compositionDF.fillna(-1)\n",
    "compositionDF = compositionDF.replace([np.inf, -np.inf], -1)\n",
    "\n",
    "for i in range(1, 5):\n",
    "    compositionDF['topic{}'.format(i)] = compositionDF['topic{}'.format(i)].astype(int)"
   ]
  },
  {
   "cell_type": "code",
   "execution_count": 95,
   "metadata": {},
   "outputs": [],
   "source": [
    "# Insert the \"classID\" column as the second column in compositionDF\n",
    "compositionDF.insert(1, 'classID', appsDF['classID'])"
   ]
  },
  {
   "cell_type": "code",
   "execution_count": 96,
   "metadata": {},
   "outputs": [
    {
     "data": {
      "text/html": [
       "<div>\n",
       "<style scoped>\n",
       "    .dataframe tbody tr th:only-of-type {\n",
       "        vertical-align: middle;\n",
       "    }\n",
       "\n",
       "    .dataframe tbody tr th {\n",
       "        vertical-align: top;\n",
       "    }\n",
       "\n",
       "    .dataframe thead th {\n",
       "        text-align: right;\n",
       "    }\n",
       "</style>\n",
       "<table border=\"1\" class=\"dataframe\">\n",
       "  <thead>\n",
       "    <tr style=\"text-align: right;\">\n",
       "      <th></th>\n",
       "      <th>sha256</th>\n",
       "      <th>classID</th>\n",
       "      <th>topic1</th>\n",
       "      <th>probability1</th>\n",
       "      <th>topic2</th>\n",
       "      <th>probability2</th>\n",
       "      <th>topic3</th>\n",
       "      <th>probability3</th>\n",
       "      <th>topic4</th>\n",
       "      <th>probability4</th>\n",
       "    </tr>\n",
       "  </thead>\n",
       "  <tbody>\n",
       "    <tr>\n",
       "      <th>0</th>\n",
       "      <td>9B30837BD2474AC3623A43D052F7ADC4C63E4AA9981F0F...</td>\n",
       "      <td>Calculator</td>\n",
       "      <td>1</td>\n",
       "      <td>0.794802</td>\n",
       "      <td>4</td>\n",
       "      <td>0.203712</td>\n",
       "      <td>-1</td>\n",
       "      <td>-1.0</td>\n",
       "      <td>-1</td>\n",
       "      <td>-1.0</td>\n",
       "    </tr>\n",
       "    <tr>\n",
       "      <th>1</th>\n",
       "      <td>686DE8D8A0D08992CB135BC7A0500D0109D9697A1140B8...</td>\n",
       "      <td>Calculator</td>\n",
       "      <td>1</td>\n",
       "      <td>0.930943</td>\n",
       "      <td>2</td>\n",
       "      <td>0.067990</td>\n",
       "      <td>-1</td>\n",
       "      <td>-1.0</td>\n",
       "      <td>-1</td>\n",
       "      <td>-1.0</td>\n",
       "    </tr>\n",
       "    <tr>\n",
       "      <th>2</th>\n",
       "      <td>A49864DCC90F6730569455BDFA39B4B7CF70AE0C34D656...</td>\n",
       "      <td>Calculator</td>\n",
       "      <td>1</td>\n",
       "      <td>0.996025</td>\n",
       "      <td>-1</td>\n",
       "      <td>-1.000000</td>\n",
       "      <td>-1</td>\n",
       "      <td>-1.0</td>\n",
       "      <td>-1</td>\n",
       "      <td>-1.0</td>\n",
       "    </tr>\n",
       "  </tbody>\n",
       "</table>\n",
       "</div>"
      ],
      "text/plain": [
       "                                              sha256     classID  topic1  \\\n",
       "0  9B30837BD2474AC3623A43D052F7ADC4C63E4AA9981F0F...  Calculator       1   \n",
       "1  686DE8D8A0D08992CB135BC7A0500D0109D9697A1140B8...  Calculator       1   \n",
       "2  A49864DCC90F6730569455BDFA39B4B7CF70AE0C34D656...  Calculator       1   \n",
       "\n",
       "   probability1  topic2  probability2  topic3  probability3  topic4  \\\n",
       "0      0.794802       4      0.203712      -1          -1.0      -1   \n",
       "1      0.930943       2      0.067990      -1          -1.0      -1   \n",
       "2      0.996025      -1     -1.000000      -1          -1.0      -1   \n",
       "\n",
       "   probability4  \n",
       "0          -1.0  \n",
       "1          -1.0  \n",
       "2          -1.0  "
      ]
     },
     "execution_count": 96,
     "metadata": {},
     "output_type": "execute_result"
    }
   ],
   "source": [
    "# Save the result\n",
    "compositionDF.to_csv(OUTPUT_PATH,index=False)\n",
    "compositionDF.head(3)"
   ]
  },
  {
   "cell_type": "code",
   "execution_count": 97,
   "metadata": {},
   "outputs": [
    {
     "name": "stdout",
     "output_type": "stream",
     "text": [
      "\n",
      "🔚 END \n",
      "\n"
     ]
    }
   ],
   "source": [
    "print(\"\\n🔚 END \\n\")"
   ]
  }
 ],
 "metadata": {
  "kernelspec": {
   "display_name": "Python 3",
   "language": "python",
   "name": "python3"
  },
  "language_info": {
   "codemirror_mode": {
    "name": "ipython",
    "version": 3
   },
   "file_extension": ".py",
   "mimetype": "text/x-python",
   "name": "python",
   "nbconvert_exporter": "python",
   "pygments_lexer": "ipython3",
   "version": "3.8.10"
  },
  "orig_nbformat": 4,
  "vscode": {
   "interpreter": {
    "hash": "31f2aee4e71d21fbe5cf8b01ff0e069b9275f58929596ceb00d14d90e3e16cd6"
   }
  }
 },
 "nbformat": 4,
 "nbformat_minor": 2
}
