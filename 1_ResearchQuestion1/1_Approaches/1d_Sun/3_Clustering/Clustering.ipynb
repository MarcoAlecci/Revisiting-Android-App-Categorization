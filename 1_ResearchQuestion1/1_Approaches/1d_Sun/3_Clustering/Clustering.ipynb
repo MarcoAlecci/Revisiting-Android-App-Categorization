{
 "cells": [
  {
   "attachments": {},
   "cell_type": "markdown",
   "metadata": {},
   "source": [
    "## ⛏️ SUN - Clustering\n",
    "\n",
    "Use Affinity Propagation over a list of keywords extracted from APKUse Affinity Propagation to cluster applications based on a list of keywords extracted from APK files."
   ]
  },
  {
   "cell_type": "markdown",
   "metadata": {},
   "source": [
    "#### Imports"
   ]
  },
  {
   "cell_type": "code",
   "execution_count": null,
   "metadata": {},
   "outputs": [],
   "source": [
    "# IMPORT\n",
    "from   sklearn.metrics                    import adjusted_rand_score\n",
    "from   sklearn.feature_extraction.text    import TfidfVectorizer\n",
    "from   sklearn.cluster                    import AffinityPropagation\n",
    "from   tqdm                               import tqdm\n",
    "import pandas                             as pd\n",
    "import numpy                              as np\n",
    "import ast"
   ]
  },
  {
   "cell_type": "code",
   "execution_count": null,
   "metadata": {},
   "outputs": [],
   "source": [
    "# Initialize TQDM library for Pandas\n",
    "tqdm.pandas()"
   ]
  },
  {
   "cell_type": "code",
   "execution_count": null,
   "metadata": {},
   "outputs": [],
   "source": [
    "print(\"⚡ START ⚡\")"
   ]
  },
  {
   "cell_type": "markdown",
   "metadata": {},
   "source": [
    "#### Parameters\n"
   ]
  },
  {
   "cell_type": "code",
   "execution_count": null,
   "metadata": {},
   "outputs": [],
   "source": [
    "# Ground-Truth Dataset\n",
    "INPUT_PATH  = \"../TMP/1d_SunDataPreprocessed.csv\"\n",
    "\n",
    "# Output Path\n",
    "OUTPUT_PATH = \"../1d_SunClusteringLabels.csv\"\n",
    "\n",
    "TMP_PATH = \"../TMP\"\n",
    "if not os.path.exists(TMP_PATH):\n",
    "    os.makedirs(TMP_PATH)\n",
    "    print(\"📁🆕 Folder created       :\", TMP_PATH)\n",
    "else:\n",
    "    print(\"📁✅ Folder already exists:\", TMP_PATH)"
   ]
  },
  {
   "cell_type": "code",
   "execution_count": null,
   "metadata": {},
   "outputs": [],
   "source": [
    "RANDOM_SEED = 151836"
   ]
  },
  {
   "cell_type": "markdown",
   "metadata": {},
   "source": [
    "### 1. Load Data"
   ]
  },
  {
   "cell_type": "code",
   "execution_count": null,
   "metadata": {},
   "outputs": [],
   "source": [
    "appsDF = pd.read_csv(INPUT_PATH, index_col=False)\n",
    "print(\"#️⃣ Apps: {}\".format(appsDF.shape[0]))\n",
    "\n",
    "appsDF.head(3)"
   ]
  },
  {
   "cell_type": "code",
   "execution_count": null,
   "metadata": {},
   "outputs": [],
   "source": [
    "print(\"\\n🔨 Loading data as lists\")\n",
    "appsDF['keywords'] = appsDF['keywords'].progress_apply(ast.literal_eval)   "
   ]
  },
  {
   "attachments": {},
   "cell_type": "markdown",
   "metadata": {},
   "source": [
    "### 2. Vectorizing"
   ]
  },
  {
   "cell_type": "code",
   "execution_count": null,
   "metadata": {},
   "outputs": [],
   "source": [
    "# Create corpus for TFDIF\n",
    "allKeywords = set(keyword for keywords in appsDF['keywords'] for keyword in keywords)\n",
    "corpus = [' '.join(keywords) for keywords in appsDF['keywords']]\n",
    "\n",
    "# Use TF-IDF \n",
    "vectorizer = TfidfVectorizer()\n",
    "X = vectorizer.fit_transform(corpus)"
   ]
  },
  {
   "attachments": {},
   "cell_type": "markdown",
   "metadata": {},
   "source": [
    "#### 3. Clustering"
   ]
  },
  {
   "cell_type": "code",
   "execution_count": null,
   "metadata": {},
   "outputs": [],
   "source": [
    "def getARIscore(clusteringLabels):\n",
    "    ariScore = adjusted_rand_score(appsDF[\"classID\"].values, clusteringLabels)\n",
    "    print(\"🎯 ARI: {:.4f}\".format(ariScore))\n",
    "    return"
   ]
  },
  {
   "cell_type": "code",
   "execution_count": null,
   "metadata": {},
   "outputs": [],
   "source": [
    "NUM_CLUSTERS = 50"
   ]
  },
  {
   "cell_type": "code",
   "execution_count": null,
   "metadata": {},
   "outputs": [],
   "source": [
    "# Function to randomly change preference parameter\n",
    "def randomizePreference():\n",
    "    return np.random.uniform(low=-9, high=-7)\n",
    "\n",
    "# Function to perform affinity propagation and return the number of clusters\n",
    "def getNumClusters(X, preference):\n",
    "\n",
    "    affinityPropagationModel = AffinityPropagation(preference = preference, damping = 0.9, max_iter = 1000, random_state = RANDOM_SEED)\n",
    "    affinityPropagationModel.fit(X.toarray())\n",
    "    \n",
    "    nClusters = len(affinityPropagationModel.cluster_centers_indices_)\n",
    "\n",
    "    # Get the labels\n",
    "    clusteringLabels = affinityPropagationModel.labels_\n",
    "     \n",
    "    return nClusters, clusteringLabels\n",
    "\n",
    "bestPreference   = None\n",
    "bestNumClusters  = None\n",
    "clusteringLabels = None\n",
    "\n",
    "for i in range(1000):  # Run 1000 iterations\n",
    "    preference = randomizePreference()\n",
    "    nClusters, clusteringLabels = getNumClusters(X, preference)\n",
    "\n",
    "    print(\"\\n#️⃣ Iteration  : {}\".format(i))\n",
    "    print(\"⭐ Preference : {}\".format(preference))\n",
    "    print(\"⭐ nClusters  : {}\".format(nClusters))  \n",
    "\n",
    "    if nClusters == NUM_CLUSTERS:\n",
    "        break"
   ]
  },
  {
   "cell_type": "code",
   "execution_count": null,
   "metadata": {},
   "outputs": [],
   "source": [
    "print(\"\\n⭐ Sun et al.\")\n",
    "getARIscore(clusteringLabels)"
   ]
  },
  {
   "attachments": {},
   "cell_type": "markdown",
   "metadata": {},
   "source": [
    "### 3. Save Everything"
   ]
  },
  {
   "cell_type": "code",
   "execution_count": null,
   "metadata": {},
   "outputs": [],
   "source": [
    "# Save the labels into the Pandas DF\n",
    "appsDF = appsDF.loc[:, ['sha256']]\n",
    "appsDF['clusterID'] = clusteringLabels"
   ]
  },
  {
   "cell_type": "code",
   "execution_count": null,
   "metadata": {},
   "outputs": [],
   "source": [
    "# Save the result\n",
    "appsDF.to_csv(OUTPUT_PATH, index=False)\n",
    "appsDF.head(3)"
   ]
  },
  {
   "cell_type": "code",
   "execution_count": null,
   "metadata": {},
   "outputs": [],
   "source": [
    "\n",
    "print(\"\\n🔚 END \\n\")"
   ]
  }
 ],
 "metadata": {
  "kernelspec": {
   "display_name": "Python 3",
   "language": "python",
   "name": "python3"
  },
  "language_info": {
   "codemirror_mode": {
    "name": "ipython",
    "version": 3
   },
   "file_extension": ".py",
   "mimetype": "text/x-python",
   "name": "python",
   "nbconvert_exporter": "python",
   "pygments_lexer": "ipython3",
   "version": "3.8.10"
  },
  "orig_nbformat": 4,
  "vscode": {
   "interpreter": {
    "hash": "31f2aee4e71d21fbe5cf8b01ff0e069b9275f58929596ceb00d14d90e3e16cd6"
   }
  }
 },
 "nbformat": 4,
 "nbformat_minor": 2
}
