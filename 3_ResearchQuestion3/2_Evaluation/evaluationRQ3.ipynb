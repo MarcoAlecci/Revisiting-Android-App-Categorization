{
 "cells": [
  {
   "attachments": {},
   "cell_type": "markdown",
   "metadata": {},
   "source": [
    "## 📐 Evaluation RQ3\n",
    "\n",
    "Using **ARI (Adjusted Rand Index)** to measure the degree of overlap among the implemented approaches:\n",
    "\n",
    "**1)** ARI Against the Ground-Truth.\n",
    "\n",
    "**2)** Pairwise ARI Score."
   ]
  },
  {
   "attachments": {},
   "cell_type": "markdown",
   "metadata": {},
   "source": [
    "#### Imports"
   ]
  },
  {
   "cell_type": "code",
   "execution_count": null,
   "metadata": {},
   "outputs": [],
   "source": [
    "# Imports\n",
    "from sklearn.metrics        import adjusted_rand_score\n",
    "import matplotlib.pyplot    as plt\n",
    "import seaborn              as sns\n",
    "import pandas               as pd\n",
    "import numpy                as np\n",
    "import os"
   ]
  },
  {
   "attachments": {},
   "cell_type": "markdown",
   "metadata": {},
   "source": [
    "#### Parameters"
   ]
  },
  {
   "cell_type": "code",
   "execution_count": null,
   "metadata": {},
   "outputs": [],
   "source": [
    "# Paths\n",
    "INPUT_PATH = \"../../0_Data/CSV/\"\n",
    "\n",
    "# Approaches\n",
    "APPROACHES = [\"3a_Drebin\",\"3b_Dexray\",\"3c_Rajasegaran\",\"3d_Laficmil\"]"
   ]
  },
  {
   "cell_type": "code",
   "execution_count": null,
   "metadata": {},
   "outputs": [],
   "source": [
    "# Path \n",
    "PLOTS_PATH = \"./Plots/\"\n",
    "\n",
    "# Create folder for paths\n",
    "if not os.path.exists(PLOTS_PATH):\n",
    "    os.makedirs(PLOTS_PATH)\n",
    "    print(\"Folder created:\", PLOTS_PATH)\n",
    "else:\n",
    "    print(\"Folder already exists:\", PLOTS_PATH)"
   ]
  },
  {
   "cell_type": "markdown",
   "metadata": {},
   "source": [
    "### Load Data"
   ]
  },
  {
   "cell_type": "code",
   "execution_count": null,
   "metadata": {},
   "outputs": [],
   "source": [
    "appsDF = pd.read_csv(INPUT_PATH + \"0_AndroCatSet.csv\", index_col=False)\n",
    "appsDF = appsDF.drop(['pkgName','googlePlayDescription'], axis=1)\n",
    "\n",
    "# Add all the other approaches\n",
    "for i in range(0,len(APPROACHES)):\n",
    "    inputDF = pd.read_csv(INPUT_PATH + \"RQ3/\" + APPROACHES[i] + \"ClusteringLabels.csv\", index_col=False)\n",
    "    appsDF = pd.concat([appsDF, inputDF['clusterID']], axis=1)\n",
    "    appsDF = appsDF.rename(columns={'clusterID': APPROACHES[i][3:]})"
   ]
  },
  {
   "attachments": {},
   "cell_type": "markdown",
   "metadata": {},
   "source": [
    "### **1)**  ARI Against the Ground-Truth\n",
    "\n",
    "Compute ARI Score."
   ]
  },
  {
   "cell_type": "code",
   "execution_count": null,
   "metadata": {},
   "outputs": [],
   "source": [
    "# To store ARI Score of each approach\n",
    "ariScoreList = []\n",
    "\n",
    "# Get approach List\n",
    "approachesList = appsDF.columns[3:]\n",
    "\n",
    "# For each approach compare against ground-truth\n",
    "for approach in approachesList:\n",
    "    #Compute the Adjusted Rand Index \n",
    "    ariScoreList.append(adjusted_rand_score(appsDF[\"classID\"].values, appsDF[approach].values))"
   ]
  },
  {
   "attachments": {},
   "cell_type": "markdown",
   "metadata": {},
   "source": [
    "Plot ARI Score"
   ]
  },
  {
   "cell_type": "code",
   "execution_count": null,
   "metadata": {},
   "outputs": [],
   "source": [
    "# Plot Parameters\n",
    "TITLE_FONTSIZE = 18\n",
    "TICKS_FONTSIZE = 14\n",
    "AXIS_FONTSIZE  = 16\n",
    "\n",
    "COLORS = [\"#68B984\"]"
   ]
  },
  {
   "cell_type": "code",
   "execution_count": null,
   "metadata": {},
   "outputs": [],
   "source": [
    "fig = plt.figure(figsize=(7,4))\n",
    "\n",
    "plt.bar(approachesList, ariScoreList, edgecolor='black',color=COLORS,width=0.4)\n",
    "\n",
    "# Labels and Ticks\n",
    "# Labels and Ticks\n",
    "plt.xlabel('Approach' , fontsize=AXIS_FONTSIZE) \n",
    "plt.xticks(range(0,4), ['DREBIN','DexRay','Rajasegaran et al.','LaFiCMIL'],fontsize=TICKS_FONTSIZE)\n",
    "\n",
    "plt.ylabel('ARI Score', fontsize=AXIS_FONTSIZE)  \n",
    "plt.yticks(fontsize=TICKS_FONTSIZE)\n",
    "\n",
    "plt.grid(axis='y', linestyle='--', alpha=0.7)\n",
    "\n",
    "# add value labels to the top of the bars\n",
    "for i in range(len(ariScoreList)):\n",
    "    plt.text(i, ariScoreList[i]+0.01, \"{:.2f}\".format(ariScoreList[i]), ha='center', fontsize=TICKS_FONTSIZE)\n",
    "\n",
    "plt.ylim(0,0.3)\n",
    "plt.tight_layout() \n",
    "\n",
    "plt.savefig(PLOTS_PATH + 'overviewRQ3.png')\n",
    "plt.savefig(PLOTS_PATH + 'overviewRQ3.pdf')\n",
    "\n",
    "plt.show()"
   ]
  },
  {
   "attachments": {},
   "cell_type": "markdown",
   "metadata": {},
   "source": [
    "### **2)** Pairwise ARI Score.\n",
    "\n",
    "Compute ARI score pairwise."
   ]
  },
  {
   "cell_type": "code",
   "execution_count": null,
   "metadata": {},
   "outputs": [],
   "source": [
    "# Get the approaches\n",
    "approachesList = appsDF.columns[1:]\n",
    "\n",
    "# Create a matrix for pairwise comparison\n",
    "resultDF = pd.DataFrame(columns=approachesList,index=approachesList)\n",
    "\n",
    "# Pairwise comparison\n",
    "for i, (index, row) in enumerate(resultDF.iterrows()):\n",
    "    for j in range(i,len(row)):\n",
    "        #Compute the Adjusted Rand Index\n",
    "        ariScore = adjusted_rand_score(appsDF[approachesList[i]].values, appsDF[approachesList[j]].values)\n",
    "        \n",
    "        # Store the results\n",
    "        resultDF.loc[approachesList[i],approachesList[j]] = ariScore\n",
    "        resultDF.loc[approachesList[j],approachesList[i]] = ariScore\n",
    "\n",
    "resultDF = resultDF.astype(float)\n",
    "resultDF"
   ]
  }
 ],
 "metadata": {
  "kernelspec": {
   "display_name": "Python 3",
   "language": "python",
   "name": "python3"
  },
  "language_info": {
   "codemirror_mode": {
    "name": "ipython",
    "version": 3
   },
   "file_extension": ".py",
   "mimetype": "text/x-python",
   "name": "python",
   "nbconvert_exporter": "python",
   "pygments_lexer": "ipython3",
   "version": "3.8.10"
  },
  "orig_nbformat": 4
 },
 "nbformat": 4,
 "nbformat_minor": 2
}
