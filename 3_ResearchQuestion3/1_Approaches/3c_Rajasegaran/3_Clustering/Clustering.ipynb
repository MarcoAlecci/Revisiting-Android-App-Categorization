{
 "cells": [
  {
   "attachments": {},
   "cell_type": "markdown",
   "metadata": {},
   "source": [
    "## ⛏️ Rajasegaran - Clustering\n",
    "\n",
    "Cluster Apps using their icon-based representation."
   ]
  },
  {
   "cell_type": "markdown",
   "metadata": {},
   "source": [
    "#### Imports"
   ]
  },
  {
   "cell_type": "code",
   "execution_count": null,
   "metadata": {},
   "outputs": [],
   "source": [
    "# IMPORT\n",
    "from   sklearn.metrics              import adjusted_rand_score\n",
    "from   sklearn.metrics.pairwise     import cosine_distances as cosineDistance\n",
    "from   sklearn.cluster              import KMeans\n",
    "from   PIL                          import Image\n",
    "from   tqdm                         import tqdm\n",
    "import pandas                       as pd\n",
    "import numpy                        as np\n",
    "import sys, os, ast"
   ]
  },
  {
   "cell_type": "code",
   "execution_count": null,
   "metadata": {},
   "outputs": [],
   "source": [
    "# Initialize TQDM library for Pandas\n",
    "tqdm.pandas()"
   ]
  },
  {
   "cell_type": "code",
   "execution_count": null,
   "metadata": {},
   "outputs": [],
   "source": [
    "print(\"⚡ START ⚡\\n\")"
   ]
  },
  {
   "attachments": {},
   "cell_type": "markdown",
   "metadata": {},
   "source": [
    "#### Data Paths"
   ]
  },
  {
   "cell_type": "code",
   "execution_count": null,
   "metadata": {},
   "outputs": [],
   "source": [
    "# Ground-Truth Dataset\n",
    "INPUT_PATH  = \"../TMP/2c_RajasegaranFeatures.csv\"\n",
    "\n",
    "# Outputh Path\n",
    "OUTPUT_PATH = \"../2c_RajasegaranClusteringLabels.csv\"\n",
    "\n",
    "TMP_PATH = \"../TMP\"\n",
    "if not os.path.exists(TMP_PATH):\n",
    "    os.makedirs(TMP_PATH)\n",
    "    print(\"📁🆕 Folder created       :\", TMP_PATH)\n",
    "else:\n",
    "    print(\"📁✅ Folder already exists:\", TMP_PATH)"
   ]
  },
  {
   "cell_type": "code",
   "execution_count": null,
   "metadata": {},
   "outputs": [],
   "source": [
    "RANDOM_SEED = 151836"
   ]
  },
  {
   "cell_type": "markdown",
   "metadata": {},
   "source": [
    "### 1. Load Data"
   ]
  },
  {
   "cell_type": "code",
   "execution_count": null,
   "metadata": {},
   "outputs": [],
   "source": [
    "appsDF = pd.read_csv(INPUT_PATH, index_col=False)\n",
    "appsDF = appsDF.loc[:,['sha256','classID']]\n",
    "print(\"#️⃣ Apps: {}\".format(appsDF.shape[0]))\n",
    "\n",
    "appsDF.head(3)"
   ]
  },
  {
   "cell_type": "code",
   "execution_count": null,
   "metadata": {},
   "outputs": [],
   "source": [
    "print(\"⛏️ Reorganizing features as lists\")\n",
    "appsDF['contentEmbedding'] = appsDF['contentEmbedding'].progress_apply(ast.literal_eval)\n",
    "appsDF['styleEmbedding'] = appsDF['styleEmbedding'].progress_apply(ast.literal_eval)"
   ]
  },
  {
   "attachments": {},
   "cell_type": "markdown",
   "metadata": {},
   "source": [
    "### 2. Compute Cosine Distance"
   ]
  },
  {
   "cell_type": "code",
   "execution_count": null,
   "metadata": {},
   "outputs": [],
   "source": [
    "contentMatrix = np.array(appsDF['contentEmbedding'].to_list())\n",
    "contentCosineMatrix = cosineDistance(contentMatrix)\n",
    "\n",
    "styleMatrix = np.array(appsDF['styleEmbedding'].to_list())\n",
    "styleCosineMatrix = cosineDistance(styleMatrix)\n",
    "\n",
    "cosine = contentCosineMatrix + styleCosineMatrix"
   ]
  },
  {
   "attachments": {},
   "cell_type": "markdown",
   "metadata": {},
   "source": [
    "### 3. Clustering"
   ]
  },
  {
   "cell_type": "code",
   "execution_count": null,
   "metadata": {},
   "outputs": [],
   "source": [
    "def getARIscore(clusteringLabels):\n",
    "    ariScore = adjusted_rand_score(appsDF[\"classID\"].values, clusteringLabels)\n",
    "    print(\"🎯 ARI: {:.4f}\".format(ariScore))\n",
    "    return"
   ]
  },
  {
   "cell_type": "code",
   "execution_count": null,
   "metadata": {},
   "outputs": [],
   "source": [
    "# PARAMETERS\n",
    "NUM_CLUSTERS = 50\n",
    "\n",
    "# PARAMETERS (TEST)\n",
    "NUM_CLUSTERS = 5"
   ]
  },
  {
   "cell_type": "code",
   "execution_count": null,
   "metadata": {},
   "outputs": [],
   "source": [
    "model = KMeans(n_clusters = NUM_CLUSTERS,init='k-means++', random_state = RANDOM_SEED, n_init='auto')\n",
    "model.fit(cosine)\n",
    "\n",
    "# Get the labels\n",
    "clusteringLabels = model.labels_\n",
    "print(\"\\n⭐ Rajasegaran\")\n",
    "getARIscore(clusteringLabels)"
   ]
  },
  {
   "cell_type": "markdown",
   "metadata": {},
   "source": [
    "### 4. Save Everything"
   ]
  },
  {
   "cell_type": "code",
   "execution_count": null,
   "metadata": {},
   "outputs": [],
   "source": [
    "# Save the labels into the Pandas DF\n",
    "appsDF = appsDF.loc[:, ['sha256']]\n",
    "appsDF['clusterID'] = clusteringLabels\n",
    "\n",
    "# Save the result\n",
    "appsDF.to_csv(OUTPUT_PATH,index=False)\n",
    "appsDF.head(3)"
   ]
  },
  {
   "cell_type": "code",
   "execution_count": null,
   "metadata": {},
   "outputs": [],
   "source": [
    "print(\"\\n🔚 END \\n\")"
   ]
  }
 ],
 "metadata": {
  "kernelspec": {
   "display_name": "Python 3",
   "language": "python",
   "name": "python3"
  },
  "language_info": {
   "codemirror_mode": {
    "name": "ipython",
    "version": 3
   },
   "file_extension": ".py",
   "mimetype": "text/x-python",
   "name": "python",
   "nbconvert_exporter": "python",
   "pygments_lexer": "ipython3",
   "version": "3.8.10"
  },
  "orig_nbformat": 4,
  "vscode": {
   "interpreter": {
    "hash": "31f2aee4e71d21fbe5cf8b01ff0e069b9275f58929596ceb00d14d90e3e16cd6"
   }
  }
 },
 "nbformat": 4,
 "nbformat_minor": 2
}
