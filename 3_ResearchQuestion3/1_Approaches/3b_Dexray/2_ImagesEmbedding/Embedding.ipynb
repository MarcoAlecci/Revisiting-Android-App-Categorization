{
 "cells": [
  {
   "attachments": {},
   "cell_type": "markdown",
   "metadata": {},
   "source": [
    "## ⛏️ DexRay - Enbedding\n",
    "\n",
    "Notebook to genreate feature vectors the images using the DexRay pretrained model (removing the last layer)."
   ]
  },
  {
   "cell_type": "code",
   "execution_count": null,
   "metadata": {},
   "outputs": [],
   "source": [
    "# IMPORT\n",
    "from   tqdm       import tqdm\n",
    "import pandas     as pd\n",
    "import tensorflow as tf\n",
    "import os\n",
    "\n",
    "import Dexray"
   ]
  },
  {
   "cell_type": "code",
   "execution_count": null,
   "metadata": {},
   "outputs": [],
   "source": [
    "# Initialize TQDM library for Pandas\n",
    "tqdm.pandas()"
   ]
  },
  {
   "cell_type": "code",
   "execution_count": null,
   "metadata": {},
   "outputs": [],
   "source": [
    "print(\"⚡ START ⚡\")"
   ]
  },
  {
   "cell_type": "markdown",
   "metadata": {},
   "source": [
    "### Parameters"
   ]
  },
  {
   "cell_type": "code",
   "execution_count": null,
   "metadata": {},
   "outputs": [],
   "source": [
    "# Ground-Truth Dataset\n",
    "INPUT_PATH  = \"../../../../0_Data/CSV/0_AndroCatSet.csv\"\n",
    "\n",
    "# Output Path\n",
    "OUTPUT_PATH = \"../TMP/3b_DexrayData.csv\"\n",
    "\n",
    "TMP_PATH = \"../TMP\"\n",
    "if not os.path.exists(TMP_PATH):\n",
    "    os.makedirs(TMP_PATH)\n",
    "    print(\"📁🆕 Folder created       :\", TMP_PATH)\n",
    "else:\n",
    "    print(\"📁✅ Folder already exists:\", TMP_PATH)"
   ]
  },
  {
   "attachments": {},
   "cell_type": "markdown",
   "metadata": {},
   "source": [
    "### 1. Load Data"
   ]
  },
  {
   "cell_type": "code",
   "execution_count": null,
   "metadata": {},
   "outputs": [],
   "source": [
    "appsDF = pd.read_csv(INPUT_PATH,index_col=False)\n",
    "print(\"#️⃣   APPS: {}\".format(appsDF.shape[0]))\n",
    "\n",
    "appsDF = appsDF.loc[:,['sha256','classID']]"
   ]
  },
  {
   "attachments": {},
   "cell_type": "markdown",
   "metadata": {},
   "source": [
    "### 2. Embedding"
   ]
  },
  {
   "attachments": {},
   "cell_type": "markdown",
   "metadata": {},
   "source": [
    "Load the pretrained model and remove the last layer."
   ]
  },
  {
   "cell_type": "code",
   "execution_count": null,
   "metadata": {},
   "outputs": [],
   "source": [
    "# Load the Pretrained Model\n",
    "MODEL_PATH = \"./dexrayModel\"\n",
    "loadedModel = tf.keras.models.load_model(MODEL_PATH, compile=False)\n",
    "#loadedModel.summary()\n",
    "\n",
    "# Remove the last layer\n",
    "model = tf.keras.models.Sequential()\n",
    "for layer in loadedModel.layers[:-1]:  # Exclude the last layer you want to remove\n",
    "    model.add(layer)\n",
    "\n",
    "# model.summary()\n",
    "\n",
    "# Print the input shape\n",
    "#print('Input shape:', model.layers[0] .input_shape)"
   ]
  },
  {
   "attachments": {},
   "cell_type": "markdown",
   "metadata": {},
   "source": [
    "### 3. Load Images and trasform to Tensors"
   ]
  },
  {
   "cell_type": "code",
   "execution_count": null,
   "metadata": {},
   "outputs": [],
   "source": [
    "# Path Images\n",
    "IMAGES_PATH = \"../TMP/DexrayImages/\"\n",
    "\n",
    "print(\"⛏️ Loading the DexRay images as TF Tensors\")\n",
    "appsDF['imgFeatures'] = appsDF.progress_apply(lambda row: Dexray.getImgFeatures(row['sha256'], IMAGES_PATH), axis=1)"
   ]
  },
  {
   "attachments": {},
   "cell_type": "markdown",
   "metadata": {},
   "source": [
    "Embed the Images using the pretrained model"
   ]
  },
  {
   "cell_type": "code",
   "execution_count": null,
   "metadata": {},
   "outputs": [],
   "source": [
    "print(\"⛏️ Encode Images using the pretrained DexRay Model\")\n",
    "appsDF['features'] = appsDF['imgFeatures'].progress_apply(Dexray.encodeImg,args={model})\n",
    "\n",
    "# Filter\n",
    "appsDF = appsDF.loc[:,['sha256','classID','features']]"
   ]
  },
  {
   "cell_type": "code",
   "execution_count": null,
   "metadata": {},
   "outputs": [],
   "source": [
    "print(\"⛏️ Reorganizing features as lists\")\n",
    "appsDF['features'] = appsDF['features'].progress_apply(lambda x: x.tolist()[0])"
   ]
  },
  {
   "attachments": {},
   "cell_type": "markdown",
   "metadata": {},
   "source": [
    "### 4. Save everything to CSV"
   ]
  },
  {
   "cell_type": "code",
   "execution_count": null,
   "metadata": {},
   "outputs": [],
   "source": [
    "# Save the result\n",
    "appsDF.to_csv(OUTPUT_PATH, index=False)\n",
    "appsDF.head(5)"
   ]
  },
  {
   "cell_type": "code",
   "execution_count": null,
   "metadata": {},
   "outputs": [],
   "source": [
    "print(\"\\n🔚 END \\n\")"
   ]
  }
 ],
 "metadata": {
  "kernelspec": {
   "display_name": "Python 3",
   "language": "python",
   "name": "python3"
  },
  "language_info": {
   "codemirror_mode": {
    "name": "ipython",
    "version": 3
   },
   "file_extension": ".py",
   "mimetype": "text/x-python",
   "name": "python",
   "nbconvert_exporter": "python",
   "pygments_lexer": "ipython3",
   "version": "3.8.10"
  },
  "orig_nbformat": 4,
  "vscode": {
   "interpreter": {
    "hash": "31f2aee4e71d21fbe5cf8b01ff0e069b9275f58929596ceb00d14d90e3e16cd6"
   }
  }
 },
 "nbformat": 4,
 "nbformat_minor": 2
}
