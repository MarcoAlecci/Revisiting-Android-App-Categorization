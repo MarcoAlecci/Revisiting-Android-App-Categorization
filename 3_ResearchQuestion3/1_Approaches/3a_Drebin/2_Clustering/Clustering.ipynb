{
 "cells": [
  {
   "attachments": {},
   "cell_type": "markdown",
   "metadata": {},
   "source": [
    "## ⛏️ Drebin - Clustering\n",
    "\n",
    "Notebook to cluster applications using KMeans and the features extracted using Drebin."
   ]
  },
  {
   "cell_type": "markdown",
   "metadata": {},
   "source": [
    "### Imports"
   ]
  },
  {
   "cell_type": "code",
   "execution_count": 1,
   "metadata": {},
   "outputs": [],
   "source": [
    "# IMPORT\n",
    "from    sklearn.metrics             import adjusted_rand_score\n",
    "from    sklearn.feature_selection   import VarianceThreshold\n",
    "from    sklearn.decomposition       import PCA\n",
    "from    sklearn.decomposition       import SparsePCA\n",
    "from    sklearn.cluster             import KMeans\n",
    "from    tqdm                        import tqdm\n",
    "import  pandas                      as pd\n",
    "import  numpy                       as np\n",
    "import  ast"
   ]
  },
  {
   "cell_type": "code",
   "execution_count": 2,
   "metadata": {},
   "outputs": [],
   "source": [
    "# Initialize TQDM library for Pandas\n",
    "tqdm.pandas()"
   ]
  },
  {
   "cell_type": "code",
   "execution_count": 3,
   "metadata": {},
   "outputs": [
    {
     "name": "stdout",
     "output_type": "stream",
     "text": [
      "⚡ START \n"
     ]
    }
   ],
   "source": [
    "print(\"⚡ START \")"
   ]
  },
  {
   "cell_type": "markdown",
   "metadata": {},
   "source": [
    "#### Parameters"
   ]
  },
  {
   "cell_type": "code",
   "execution_count": 4,
   "metadata": {},
   "outputs": [],
   "source": [
    "# Where to temporarily store APK Files\n",
    "APK_PATH    = \"../../../0_Data/APKS/\"\n",
    "\n",
    "# Ground-Truth Dataset\n",
    "INPUT_PATH  = \"../TMP/3a_DrebinData.csv\"\n",
    "\n",
    "# Output Path\n",
    "OUTPUT_PATH = \"../3a_DrebinClusteringLabels.csv\""
   ]
  },
  {
   "cell_type": "code",
   "execution_count": 5,
   "metadata": {},
   "outputs": [],
   "source": [
    "RANDOM_SEED = 151836"
   ]
  },
  {
   "cell_type": "markdown",
   "metadata": {},
   "source": [
    "### 1. Load Data"
   ]
  },
  {
   "cell_type": "code",
   "execution_count": 6,
   "metadata": {},
   "outputs": [
    {
     "name": "stdout",
     "output_type": "stream",
     "text": [
      "#️⃣ Apps: 3\n"
     ]
    },
    {
     "data": {
      "text/html": [
       "<div>\n",
       "<style scoped>\n",
       "    .dataframe tbody tr th:only-of-type {\n",
       "        vertical-align: middle;\n",
       "    }\n",
       "\n",
       "    .dataframe tbody tr th {\n",
       "        vertical-align: top;\n",
       "    }\n",
       "\n",
       "    .dataframe thead th {\n",
       "        text-align: right;\n",
       "    }\n",
       "</style>\n",
       "<table border=\"1\" class=\"dataframe\">\n",
       "  <thead>\n",
       "    <tr style=\"text-align: right;\">\n",
       "      <th></th>\n",
       "      <th>sha256</th>\n",
       "      <th>pkgName</th>\n",
       "      <th>classID</th>\n",
       "      <th>googlePlayCategoryID</th>\n",
       "      <th>googlePlayDescription</th>\n",
       "      <th>drebinFeatures</th>\n",
       "    </tr>\n",
       "  </thead>\n",
       "  <tbody>\n",
       "    <tr>\n",
       "      <th>0</th>\n",
       "      <td>9B30837BD2474AC3623A43D052F7ADC4C63E4AA9981F0F...</td>\n",
       "      <td>my.android.calc</td>\n",
       "      <td>Calculator</td>\n",
       "      <td>TOOLS</td>\n",
       "      <td>Handiness universal percentage calculator for ...</td>\n",
       "      <td>[1, 0, 0, 1, 1, 1, 1, 0, 0, 0, 0, 0, 0, 0, 0, ...</td>\n",
       "    </tr>\n",
       "    <tr>\n",
       "      <th>1</th>\n",
       "      <td>686DE8D8A0D08992CB135BC7A0500D0109D9697A1140B8...</td>\n",
       "      <td>com.vpn.basiccalculator</td>\n",
       "      <td>Calculator</td>\n",
       "      <td>TOOLS</td>\n",
       "      <td>CITIZEN CALCULATOR by ANGEL NX is best Mobile ...</td>\n",
       "      <td>[1, 0, 0, 0, 0, 0, 0, 1, 1, 1, 1, 1, 1, 0, 0, ...</td>\n",
       "    </tr>\n",
       "    <tr>\n",
       "      <th>2</th>\n",
       "      <td>A49864DCC90F6730569455BDFA39B4B7CF70AE0C34D656...</td>\n",
       "      <td>com.ba.fractioncalculator</td>\n",
       "      <td>Calculator</td>\n",
       "      <td>EDUCATION</td>\n",
       "      <td>&lt;b&gt;Free offline fraction calculator&lt;/b&gt; ✌, sup...</td>\n",
       "      <td>[1, 1, 1, 1, 1, 1, 0, 0, 0, 0, 0, 0, 0, 1, 1, ...</td>\n",
       "    </tr>\n",
       "  </tbody>\n",
       "</table>\n",
       "</div>"
      ],
      "text/plain": [
       "                                              sha256  \\\n",
       "0  9B30837BD2474AC3623A43D052F7ADC4C63E4AA9981F0F...   \n",
       "1  686DE8D8A0D08992CB135BC7A0500D0109D9697A1140B8...   \n",
       "2  A49864DCC90F6730569455BDFA39B4B7CF70AE0C34D656...   \n",
       "\n",
       "                     pkgName     classID googlePlayCategoryID  \\\n",
       "0            my.android.calc  Calculator                TOOLS   \n",
       "1    com.vpn.basiccalculator  Calculator                TOOLS   \n",
       "2  com.ba.fractioncalculator  Calculator            EDUCATION   \n",
       "\n",
       "                               googlePlayDescription  \\\n",
       "0  Handiness universal percentage calculator for ...   \n",
       "1  CITIZEN CALCULATOR by ANGEL NX is best Mobile ...   \n",
       "2  <b>Free offline fraction calculator</b> ✌, sup...   \n",
       "\n",
       "                                      drebinFeatures  \n",
       "0  [1, 0, 0, 1, 1, 1, 1, 0, 0, 0, 0, 0, 0, 0, 0, ...  \n",
       "1  [1, 0, 0, 0, 0, 0, 0, 1, 1, 1, 1, 1, 1, 0, 0, ...  \n",
       "2  [1, 1, 1, 1, 1, 1, 0, 0, 0, 0, 0, 0, 0, 1, 1, ...  "
      ]
     },
     "execution_count": 6,
     "metadata": {},
     "output_type": "execute_result"
    }
   ],
   "source": [
    "appsDF = pd.read_csv(INPUT_PATH, index_col=False)\n",
    "print(\"#️⃣ Apps: {}\".format(appsDF.shape[0]))\n",
    "\n",
    "appsDF.head(3)"
   ]
  },
  {
   "cell_type": "code",
   "execution_count": 7,
   "metadata": {},
   "outputs": [
    {
     "name": "stdout",
     "output_type": "stream",
     "text": [
      "\n",
      "🔨 Reading data as lists\n"
     ]
    },
    {
     "name": "stderr",
     "output_type": "stream",
     "text": [
      "100%|██████████| 3/3 [00:00<00:00, 4746.48it/s]\n"
     ]
    }
   ],
   "source": [
    "print(\"\\n🔨 Reading data as lists\")\n",
    "appsDF['drebinFeatures'] = appsDF['drebinFeatures'].progress_apply(ast.literal_eval)    "
   ]
  },
  {
   "attachments": {},
   "cell_type": "markdown",
   "metadata": {},
   "source": [
    "### Clustering - KMeans"
   ]
  },
  {
   "cell_type": "code",
   "execution_count": 8,
   "metadata": {},
   "outputs": [],
   "source": [
    "def getARIscore(clusteringLabels):\n",
    "    ariScore = adjusted_rand_score(appsDF[\"classID\"].values, clusteringLabels)\n",
    "    print(\"🎯 ARI: {:.4f}\".format(ariScore))\n",
    "    return"
   ]
  },
  {
   "cell_type": "code",
   "execution_count": 9,
   "metadata": {},
   "outputs": [],
   "source": [
    "# Parameters\n",
    "NUM_CLUSTERS = 50"
   ]
  },
  {
   "attachments": {},
   "cell_type": "markdown",
   "metadata": {},
   "source": [
    "Baseline"
   ]
  },
  {
   "cell_type": "code",
   "execution_count": 10,
   "metadata": {},
   "outputs": [
    {
     "name": "stdout",
     "output_type": "stream",
     "text": [
      "\n",
      "⭐ KMeans baseline\n",
      "📐 Len features: 54\n",
      "🎯 ARI: 0.0000\n"
     ]
    }
   ],
   "source": [
    "print(\"\\n⭐ KMeans baseline\")\n",
    "\n",
    "featuresArray = np.array(appsDF['drebinFeatures'].to_list())\n",
    "print(\"📐 Len features: {}\".format(len(featuresArray[0])))\n",
    "\n",
    "# Apply K-means clustering with 5 clusters\n",
    "kmeans = KMeans(n_clusters = NUM_CLUSTERS, init='k-means++', max_iter=300, n_init='auto', random_state=RANDOM_SEED)\n",
    "kmeans.fit(featuresArray)\n",
    "\n",
    "clusteringLabels = kmeans.labels_\n",
    "getARIscore(clusteringLabels)"
   ]
  },
  {
   "attachments": {},
   "cell_type": "markdown",
   "metadata": {},
   "source": [
    "Kmeans + PCA"
   ]
  },
  {
   "cell_type": "code",
   "execution_count": 16,
   "metadata": {},
   "outputs": [],
   "source": [
    "# print(\"\\n⭐ KMeans + PCA\")\n",
    "\n",
    "# pca = PCA(random_state = RANDOM_SEED)\n",
    "\n",
    "# filteredFeaturesArray = pca.fit_transform(featuresArray)\n",
    "# print(\"📐 Len features: {}\".format(len(filteredFeaturesArray[0])))\n",
    "\n",
    "# # Apply K-means clustering with clusters\n",
    "# kmeansPCA = KMeans(n_clusters = NUM_CLUSTERS, init='k-means++', max_iter=300, n_init='auto', random_state=RANDOM_SEED)\n",
    "# kmeansPCA.fit(filteredFeaturesArray)\n",
    "\n",
    "# ariScore = getARIscore(kmeansPCA.labels_)\n",
    "# print(\"ARI: {}\".format(ariScore))"
   ]
  },
  {
   "attachments": {},
   "cell_type": "markdown",
   "metadata": {},
   "source": [
    "### 3. Save everything."
   ]
  },
  {
   "cell_type": "code",
   "execution_count": 21,
   "metadata": {},
   "outputs": [],
   "source": [
    "# Save the labels into the Pandas DF\n",
    "appsDF = appsDF.loc[:, ['sha256']]\n",
    "appsDF['clusterID'] = clusteringLabels"
   ]
  },
  {
   "cell_type": "code",
   "execution_count": 22,
   "metadata": {},
   "outputs": [
    {
     "data": {
      "text/html": [
       "<div>\n",
       "<style scoped>\n",
       "    .dataframe tbody tr th:only-of-type {\n",
       "        vertical-align: middle;\n",
       "    }\n",
       "\n",
       "    .dataframe tbody tr th {\n",
       "        vertical-align: top;\n",
       "    }\n",
       "\n",
       "    .dataframe thead th {\n",
       "        text-align: right;\n",
       "    }\n",
       "</style>\n",
       "<table border=\"1\" class=\"dataframe\">\n",
       "  <thead>\n",
       "    <tr style=\"text-align: right;\">\n",
       "      <th></th>\n",
       "      <th>sha256</th>\n",
       "      <th>clusterID</th>\n",
       "    </tr>\n",
       "  </thead>\n",
       "  <tbody>\n",
       "    <tr>\n",
       "      <th>0</th>\n",
       "      <td>9B30837BD2474AC3623A43D052F7ADC4C63E4AA9981F0F...</td>\n",
       "      <td>2</td>\n",
       "    </tr>\n",
       "    <tr>\n",
       "      <th>1</th>\n",
       "      <td>686DE8D8A0D08992CB135BC7A0500D0109D9697A1140B8...</td>\n",
       "      <td>1</td>\n",
       "    </tr>\n",
       "    <tr>\n",
       "      <th>2</th>\n",
       "      <td>A49864DCC90F6730569455BDFA39B4B7CF70AE0C34D656...</td>\n",
       "      <td>0</td>\n",
       "    </tr>\n",
       "  </tbody>\n",
       "</table>\n",
       "</div>"
      ],
      "text/plain": [
       "                                              sha256  clusterID\n",
       "0  9B30837BD2474AC3623A43D052F7ADC4C63E4AA9981F0F...          2\n",
       "1  686DE8D8A0D08992CB135BC7A0500D0109D9697A1140B8...          1\n",
       "2  A49864DCC90F6730569455BDFA39B4B7CF70AE0C34D656...          0"
      ]
     },
     "execution_count": 22,
     "metadata": {},
     "output_type": "execute_result"
    }
   ],
   "source": [
    "# Save the result\n",
    "appsDF.to_csv(OUTPUT_PATH,index=False)\n",
    "appsDF"
   ]
  },
  {
   "cell_type": "code",
   "execution_count": 23,
   "metadata": {},
   "outputs": [
    {
     "name": "stdout",
     "output_type": "stream",
     "text": [
      "\n",
      "🔚 END \n",
      "\n"
     ]
    }
   ],
   "source": [
    "print(\"\\n🔚 END \\n\")"
   ]
  }
 ],
 "metadata": {
  "kernelspec": {
   "display_name": "Python 3",
   "language": "python",
   "name": "python3"
  },
  "language_info": {
   "codemirror_mode": {
    "name": "ipython",
    "version": 3
   },
   "file_extension": ".py",
   "mimetype": "text/x-python",
   "name": "python",
   "nbconvert_exporter": "python",
   "pygments_lexer": "ipython3",
   "version": "3.8.10"
  },
  "orig_nbformat": 4,
  "vscode": {
   "interpreter": {
    "hash": "31f2aee4e71d21fbe5cf8b01ff0e069b9275f58929596ceb00d14d90e3e16cd6"
   }
  }
 },
 "nbformat": 4,
 "nbformat_minor": 2
}
